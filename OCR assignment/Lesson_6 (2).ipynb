{
 "cells": [
  {
   "cell_type": "code",
   "execution_count": 1,
   "metadata": {
    "height": 64
   },
   "outputs": [],
   "source": [
    "import os\n",
    "from dotenv import load_dotenv\n",
    "from openai import OpenAI"
   ]
  },
  {
   "cell_type": "code",
   "execution_count": 2,
   "metadata": {
    "height": 81
   },
   "outputs": [],
   "source": [
    "# Get the OpenAI API key from the .env file\n",
    "load_dotenv('.env', override=True)\n",
    "openai_api_key = os.getenv('OPENAI_API_KEY')\n",
    "client = OpenAI(api_key = openai_api_key)"
   ]
  },
  {
   "cell_type": "code",
   "execution_count": 3,
   "metadata": {
    "height": 251
   },
   "outputs": [],
   "source": [
    "def get_llm_response(prompt):\n",
    "    completion = client.chat.completions.create(\n",
    "        model=\"gpt-4o-mini\",\n",
    "        messages=[\n",
    "            {\n",
    "                \"role\": \"system\",\n",
    "                \"content\": \"You are an AI assistant.\",\n",
    "            },\n",
    "            {\"role\": \"user\", \"content\": prompt},\n",
    "        ],\n",
    "        temperature=0.0,\n",
    "    )\n",
    "    response = completion.choices[0].message.content\n",
    "    return response"
   ]
  },
  {
   "cell_type": "code",
   "execution_count": 4,
   "metadata": {
    "height": 30
   },
   "outputs": [
    {
     "name": "stdout",
     "output_type": "stream",
     "text": [
      "Collecting pypdf\n",
      "  Downloading pypdf-6.0.0-py3-none-any.whl.metadata (7.1 kB)\n",
      "Requirement already satisfied: typing_extensions>=4.0 in /usr/local/lib/python3.9/site-packages (from pypdf) (4.11.0)\n",
      "Downloading pypdf-6.0.0-py3-none-any.whl (310 kB)\n",
      "\u001b[2K   \u001b[90m━━━━━━━━━━━━━━━━━━━━━━━━━━━━━━━━━━━━━━━━\u001b[0m \u001b[32m310.5/310.5 kB\u001b[0m \u001b[31m14.3 MB/s\u001b[0m eta \u001b[36m0:00:00\u001b[0m\n",
      "\u001b[?25hInstalling collected packages: pypdf\n",
      "Successfully installed pypdf-6.0.0\n",
      "\n",
      "\u001b[1m[\u001b[0m\u001b[34;49mnotice\u001b[0m\u001b[1;39;49m]\u001b[0m\u001b[39;49m A new release of pip is available: \u001b[0m\u001b[31;49m24.0\u001b[0m\u001b[39;49m -> \u001b[0m\u001b[32;49m25.2\u001b[0m\n",
      "\u001b[1m[\u001b[0m\u001b[34;49mnotice\u001b[0m\u001b[1;39;49m]\u001b[0m\u001b[39;49m To update, run: \u001b[0m\u001b[32;49mpip install --upgrade pip\u001b[0m\n",
      "Note: you may need to restart the kernel to use updated packages.\n"
     ]
    }
   ],
   "source": [
    "pip install pypdf"
   ]
  },
  {
   "cell_type": "code",
   "execution_count": 20,
   "metadata": {
    "height": 30
   },
   "outputs": [
    {
     "name": "stdout",
     "output_type": "stream",
     "text": [
      "Requirement already satisfied: pdfplumber in /usr/local/lib/python3.9/site-packages (0.11.7)\n",
      "Requirement already satisfied: pdfminer.six==20250506 in /usr/local/lib/python3.9/site-packages (from pdfplumber) (20250506)\n",
      "Requirement already satisfied: Pillow>=9.1 in /usr/local/lib/python3.9/site-packages (from pdfplumber) (11.3.0)\n",
      "Requirement already satisfied: pypdfium2>=4.18.0 in /usr/local/lib/python3.9/site-packages (from pdfplumber) (4.30.0)\n",
      "Requirement already satisfied: charset-normalizer>=2.0.0 in /usr/local/lib/python3.9/site-packages (from pdfminer.six==20250506->pdfplumber) (3.3.2)\n",
      "Requirement already satisfied: cryptography>=36.0.0 in /usr/local/lib/python3.9/site-packages (from pdfminer.six==20250506->pdfplumber) (45.0.7)\n",
      "Requirement already satisfied: cffi>=1.14 in /usr/local/lib/python3.9/site-packages (from cryptography>=36.0.0->pdfminer.six==20250506->pdfplumber) (1.16.0)\n",
      "Requirement already satisfied: pycparser in /usr/local/lib/python3.9/site-packages (from cffi>=1.14->cryptography>=36.0.0->pdfminer.six==20250506->pdfplumber) (2.22)\n",
      "\n",
      "\u001b[1m[\u001b[0m\u001b[34;49mnotice\u001b[0m\u001b[1;39;49m]\u001b[0m\u001b[39;49m A new release of pip is available: \u001b[0m\u001b[31;49m24.0\u001b[0m\u001b[39;49m -> \u001b[0m\u001b[32;49m25.2\u001b[0m\n",
      "\u001b[1m[\u001b[0m\u001b[34;49mnotice\u001b[0m\u001b[1;39;49m]\u001b[0m\u001b[39;49m To update, run: \u001b[0m\u001b[32;49mpip install --upgrade pip\u001b[0m\n",
      "Note: you may need to restart the kernel to use updated packages.\n"
     ]
    }
   ],
   "source": [
    "pip install pdfplumber"
   ]
  },
  {
   "cell_type": "code",
   "execution_count": 5,
   "metadata": {
    "height": 47
   },
   "outputs": [
    {
     "name": "stdout",
     "output_type": "stream",
     "text": [
      "Collecting pymupdf\n",
      "  Downloading pymupdf-1.26.4-cp39-abi3-manylinux_2_28_x86_64.whl.metadata (3.4 kB)\n",
      "Downloading pymupdf-1.26.4-cp39-abi3-manylinux_2_28_x86_64.whl (24.1 MB)\n",
      "\u001b[2K   \u001b[90m━━━━━━━━━━━━━━━━━━━━━━━━━━━━━━━━━━━━━━━━\u001b[0m \u001b[32m24.1/24.1 MB\u001b[0m \u001b[31m57.2 MB/s\u001b[0m eta \u001b[36m0:00:00\u001b[0m00:01\u001b[0m00:01\u001b[0mm\n",
      "\u001b[?25hInstalling collected packages: pymupdf\n",
      "Successfully installed pymupdf-1.26.4\n",
      "\n",
      "\u001b[1m[\u001b[0m\u001b[34;49mnotice\u001b[0m\u001b[1;39;49m]\u001b[0m\u001b[39;49m A new release of pip is available: \u001b[0m\u001b[31;49m24.0\u001b[0m\u001b[39;49m -> \u001b[0m\u001b[32;49m25.2\u001b[0m\n",
      "\u001b[1m[\u001b[0m\u001b[34;49mnotice\u001b[0m\u001b[1;39;49m]\u001b[0m\u001b[39;49m To update, run: \u001b[0m\u001b[32;49mpip install --upgrade pip\u001b[0m\n",
      "Note: you may need to restart the kernel to use updated packages.\n"
     ]
    }
   ],
   "source": [
    "pip install pymupdf\n"
   ]
  },
  {
   "cell_type": "code",
   "execution_count": 6,
   "metadata": {
    "height": 30
   },
   "outputs": [
    {
     "name": "stdout",
     "output_type": "stream",
     "text": [
      "Collecting pytesseract\n",
      "  Downloading pytesseract-0.3.13-py3-none-any.whl.metadata (11 kB)\n",
      "Requirement already satisfied: pillow in /usr/local/lib/python3.9/site-packages (11.3.0)\n",
      "Requirement already satisfied: packaging>=21.3 in /usr/local/lib/python3.9/site-packages (from pytesseract) (23.2)\n",
      "Downloading pytesseract-0.3.13-py3-none-any.whl (14 kB)\n",
      "Installing collected packages: pytesseract\n",
      "Successfully installed pytesseract-0.3.13\n",
      "\n",
      "\u001b[1m[\u001b[0m\u001b[34;49mnotice\u001b[0m\u001b[1;39;49m]\u001b[0m\u001b[39;49m A new release of pip is available: \u001b[0m\u001b[31;49m24.0\u001b[0m\u001b[39;49m -> \u001b[0m\u001b[32;49m25.2\u001b[0m\n",
      "\u001b[1m[\u001b[0m\u001b[34;49mnotice\u001b[0m\u001b[1;39;49m]\u001b[0m\u001b[39;49m To update, run: \u001b[0m\u001b[32;49mpip install --upgrade pip\u001b[0m\n",
      "Note: you may need to restart the kernel to use updated packages.\n"
     ]
    }
   ],
   "source": [
    "%pip install pytesseract pillow"
   ]
  },
  {
   "cell_type": "code",
   "execution_count": 7,
   "metadata": {
    "height": 30
   },
   "outputs": [
    {
     "name": "stdout",
     "output_type": "stream",
     "text": [
      "Collecting pdfplumber\n",
      "  Downloading pdfplumber-0.11.7-py3-none-any.whl.metadata (42 kB)\n",
      "\u001b[2K     \u001b[90m━━━━━━━━━━━━━━━━━━━━━━━━━━━━━━━━━━━━━━━━\u001b[0m \u001b[32m42.8/42.8 kB\u001b[0m \u001b[31m3.2 MB/s\u001b[0m eta \u001b[36m0:00:00\u001b[0m\n",
      "\u001b[?25hRequirement already satisfied: openai in /usr/local/lib/python3.9/site-packages (1.93.0)\n",
      "Requirement already satisfied: python-dotenv in /usr/local/lib/python3.9/site-packages (1.0.1)\n",
      "Requirement already satisfied: ipywidgets in /usr/local/lib/python3.9/site-packages (8.1.5)\n",
      "Collecting pdfminer.six==20250506 (from pdfplumber)\n",
      "  Downloading pdfminer_six-20250506-py3-none-any.whl.metadata (4.2 kB)\n",
      "Requirement already satisfied: Pillow>=9.1 in /usr/local/lib/python3.9/site-packages (from pdfplumber) (11.3.0)\n",
      "Collecting pypdfium2>=4.18.0 (from pdfplumber)\n",
      "  Downloading pypdfium2-4.30.0-py3-none-manylinux_2_17_x86_64.manylinux2014_x86_64.whl.metadata (48 kB)\n",
      "\u001b[2K     \u001b[90m━━━━━━━━━━━━━━━━━━━━━━━━━━━━━━━━━━━━━━━━\u001b[0m \u001b[32m48.5/48.5 kB\u001b[0m \u001b[31m7.1 MB/s\u001b[0m eta \u001b[36m0:00:00\u001b[0m\n",
      "\u001b[?25hRequirement already satisfied: charset-normalizer>=2.0.0 in /usr/local/lib/python3.9/site-packages (from pdfminer.six==20250506->pdfplumber) (3.3.2)\n",
      "Collecting cryptography>=36.0.0 (from pdfminer.six==20250506->pdfplumber)\n",
      "  Downloading cryptography-45.0.7-cp37-abi3-manylinux_2_34_x86_64.whl.metadata (5.7 kB)\n",
      "Requirement already satisfied: anyio<5,>=3.5.0 in /usr/local/lib/python3.9/site-packages (from openai) (3.7.1)\n",
      "Requirement already satisfied: distro<2,>=1.7.0 in /usr/local/lib/python3.9/site-packages (from openai) (1.9.0)\n",
      "Requirement already satisfied: httpx<1,>=0.23.0 in /usr/local/lib/python3.9/site-packages (from openai) (0.27.0)\n",
      "Requirement already satisfied: jiter<1,>=0.4.0 in /usr/local/lib/python3.9/site-packages (from openai) (0.10.0)\n",
      "Requirement already satisfied: pydantic<3,>=1.9.0 in /usr/local/lib/python3.9/site-packages (from openai) (2.8.2)\n",
      "Requirement already satisfied: sniffio in /usr/local/lib/python3.9/site-packages (from openai) (1.3.1)\n",
      "Requirement already satisfied: tqdm>4 in /usr/local/lib/python3.9/site-packages (from openai) (4.66.1)\n",
      "Requirement already satisfied: typing-extensions<5,>=4.11 in /usr/local/lib/python3.9/site-packages (from openai) (4.11.0)\n",
      "Requirement already satisfied: comm>=0.1.3 in /usr/local/lib/python3.9/site-packages (from ipywidgets) (0.2.2)\n",
      "Requirement already satisfied: ipython>=6.1.0 in /usr/local/lib/python3.9/site-packages (from ipywidgets) (8.18.1)\n",
      "Requirement already satisfied: traitlets>=4.3.1 in /usr/local/lib/python3.9/site-packages (from ipywidgets) (5.9.0)\n",
      "Requirement already satisfied: widgetsnbextension~=4.0.12 in /usr/local/lib/python3.9/site-packages (from ipywidgets) (4.0.13)\n",
      "Requirement already satisfied: jupyterlab-widgets~=3.0.12 in /usr/local/lib/python3.9/site-packages (from ipywidgets) (3.0.13)\n",
      "Requirement already satisfied: idna>=2.8 in /usr/local/lib/python3.9/site-packages (from anyio<5,>=3.5.0->openai) (3.7)\n",
      "Requirement already satisfied: exceptiongroup in /usr/local/lib/python3.9/site-packages (from anyio<5,>=3.5.0->openai) (1.2.2)\n",
      "Requirement already satisfied: certifi in /usr/local/lib/python3.9/site-packages (from httpx<1,>=0.23.0->openai) (2024.2.2)\n",
      "Requirement already satisfied: httpcore==1.* in /usr/local/lib/python3.9/site-packages (from httpx<1,>=0.23.0->openai) (1.0.5)\n",
      "Requirement already satisfied: h11<0.15,>=0.13 in /usr/local/lib/python3.9/site-packages (from httpcore==1.*->httpx<1,>=0.23.0->openai) (0.14.0)\n",
      "Requirement already satisfied: decorator in /usr/local/lib/python3.9/site-packages (from ipython>=6.1.0->ipywidgets) (5.1.1)\n",
      "Requirement already satisfied: jedi>=0.16 in /usr/local/lib/python3.9/site-packages (from ipython>=6.1.0->ipywidgets) (0.19.1)\n",
      "Requirement already satisfied: matplotlib-inline in /usr/local/lib/python3.9/site-packages (from ipython>=6.1.0->ipywidgets) (0.1.7)\n",
      "Requirement already satisfied: prompt-toolkit<3.1.0,>=3.0.41 in /usr/local/lib/python3.9/site-packages (from ipython>=6.1.0->ipywidgets) (3.0.43)\n",
      "Requirement already satisfied: pygments>=2.4.0 in /usr/local/lib/python3.9/site-packages (from ipython>=6.1.0->ipywidgets) (2.17.2)\n",
      "Requirement already satisfied: stack-data in /usr/local/lib/python3.9/site-packages (from ipython>=6.1.0->ipywidgets) (0.6.3)\n",
      "Requirement already satisfied: pexpect>4.3 in /usr/local/lib/python3.9/site-packages (from ipython>=6.1.0->ipywidgets) (4.9.0)\n",
      "Requirement already satisfied: annotated-types>=0.4.0 in /usr/local/lib/python3.9/site-packages (from pydantic<3,>=1.9.0->openai) (0.7.0)\n",
      "Requirement already satisfied: pydantic-core==2.20.1 in /usr/local/lib/python3.9/site-packages (from pydantic<3,>=1.9.0->openai) (2.20.1)\n",
      "Requirement already satisfied: cffi>=1.14 in /usr/local/lib/python3.9/site-packages (from cryptography>=36.0.0->pdfminer.six==20250506->pdfplumber) (1.16.0)\n",
      "Requirement already satisfied: parso<0.9.0,>=0.8.3 in /usr/local/lib/python3.9/site-packages (from jedi>=0.16->ipython>=6.1.0->ipywidgets) (0.8.4)\n",
      "Requirement already satisfied: ptyprocess>=0.5 in /usr/local/lib/python3.9/site-packages (from pexpect>4.3->ipython>=6.1.0->ipywidgets) (0.7.0)\n",
      "Requirement already satisfied: wcwidth in /usr/local/lib/python3.9/site-packages (from prompt-toolkit<3.1.0,>=3.0.41->ipython>=6.1.0->ipywidgets) (0.2.13)\n",
      "Requirement already satisfied: executing>=1.2.0 in /usr/local/lib/python3.9/site-packages (from stack-data->ipython>=6.1.0->ipywidgets) (2.0.1)\n",
      "Requirement already satisfied: asttokens>=2.1.0 in /usr/local/lib/python3.9/site-packages (from stack-data->ipython>=6.1.0->ipywidgets) (2.4.1)\n",
      "Requirement already satisfied: pure-eval in /usr/local/lib/python3.9/site-packages (from stack-data->ipython>=6.1.0->ipywidgets) (0.2.2)\n",
      "Requirement already satisfied: six>=1.12.0 in /usr/local/lib/python3.9/site-packages (from asttokens>=2.1.0->stack-data->ipython>=6.1.0->ipywidgets) (1.16.0)\n",
      "Requirement already satisfied: pycparser in /usr/local/lib/python3.9/site-packages (from cffi>=1.14->cryptography>=36.0.0->pdfminer.six==20250506->pdfplumber) (2.22)\n",
      "Downloading pdfplumber-0.11.7-py3-none-any.whl (60 kB)\n",
      "\u001b[2K   \u001b[90m━━━━━━━━━━━━━━━━━━━━━━━━━━━━━━━━━━━━━━━━\u001b[0m \u001b[32m60.0/60.0 kB\u001b[0m \u001b[31m8.3 MB/s\u001b[0m eta \u001b[36m0:00:00\u001b[0m\n",
      "\u001b[?25hDownloading pdfminer_six-20250506-py3-none-any.whl (5.6 MB)\n",
      "\u001b[2K   \u001b[90m━━━━━━━━━━━━━━━━━━━━━━━━━━━━━━━━━━━━━━━━\u001b[0m \u001b[32m5.6/5.6 MB\u001b[0m \u001b[31m141.1 MB/s\u001b[0m eta \u001b[36m0:00:00\u001b[0m00:01\u001b[0m\n",
      "\u001b[?25hDownloading pypdfium2-4.30.0-py3-none-manylinux_2_17_x86_64.manylinux2014_x86_64.whl (2.8 MB)\n",
      "\u001b[2K   \u001b[90m━━━━━━━━━━━━━━━━━━━━━━━━━━━━━━━━━━━━━━━━\u001b[0m \u001b[32m2.8/2.8 MB\u001b[0m \u001b[31m162.4 MB/s\u001b[0m eta \u001b[36m0:00:00\u001b[0m\n",
      "\u001b[?25hDownloading cryptography-45.0.7-cp37-abi3-manylinux_2_34_x86_64.whl (4.4 MB)\n",
      "\u001b[2K   \u001b[90m━━━━━━━━━━━━━━━━━━━━━━━━━━━━━━━━━━━━━━━━\u001b[0m \u001b[32m4.4/4.4 MB\u001b[0m \u001b[31m175.7 MB/s\u001b[0m eta \u001b[36m0:00:00\u001b[0m\n",
      "\u001b[?25hInstalling collected packages: pypdfium2, cryptography, pdfminer.six, pdfplumber\n",
      "Successfully installed cryptography-45.0.7 pdfminer.six-20250506 pdfplumber-0.11.7 pypdfium2-4.30.0\n",
      "\n",
      "\u001b[1m[\u001b[0m\u001b[34;49mnotice\u001b[0m\u001b[1;39;49m]\u001b[0m\u001b[39;49m A new release of pip is available: \u001b[0m\u001b[31;49m24.0\u001b[0m\u001b[39;49m -> \u001b[0m\u001b[32;49m25.2\u001b[0m\n",
      "\u001b[1m[\u001b[0m\u001b[34;49mnotice\u001b[0m\u001b[1;39;49m]\u001b[0m\u001b[39;49m To update, run: \u001b[0m\u001b[32;49mpip install --upgrade pip\u001b[0m\n"
     ]
    }
   ],
   "source": [
    "!pip install pdfplumber openai python-dotenv ipywidgets"
   ]
  },
  {
   "cell_type": "code",
   "execution_count": 23,
   "metadata": {
    "height": 30
   },
   "outputs": [
    {
     "name": "stdout",
     "output_type": "stream",
     "text": [
      "Collecting PyPDF2\n",
      "  Downloading pypdf2-3.0.1-py3-none-any.whl.metadata (6.8 kB)\n",
      "Requirement already satisfied: typing_extensions>=3.10.0.0 in /usr/local/lib/python3.9/site-packages (from PyPDF2) (4.11.0)\n",
      "Downloading pypdf2-3.0.1-py3-none-any.whl (232 kB)\n",
      "\u001b[2K   \u001b[90m━━━━━━━━━━━━━━━━━━━━━━━━━━━━━━━━━━━━━━━━\u001b[0m \u001b[32m232.6/232.6 kB\u001b[0m \u001b[31m9.9 MB/s\u001b[0m eta \u001b[36m0:00:00\u001b[0m\n",
      "\u001b[?25hInstalling collected packages: PyPDF2\n",
      "Successfully installed PyPDF2-3.0.1\n",
      "\n",
      "\u001b[1m[\u001b[0m\u001b[34;49mnotice\u001b[0m\u001b[1;39;49m]\u001b[0m\u001b[39;49m A new release of pip is available: \u001b[0m\u001b[31;49m24.0\u001b[0m\u001b[39;49m -> \u001b[0m\u001b[32;49m25.2\u001b[0m\n",
      "\u001b[1m[\u001b[0m\u001b[34;49mnotice\u001b[0m\u001b[1;39;49m]\u001b[0m\u001b[39;49m To update, run: \u001b[0m\u001b[32;49mpip install --upgrade pip\u001b[0m\n"
     ]
    }
   ],
   "source": [
    "!pip install PyPDF2"
   ]
  },
  {
   "cell_type": "code",
   "execution_count": 24,
   "metadata": {
    "height": 81
   },
   "outputs": [],
   "source": [
    "import pdfplumber\n",
    "from PyPDF2 import PdfReader\n",
    "import ipywidgets as widgets\n",
    "from IPython.display import display"
   ]
  },
  {
   "cell_type": "code",
   "execution_count": 25,
   "metadata": {
    "height": 81
   },
   "outputs": [
    {
     "data": {
      "application/vnd.jupyter.widget-view+json": {
       "model_id": "a9b6659048694069a68bc5f6fcb953e1",
       "version_major": 2,
       "version_minor": 0
      },
      "text/plain": [
       "FileUpload(value=(), accept='.pdf', description='Upload')"
      ]
     },
     "metadata": {},
     "output_type": "display_data"
    }
   ],
   "source": [
    "# Step 2: File upload widget for Jupyter\n",
    "upload_widget = widgets.FileUpload(accept='.pdf', multiple=False)\n",
    "display(upload_widget)\n"
   ]
  },
  {
   "cell_type": "code",
   "execution_count": 26,
   "metadata": {
    "height": 183
   },
   "outputs": [],
   "source": [
    "# Step 3: Save uploaded PDF file locally\n",
    "def save_uploaded_file(upload_widget):\n",
    "    if upload_widget.value and len(upload_widget.value) > 0:\n",
    "        file_info = upload_widget.value[0]\n",
    "        file_name = file_info['name']\n",
    "        content = file_info['content']\n",
    "        with open(file_name, \"wb\") as f:\n",
    "            f.write(content)\n",
    "        return file_name\n",
    "    return None"
   ]
  },
  {
   "cell_type": "code",
   "execution_count": 27,
   "metadata": {
    "height": 64
   },
   "outputs": [
    {
     "name": "stdout",
     "output_type": "stream",
     "text": [
      "Saved file: AFP0080 SNAP-R Print (Works as Expected).pdf\n"
     ]
    }
   ],
   "source": [
    "# After uploading, run this cell manually\n",
    "file_path = save_uploaded_file(upload_widget)\n",
    "print(\"Saved file:\", file_path)"
   ]
  },
  {
   "cell_type": "code",
   "execution_count": null,
   "metadata": {
    "height": 166
   },
   "outputs": [],
   "source": [
    "# Step 4: Extract raw text from PDF using pdfplumber\n",
    "def extract_text_from_pdf(file_path):\n",
    "    text = \"\"\n",
    "    with pdfplumber.open(file_path) as pdf:\n",
    "        for page in pdf.pages:\n",
    "            page_text = page.extract_text()\n",
    "            if page_text:\n",
    "                text += page_text + \"\\n\"\n",
    "    return text"
   ]
  },
  {
   "cell_type": "code",
   "execution_count": 29,
   "metadata": {
    "height": 353
   },
   "outputs": [],
   "source": [
    "# Step 5: Extract form fields (includes radio buttons / checkboxes) using PyPDF2\n",
    "def extract_pdf_form_fields(file_path):\n",
    "    reader = PdfReader(file_path)\n",
    "    fields = reader.get_fields()\n",
    "    if fields:\n",
    "        result = {}\n",
    "        for key, val in fields.items():\n",
    "            # val can be a dictionary or direct value\n",
    "            if isinstance(val, dict):\n",
    "                value = val.get('/V') or val.get('/AS') or None\n",
    "                # Some values are NameObjects, convert to str ignoring '/'\n",
    "                if value and hasattr(value, 'original_bytes'):\n",
    "                    value = value.original_bytes.decode('utf-8')\n",
    "                if isinstance(value, str) and value.startswith('/'):\n",
    "                    value = value[1:]\n",
    "                result[key] = value\n",
    "            else:\n",
    "                result[key] = val\n",
    "        return result\n",
    "    return {}"
   ]
  },
  {
   "cell_type": "code",
   "execution_count": 30,
   "metadata": {
    "height": 200
   },
   "outputs": [],
   "source": [
    "# Step 6: OpenAI LLM call for JSON extraction from raw text\n",
    "def get_llm_response(prompt):\n",
    "    completion = client.chat.completions.create(\n",
    "        model=\"gpt-4o-mini\",\n",
    "        messages=[\n",
    "            {\"role\": \"system\", \"content\": \"You are an AI document parser. Output valid JSON only.\"},\n",
    "            {\"role\": \"user\", \"content\": prompt},\n",
    "        ],\n",
    "        temperature=0.0,\n",
    "    )\n",
    "    return completion.choices[0].message.content"
   ]
  },
  {
   "cell_type": "code",
   "execution_count": 41,
   "metadata": {
    "height": 744
   },
   "outputs": [],
   "source": [
    "# Step 7: Convert PDF text to JSON using LLM with given fields\n",
    "def pdf_text_to_json(raw_text):\n",
    "    form_fields = extract_pdf_form_fields(file_path)\n",
    "    raw_text = extract_text_from_pdf(file_path)\n",
    "\n",
    "    # Convert form fields dictionary into a string representation for the prompt\n",
    "    form_fields_str = \"\\n\".join([f\"{k}: {v}\" for k,v in form_fields.items()])\n",
    "\n",
    "    prompt = f\"\"\"\n",
    "You are a document parser. Your task is to convert the provided PDF text and form data\n",
    "into structured JSON.\n",
    "\n",
    "Rules:\n",
    "\n",
    "1. Include all fields in the output JSON, even if their value is empty or null.\n",
    "Understand the file structure.\n",
    "2. Input may contain checkbox fields, understand how it is represented.\n",
    "For checkboxes or radio buttons:\n",
    "   -Include only the items that are selected (marked with '✔' or similar).\n",
    "   - If no items in a checkbox/radio group are selected, set the field to null.\n",
    "   - Do NOT output boolean true/false for unselected items.\n",
    "   - Extract only the items that are marked as selected, indicated by a leading '✔' or similar mark.\n",
    "    - Ignore items without any selection mark.\n",
    "    - If no items are selected in a checklist, set it to null.\n",
    "    - Include only the items that are marked as selected, indicated by a leading '✔', or 'n' or similar mark.\n",
    "  - Do NOT output boolean true/false flags for items.\n",
    "  - If no items are selected in a checklist, set that checklist field to null.\n",
    "  - if checkbox is under different column in table, keep it under that column name. You have follow the structure.\n",
    "\n",
    "3. Split full names into 'FirstName' and 'LastName' if possible.\n",
    "4. Group logically related fields together.\n",
    "5. Output valid JSON only. No explanation, no extra text.\n",
    "6.Extract data if it is split into two coloumns and/or numbered columns data\n",
    "\n",
    "Here are the filled form fields (checkboxes, radios, etc.):\n",
    "\n",
    "{form_fields_str}\n",
    "\n",
    "Here is the extracted text from the PDF:\n",
    "\n",
    "{raw_text}\n",
    "\"\"\"\n",
    "    return get_llm_response(prompt)"
   ]
  },
  {
   "cell_type": "code",
   "execution_count": 42,
   "metadata": {
    "height": 319
   },
   "outputs": [
    {
     "name": "stdout",
     "output_type": "stream",
     "text": [
      "----- Extracted JSON from Text -----\n",
      "{\n",
      "  \"ExportLicenseApplication\": {\n",
      "    \"Status\": \"ACCEPTED\",\n",
      "    \"ContactInformation\": {\n",
      "      \"ReferenceNumber\": \"AFP0080\",\n",
      "      \"ContactPerson\": {\n",
      "        \"FirstName\": \"Zeljko\",\n",
      "        \"LastName\": \"Tolo\"\n",
      "      },\n",
      "      \"TelephoneNumber\": \"216-317-9273\",\n",
      "      \"FaxNumber\": null,\n",
      "      \"Email\": \"ztolo@aerofp.com\",\n",
      "      \"CreationDate\": \"06/19/2025\",\n",
      "      \"TypeOfApplication\": \"Export License Application\"\n",
      "    },\n",
      "    \"DocumentChecklist\": {\n",
      "      \"DocumentsSubmittedWithApplication\": [\n",
      "        \"Export Items (BIS-748P-A)\",\n",
      "        \"End Users (BIS-748P-B)\",\n",
      "        \"Import/End-User Certificate\",\n",
      "        \"Technical Specification\",\n",
      "        \"Letter of Explanation\"\n",
      "      ],\n",
      "      \"DocumentsOnFileWithApplicant\": [\n",
      "        \"BIS-711\",\n",
      "        \"Letter of Assurance\",\n",
      "        \"Nuclear Certification\"\n",
      "      ]\n",
      "    },\n",
      "    \"LicenseInformation\": {\n",
      "      \"SpecialPurpose\": \"Technology\",\n",
      "      \"ResubmissionACN\": null,\n",
      "      \"ReplacementLicenseNumber\": null,\n",
      "      \"ImportCertificateCountry\": null,\n",
      "      \"ImportCertificateNumber\": null\n",
      "    },\n",
      "    \"ApplicantInformation\": {\n",
      "      \"CIN\": \"A703543\",\n",
      "      \"Applicant\": \"Aero Fluid Products\",\n",
      "      \"Address\": {\n",
      "        \"Address1\": \"313 Gillett St.\",\n",
      "        \"Address2\": null,\n",
      "        \"City\": \"Painesville\",\n",
      "        \"Country\": \"UNITED STATES\",\n",
      "        \"StateProvince\": \"Ohio\",\n",
      "        \"PostalCode\": \"44077\"\n",
      "      },\n",
      "      \"EIN\": \"26-0379798\"\n",
      "    },\n",
      "    \"OtherPartyInformation\": {\n",
      "      \"OtherPartyID\": null,\n",
      "      \"OtherParty\": null,\n",
      "      \"Address\": {\n",
      "        \"Address1\": null,\n",
      "        \"Address2\": null,\n",
      "        \"City\": null,\n",
      "        \"Country\": null,\n",
      "        \"StateProvince\": null,\n",
      "        \"PostalCode\": null,\n",
      "        \"TelephoneOrFax\": null\n",
      "      }\n",
      "    },\n",
      "    \"PurchaserInformation\": {\n",
      "      \"Purchaser\": \"EMBRAER S.A.\",\n",
      "      \"Address\": {\n",
      "        \"Address1\": \"Rodovia Presidente Dutra, Km 134, Eugenio de Melo\",\n",
      "        \"Address2\": null,\n",
      "        \"City\": \"Sao Jose dos Campos\",\n",
      "        \"Country\": \"BRAZIL\",\n",
      "        \"StateProvince\": \"SP\",\n",
      "        \"PostalCode\": null,\n",
      "        \"TelephoneOrFax\": null\n",
      "      }\n",
      "    },\n",
      "    \"IntermediateConsigneeInformation\": {\n",
      "      \"IntermediateConsignee\": \"DSV AIR & SEA\",\n",
      "      \"Address\": {\n",
      "        \"Address1\": \"Av. Jornalista Roberto Marinho, 85\",\n",
      "        \"Address2\": null,\n",
      "        \"City\": \"Sao Paulo-SP\",\n",
      "        \"Country\": \"BRAZIL\",\n",
      "        \"StateProvince\": null,\n",
      "        \"PostalCode\": \"04575-000\",\n",
      "        \"TelephoneOrFax\": null\n",
      "      }\n",
      "    },\n",
      "    \"UltimateConsigneeInformation\": {\n",
      "      \"UltimateConsignee\": \"EMBRAER S.A.\",\n",
      "      \"Address\": {\n",
      "        \"Address1\": \"Rodovia Presidente Dutra, Km 134, Eugenio de Melo\",\n",
      "        \"Address2\": null,\n",
      "        \"City\": \"Sao Jose dos Campos\",\n",
      "        \"Country\": \"BRAZIL\",\n",
      "        \"StateProvince\": \"SP\",\n",
      "        \"PostalCode\": null,\n",
      "        \"TelephoneOrFax\": null\n",
      "      }\n",
      "    },\n",
      "    \"EndUserInformation\": [\n",
      "      {\n",
      "        \"EndUser\": \"EMBRAER S.A.\",\n",
      "        \"Address\": {\n",
      "          \"AddressLine1\": \"Estrada Municipal Gaviao\",\n",
      "          \"AddressLine2\": \"Euclides Peixoto\",\n",
      "          \"City\": \"BRAZIL\",\n",
      "          \"PostalCode\": \"2170\",\n",
      "          \"Country\": \"BRAZIL\",\n",
      "          \"Telephone\": null\n",
      "        }\n",
      "      },\n",
      "      {\n",
      "        \"EndUser\": \"Department of General Emilio Aguinaldo, Natividad\",\n",
      "        \"Address\": {\n",
      "          \"AddressLine1\": \"Base Aerea General Eloy Alfaro\",\n",
      "          \"AddressLine2\": \"Manta\",\n",
      "          \"City\": \"ECUADOR\",\n",
      "          \"PostalCode\": null,\n",
      "          \"Country\": \"ECUADOR\",\n",
      "          \"Telephone\": null\n",
      "        }\n",
      "      },\n",
      "      {\n",
      "        \"EndUser\": \"ENAER – EMPRESA GRAN NACIONAL\",\n",
      "        \"Address\": {\n",
      "          \"AddressLine1\": \"Avenida Jose Miguel Carrera\",\n",
      "          \"AddressLine2\": null,\n",
      "          \"City\": \"CHILE\",\n",
      "          \"PostalCode\": \"11087\",\n",
      "          \"Country\": \"CHILE\",\n",
      "          \"Telephone\": null\n",
      "        }\n",
      "      },\n",
      "      {\n",
      "        \"EndUser\": \"Base Aerea de San Isidro\",\n",
      "        \"Address\": {\n",
      "          \"AddressLine1\": \"Dominican Republic\",\n",
      "          \"AddressLine2\": null,\n",
      "          \"City\": \"DOMINICAN REPUBLIC\",\n",
      "          \"PostalCode\": null,\n",
      "          \"Country\": \"DOMINICAN REPUBLIC\",\n",
      "          \"Telephone\": null\n",
      "        }\n",
      "      },\n",
      "      {\n",
      "        \"EndUser\": \"Ministerio de Defensa Nacional\",\n",
      "        \"Address\": {\n",
      "          \"AddressLine1\": \"Avenida El Dorado\",\n",
      "          \"AddressLine2\": null,\n",
      "          \"City\": \"Bogota\",\n",
      "          \"PostalCode\": \"DC\",\n",
      "          \"Country\": \"COLOMBIA\",\n",
      "          \"Telephone\": null\n",
      "        }\n",
      "      }\n",
      "    ],\n",
      "    \"SpecificEndUse\": \"5344-00-1 Valve is used as a component of the anti-icing air system. Valve is used to control the flow of engine bleed air within the anti-icing system.\",\n",
      "    \"ExportItemInformation\": [\n",
      "      {\n",
      "        \"ExportItem\": {\n",
      "          \"ECCN\": \"9A610\",\n",
      "          \"APP\": null,\n",
      "          \"ProductModelNumber\": \"5344-00-1\",\n",
      "          \"CCATSNumber\": null,\n",
      "          \"Quantity\": \"1\",\n",
      "          \"Units\": \"each\",\n",
      "          \"UnitPrice\": \"$5995\",\n",
      "          \"TotalPrice\": \"$5995\",\n",
      "          \"Manufacturer\": \"Aero Fluid Products\",\n",
      "          \"TechnicalDescription\": \"5344-00-1 Normally closed 1.5” shutoff valve that is solenoid operated. There is also a switch to indicate valve position.\"\n",
      "        }\n",
      "      },\n",
      "      {\n",
      "        \"ExportItem\": {\n",
      "          \"ECCN\": \"9E610\",\n",
      "          \"APP\": null,\n",
      "          \"ProductModelNumber\": \"Technology\",\n",
      "          \"CCATSNumber\": null,\n",
      "          \"Quantity\": \"1\",\n",
      "          \"Units\": \"Lot\",\n",
      "          \"UnitPrice\": \"$1\",\n",
      "          \"TotalPrice\": \"$1\",\n",
      "          \"Manufacturer\": \"Aero Fluid Products\",\n",
      "          \"TechnicalDescription\": \"The 9E610 Technology to be provided to Embraer is required to support the design, installation, maintenance, and repair of the 5344-00-1. The Information may be in any tangible or intangible form, such as written or oral communications, drawings, photographs, engineering designs and specifications, computer-aided design files, manuals or documentation, electronic media or information revealed through visual inspection.\"\n",
      "        }\n",
      "      }\n",
      "    ],\n",
      "    \"TotalApplicationDollarValue\": \"$5,996.00\",\n",
      "    \"AdditionalInformation\": \"The remainder of the Intermediate Consignees are in Block 19.\",\n",
      "    \"DocumentsAttachedToApplication\": [\n",
      "      {\n",
      "        \"Title\": \"Embraer End User Statement\",\n",
      "        \"Author\": \"Embraer S.A.\",\n",
      "        \"DocumentType\": \"Import/End-User\"\n",
      "      },\n",
      "      {\n",
      "        \"Title\": \"AFP0080\",\n",
      "        \"Author\": \"Zeljko Tolo\",\n",
      "        \"DocumentType\": \"Letter of Explanation\"\n",
      "      },\n",
      "      {\n",
      "        \"Title\": \"5344-00-1 Acceptance Test Tech. Specs.\",\n",
      "        \"Author\": \"Aero Fluid Products\",\n",
      "        \"DocumentType\": \"Tech. Specs.\"\n",
      "      },\n",
      "      {\n",
      "        \"Title\": \"5344-00-1 Drawing\",\n",
      "        \"Author\": \"Aero Fluid Products\",\n",
      "        \"DocumentType\": \"Tech. Specs.\"\n",
      "      }\n",
      "    ],\n",
      "    \"SignerInformation\": {\n",
      "      \"Name\": \"Z.TOLO\",\n",
      "      \"Title\": \"Dir of Comp\",\n",
      "      \"Email\": \"ztolo@aerofp.com\"\n",
      "    }\n",
      "  }\n",
      "}\n"
     ]
    }
   ],
   "source": [
    "# Step 8: Run everything and show combined result\n",
    "if file_path:\n",
    "    # Extract raw text\n",
    "    raw_text = extract_text_from_pdf(file_path)\n",
    "    print(\"----- Raw Extracted Text -----\")\n",
    "    print(raw_text)\n",
    "    \n",
    "    # Extract PDF interactive form fields\n",
    "    form_fields = extract_pdf_form_fields(file_path)\n",
    "    print(\"----- PDF Form Fields -----\")\n",
    "    print(form_fields)\n",
    "\n",
    "    # Convert raw text to JSON with LLM\n",
    "    extracted_json = pdf_text_to_json(file_path)\n",
    "    print(\"----- Extracted JSON from Text -----\")\n",
    "    print(extracted_json)\n",
    "else:\n",
    "    print(\"Please upload a PDF file above and rerun this cell.\")"
   ]
  },
  {
   "cell_type": "code",
   "execution_count": null,
   "metadata": {
    "height": 30
   },
   "outputs": [],
   "source": []
  }
 ],
 "metadata": {
  "kernelspec": {
   "display_name": "Python 3 (ipykernel)",
   "language": "python",
   "name": "python3"
  },
  "language_info": {
   "codemirror_mode": {
    "name": "ipython",
    "version": 3
   },
   "file_extension": ".py",
   "mimetype": "text/x-python",
   "name": "python",
   "nbconvert_exporter": "python",
   "pygments_lexer": "ipython3",
   "version": "3.9.19"
  }
 },
 "nbformat": 4,
 "nbformat_minor": 2
}
