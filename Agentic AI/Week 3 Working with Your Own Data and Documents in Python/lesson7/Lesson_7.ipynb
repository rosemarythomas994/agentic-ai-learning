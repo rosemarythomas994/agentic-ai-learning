{
 "cells": [
  {
   "cell_type": "markdown",
   "metadata": {},
   "source": [
    "# Lesson 7: Creating itineraries for multiple cities"
   ]
  },
  {
   "cell_type": "markdown",
   "metadata": {},
   "source": [
    "In this lesson, you will use everything you have seen so far to plan the perfect vacation around the world!\n",
    "\n",
    "To get started, import some helper functions:"
   ]
  },
  {
   "cell_type": "code",
   "execution_count": 1,
   "metadata": {
    "height": 79
   },
   "outputs": [],
   "source": [
    "from helper_functions import print_llm_response, get_llm_response, display_table\n",
    "from IPython.display import Markdown\n",
    "import csv"
   ]
  },
  {
   "cell_type": "markdown",
   "metadata": {},
   "source": [
    "## Reading travel itineraries from a CSV file"
   ]
  },
  {
   "cell_type": "markdown",
   "metadata": {},
   "source": [
    "First, define a new function that reads data stored in a CSV file and returns it as a dictionary variable:"
   ]
  },
  {
   "cell_type": "code",
   "execution_count": 2,
   "metadata": {
    "height": 183
   },
   "outputs": [],
   "source": [
    "def read_csv(file):\n",
    "    f = open(file, \"r\")\n",
    "    \n",
    "    csv_reader = csv.DictReader(f)\n",
    "    data = []\n",
    "    for row in csv_reader:\n",
    "        data.append(row)\n",
    "    f.close()\n",
    "    \n",
    "    return data"
   ]
  },
  {
   "cell_type": "markdown",
   "metadata": {},
   "source": [
    "Next, load itineraries from `itinerary.csv` using the function you just defined (notice how much less code this is!) and then display the table of itineraries:"
   ]
  },
  {
   "cell_type": "code",
   "execution_count": 3,
   "metadata": {
    "height": 98
   },
   "outputs": [
    {
     "data": {
      "text/html": [
       "<table border=\"1\" class=\"dataframe\">\n",
       "  <thead>\n",
       "    <tr style=\"text-align: right;\">\n",
       "      <th>Arrival</th>\n",
       "      <th>Departure</th>\n",
       "      <th>City</th>\n",
       "      <th>Country</th>\n",
       "    </tr>\n",
       "  </thead>\n",
       "  <tbody>\n",
       "    <tr>\n",
       "      <td>July-01</td>\n",
       "      <td>July-08</td>\n",
       "      <td>New York</td>\n",
       "      <td>USA</td>\n",
       "    </tr>\n",
       "    <tr>\n",
       "      <td>July-09</td>\n",
       "      <td>July-16</td>\n",
       "      <td>Rio de Janeiro</td>\n",
       "      <td>Brazil</td>\n",
       "    </tr>\n",
       "    <tr>\n",
       "      <td>July-17</td>\n",
       "      <td>July-24</td>\n",
       "      <td>Cape Town</td>\n",
       "      <td>South Africa</td>\n",
       "    </tr>\n",
       "    <tr>\n",
       "      <td>July-25</td>\n",
       "      <td>August-01</td>\n",
       "      <td>Istanbul</td>\n",
       "      <td>Turkey</td>\n",
       "    </tr>\n",
       "    <tr>\n",
       "      <td>August-02</td>\n",
       "      <td>August-09</td>\n",
       "      <td>Paris</td>\n",
       "      <td>France</td>\n",
       "    </tr>\n",
       "    <tr>\n",
       "      <td>August-10</td>\n",
       "      <td>August-17</td>\n",
       "      <td>Tokyo</td>\n",
       "      <td>Japan</td>\n",
       "    </tr>\n",
       "    <tr>\n",
       "      <td>August-18</td>\n",
       "      <td>August-25</td>\n",
       "      <td>Sydney</td>\n",
       "      <td>Australia</td>\n",
       "    </tr>\n",
       "  </tbody>\n",
       "</table>"
      ],
      "text/plain": [
       "<IPython.core.display.HTML object>"
      ]
     },
     "metadata": {},
     "output_type": "display_data"
    }
   ],
   "source": [
    "# Read the itinerary.csv file\n",
    "itinerary = read_csv(\"itinerary.csv\")\n",
    "\n",
    "# Display the itinerary\n",
    "display_table(itinerary)"
   ]
  },
  {
   "cell_type": "markdown",
   "metadata": {},
   "source": [
    "## Reading restaurant information from food journal entries"
   ]
  },
  {
   "cell_type": "markdown",
   "metadata": {},
   "source": [
    "Now create a new function called `read_journal` that reads in the contents of a plain text file with '.txt' extension and stores it into a string variable:"
   ]
  },
  {
   "cell_type": "code",
   "execution_count": 4,
   "metadata": {
    "height": 149
   },
   "outputs": [],
   "source": [
    "# The function called 'read_journal'\n",
    "def read_journal(journal_file):\n",
    "    f = open(journal_file, \"r\")\n",
    "    journal = f.read() \n",
    "    f.close()\n",
    "\n",
    "    # Return the journal content\n",
    "    return journal"
   ]
  },
  {
   "cell_type": "markdown",
   "metadata": {},
   "source": [
    "Note that you used this function in an earlier lesson - now you know how it works!\n",
    "\n",
    "You can now use the `read_journal` function to read in a food journal file - let's start with Sydney:"
   ]
  },
  {
   "cell_type": "code",
   "execution_count": 5,
   "metadata": {
    "height": 64
   },
   "outputs": [
    {
     "name": "stdout",
     "output_type": "stream",
     "text": [
      "My culinary adventure began at Saint Peter, a renowned seafood restaurant in Paddington. This place is a temple to Australian seafood, and the \"Murray Cod\" was a revelation. The fish, sourced from the Murray River, was perfectly cooked, with a crispy skin and tender, flaky flesh. It was served with a simple yet flavorful accompaniment of seasonal vegetables, allowing the quality of the fish to shine. The restaurant's dedication to sustainability and nose-to-tail seafood cooking added an educational aspect to the delicious meal.\n",
      "\n",
      "Next, I visited Billy Kwong in Potts Point, where celebrated chef Kylie Kwong puts a unique spin on modern Australian cuisine using native ingredients. The standout dish here was the \"Crispy Skin Duck with Davidson’s Plum Sauce.\" The duck was cooked to perfection, with a rich, flavorful meat and delightfully crispy skin, complemented by the tart and slightly sweet Davidson’s plum sauce. This dish was a perfect example of how traditional recipes can be elevated with local, indigenous ingredients, creating something both familiar and new.\n",
      "\n",
      "In search of a true Australian pub experience, I headed to The Lord Nelson Brewery Hotel in The Rocks. This historic pub serves up hearty, classic Australian fare, and the \"Roast Lamb\" was exactly what I was craving. The lamb, roasted to tender perfection, was served with a medley of root vegetables and a rich gravy, making for a comforting and satisfying meal. Paired with one of their house-brewed ales, it was a quintessential Aussie pub experience that I would highly recommend.\n",
      "\n",
      "I couldn't miss out on trying some of the famous Australian barbecue, so I headed to Vic's Meat Market at the Sydney Fish Market. The \"BBQ Beef Brisket\" was a highlight, slow-cooked to achieve a melt-in-the-mouth texture, and served with a tangy barbecue sauce. The smoky, rich flavor of the brisket was enhanced by the vibrant, outdoor setting of the market, where the aroma of grilling meat filled the air.\n",
      "\n",
      "To round off my exploration of local cuisine, I visited Bennelong, located within the iconic Sydney Opera House. This fine dining restaurant celebrates Australian produce in every dish. The \"Sydney Rock Oysters\" were an exquisite start to the meal, served with a delicate vinaigrette that highlighted their briny freshness. The oysters, sourced from local waters, were plump and succulent, offering a pure taste of the sea.\n",
      "\n",
      "\n"
     ]
    }
   ],
   "source": [
    "journal = read_journal(\"sydney.txt\")\n",
    "\n",
    "print(journal)"
   ]
  },
  {
   "cell_type": "markdown",
   "metadata": {},
   "source": [
    "Write a prompt that extracts restaurant and specialty dish information from the journal text and stores it in CSV format:"
   ]
  },
  {
   "cell_type": "code",
   "execution_count": 7,
   "metadata": {
    "height": 334
   },
   "outputs": [
    {
     "name": "stdout",
     "output_type": "stream",
     "text": [
      "Restaurant,Specialty\n",
      "Saint Peter,Murray Cod\n",
      "Billy Kwong,Crispy Skin Duck with Davidson’s Plum Sauce\n",
      "The Lord Nelson Brewery Hotel,Roast Lamb\n",
      "Vic's Meat Market,BBQ Beef Brisket\n",
      "Bennelong,Sydney Rock Oysters\n"
     ]
    }
   ],
   "source": [
    "# Write the prompt\n",
    "prompt = f\"\"\"Please extract a comprehensive list of the restaurants \n",
    "and their respective specialties mentioned in the following journal entry. \n",
    "Ensure that each restaurant name is accurately identified and listed. \n",
    "Provide your answer in CSV format, ready to save. \n",
    "Exclude the \"```csv\" declaration, don't add spaces after the comma, include column headers.\n",
    "\n",
    "Format:\n",
    "Restaurant, Specialty\n",
    "Res_1, Sp_1\n",
    "...\n",
    "\n",
    "Journal entry:\n",
    "{journal}\n",
    "\"\"\"\n",
    "\n",
    "# Print the prompt\n",
    "print_llm_response(prompt)"
   ]
  },
  {
   "cell_type": "markdown",
   "metadata": {},
   "source": [
    "Read in restaurant information from `Sydney.csv` file that was created for you and display it using the `display_table` function:"
   ]
  },
  {
   "cell_type": "code",
   "execution_count": 8,
   "metadata": {
    "height": 81
   },
   "outputs": [
    {
     "data": {
      "text/html": [
       "<table border=\"1\" class=\"dataframe\">\n",
       "  <thead>\n",
       "    <tr style=\"text-align: right;\">\n",
       "      <th>Restaurant</th>\n",
       "      <th>Specialty</th>\n",
       "    </tr>\n",
       "  </thead>\n",
       "  <tbody>\n",
       "    <tr>\n",
       "      <td>Saint Peter</td>\n",
       "      <td>Murray Cod</td>\n",
       "    </tr>\n",
       "    <tr>\n",
       "      <td>Billy Kwong</td>\n",
       "      <td>Crispy Skin Duck with Davidson’s Plum Sauce</td>\n",
       "    </tr>\n",
       "    <tr>\n",
       "      <td>The Lord Nelson Brewery Hotel</td>\n",
       "      <td>Roast Lamb</td>\n",
       "    </tr>\n",
       "    <tr>\n",
       "      <td>Carriageworks Farmers Market</td>\n",
       "      <td>Kangaroo Pie</td>\n",
       "    </tr>\n",
       "    <tr>\n",
       "      <td>Vic's Meat Market</td>\n",
       "      <td>BBQ Beef Brisket</td>\n",
       "    </tr>\n",
       "    <tr>\n",
       "      <td>Bennelong</td>\n",
       "      <td>Sydney Rock Oysters</td>\n",
       "    </tr>\n",
       "  </tbody>\n",
       "</table>"
      ],
      "text/plain": [
       "<IPython.core.display.HTML object>"
      ]
     },
     "metadata": {},
     "output_type": "display_data"
    }
   ],
   "source": [
    "# Use the read_csv function\n",
    "sydney_restaurants = read_csv(\"Sydney.csv\")\n",
    "\n",
    "display_table(sydney_restaurants)"
   ]
  },
  {
   "cell_type": "markdown",
   "metadata": {},
   "source": [
    "## Creating detailed itineraries with restaurant suggestions"
   ]
  },
  {
   "cell_type": "markdown",
   "metadata": {},
   "source": [
    "In this section, you'll combine the data in the journal and the itinerary to create a detailed plan for your visit to Sydney. \n",
    "\n",
    "To access Sydney's data in the ```itinerary``` list, you have to use index '6' since Sydney is the seventh trip destination."
   ]
  },
  {
   "cell_type": "code",
   "execution_count": 9,
   "metadata": {
    "height": 47
   },
   "outputs": [],
   "source": [
    "# Select Sydney from the 'itinerary' list\n",
    "trip_stop = itinerary[6]"
   ]
  },
  {
   "cell_type": "markdown",
   "metadata": {},
   "source": [
    "Next, store all the information from that ```trip_stop```, as well as the restaurant information you read in above, in separate variables:"
   ]
  },
  {
   "cell_type": "code",
   "execution_count": 10,
   "metadata": {
    "height": 98
   },
   "outputs": [],
   "source": [
    "city = trip_stop[\"City\"]\n",
    "country = trip_stop[\"Country\"]\n",
    "arrival = trip_stop[\"Arrival\"]\n",
    "departure = trip_stop[\"Departure\"]\n",
    "restaurants = sydney_restaurants"
   ]
  },
  {
   "cell_type": "markdown",
   "metadata": {},
   "source": [
    "Pass all of this information in a detailed prompt to an LLM to create a detailed itinerary:"
   ]
  },
  {
   "cell_type": "code",
   "execution_count": 11,
   "metadata": {
    "height": 334
   },
   "outputs": [
    {
     "data": {
      "text/markdown": [
       "### Sydney Itinerary: August 18 - August 25\n",
       "\n",
       "#### Day 1: August 18 (Saturday)\n",
       "- **Breakfast**: 8:00 AM - Local café (try a flat white)\n",
       "- **Morning Activity**: Explore the Sydney Opera House and take a guided tour.\n",
       "- **Lunch**: 12:30 PM - **Bennelong**  \n",
       "  *Specialty*: Sydney Rock Oysters  \n",
       "- **Afternoon Activity**: Stroll through the Royal Botanic Garden.\n",
       "- **Dinner**: 7:00 PM - Local restaurant (try a seafood dish)\n",
       "\n",
       "---\n",
       "\n",
       "#### Day 2: August 19 (Sunday)\n",
       "- **Breakfast**: 8:00 AM - Local café (try avocado toast)\n",
       "- **Morning Activity**: Visit the Art Gallery of New South Wales.\n",
       "- **Lunch**: 12:30 PM - **Billy Kwong**  \n",
       "  *Specialty*: Crispy Skin Duck with Davidson’s Plum Sauce  \n",
       "- **Afternoon Activity**: Explore the historic Rocks district.\n",
       "- **Dinner**: 7:00 PM - Local restaurant (try a steak)\n",
       "\n",
       "---\n",
       "\n",
       "#### Day 3: August 20 (Monday)\n",
       "- **Breakfast**: 8:00 AM - Local café (try a smoothie bowl)\n",
       "- **Morning Activity**: Take a ferry to Manly Beach.\n",
       "- **Lunch**: 12:30 PM - **Carriageworks Farmers Market**  \n",
       "  *Specialty*: Kangaroo Pie  \n",
       "- **Afternoon Activity**: Relax at Manly Beach.\n",
       "- **Dinner**: 7:00 PM - Local restaurant (try fish and chips)\n",
       "\n",
       "---\n",
       "\n",
       "#### Day 4: August 21 (Tuesday)\n",
       "- **Breakfast**: 8:00 AM - Local café (try pancakes)\n",
       "- **Morning Activity**: Visit Taronga Zoo.\n",
       "- **Lunch**: 12:30 PM - **The Lord Nelson Brewery Hotel**  \n",
       "  *Specialty*: Roast Lamb  \n",
       "- **Afternoon Activity**: Walk around Darling Harbour.\n",
       "- **Dinner**: 7:00 PM - Local restaurant (try a pasta dish)\n",
       "\n",
       "---\n",
       "\n",
       "#### Day 5: August 22 (Wednesday)\n",
       "- **Breakfast**: 8:00 AM - Local café (try a breakfast burrito)\n",
       "- **Morning Activity**: Explore the Sydney Tower Eye.\n",
       "- **Lunch**: 12:30 PM - **Vic's Meat Market**  \n",
       "  *Specialty*: BBQ Beef Brisket  \n",
       "- **Afternoon Activity**: Visit the Queen Victoria Building.\n",
       "- **Dinner**: 7:00 PM - Local restaurant (try a curry)\n",
       "\n",
       "---\n",
       "\n",
       "#### Day 6: August 23 (Thursday)\n",
       "- **Breakfast**: 8:00 AM - Local café (try a chai latte)\n",
       "- **Morning Activity**: Visit Bondi Beach and walk the coastal path to Coogee.\n",
       "- **Lunch**: 12:30 PM - Local café (try a poke bowl)\n",
       "- **Afternoon Activity**: Relax at Coogee Beach.\n",
       "- **Dinner**: 7:00 PM - Local restaurant (try a burger)\n",
       "\n",
       "---\n",
       "\n",
       "#### Day 7: August 24 (Friday)\n",
       "- **Breakfast**: 8:00 AM - Local café (try a croissant)\n",
       "- **Morning Activity**: Visit the Australian Museum.\n",
       "- **Lunch**: 12:30 PM - Local café (try a salad)\n",
       "- **Afternoon Activity**: Explore the Sydney Fish Market.\n",
       "- **Dinner**: 7:00 PM - Local restaurant (try a dessert)\n",
       "\n",
       "---\n",
       "\n",
       "#### Day 8: August 25 (Saturday)\n",
       "- **Breakfast**: 8:00 AM - Local café (try a muffin)\n",
       "- **Morning Activity**: Last-minute shopping at Pitt Street Mall.\n",
       "- **Lunch**: 12:30 PM - Local café (try a sandwich)\n",
       "- **Afternoon Activity**: Depart from Sydney.\n",
       "\n",
       "Enjoy your trip!"
      ],
      "text/plain": [
       "<IPython.core.display.Markdown object>"
      ]
     },
     "metadata": {},
     "output_type": "display_data"
    }
   ],
   "source": [
    "# Write the prompt\n",
    "prompt = f\"\"\"I will visit {city}, {country} from {arrival} to {departure}. \n",
    "Create a daily itinerary with detailed activities. \n",
    "Designate times for breakfast, lunch, and dinner. \n",
    "\n",
    "I want to visit the restaurants listed in the restaurant dictionary \n",
    "without repeating any place. Make sure to mention the specialty\n",
    "that I should try at each of them.\n",
    "\n",
    "Restaurant dictionary:\n",
    "{restaurants}\n",
    "\n",
    "\"\"\"\n",
    "\n",
    "response = get_llm_response(prompt)\n",
    "\n",
    "# Print the LLM response in Markdown format\n",
    "display(Markdown(response))"
   ]
  },
  {
   "cell_type": "markdown",
   "metadata": {},
   "source": [
    "## Create detailed itineraries for all the cities in your trip"
   ]
  },
  {
   "cell_type": "markdown",
   "metadata": {},
   "source": [
    "You'll use a 'for' loop to iterate over all the cities in the ```itinerary``` list and create a detailed itinerary for each location:"
   ]
  },
  {
   "cell_type": "code",
   "execution_count": 14,
   "metadata": {
    "height": 487
   },
   "outputs": [
    {
     "name": "stdout",
     "output_type": "stream",
     "text": [
      "Creating detailed itinerary for New York, USA.\n",
      "Creating detailed itinerary for Rio de Janeiro, Brazil.\n",
      "Creating detailed itinerary for Cape Town, South Africa.\n",
      "Creating detailed itinerary for Istanbul, Turkey.\n",
      "Creating detailed itinerary for Paris, France.\n",
      "Creating detailed itinerary for Tokyo, Japan.\n",
      "Creating detailed itinerary for Sydney, Australia.\n"
     ]
    }
   ],
   "source": [
    "# Create an empty dictionary to store the itinerary for each destination\n",
    "detailed_itinerary = {}\n",
    "\n",
    " # Use the 'for' loop over the 'itinerary' list   \n",
    "for trip_stop in itinerary:\n",
    "    city = trip_stop[\"City\"]\n",
    "    country = trip_stop[\"Country\"]\n",
    "    arrival = trip_stop[\"Arrival\"]\n",
    "    departure = trip_stop[\"Departure\"]\n",
    "\n",
    "    rest_dict = read_csv(f\"{city}.csv\")\n",
    "    \n",
    "    print(f\"Creating detailed itinerary for {city}, {country}.\")\n",
    "    \n",
    "    prompt = f\"\"\"I will visit {city}, {country} from {arrival} to {departure}. \n",
    "    Create a daily itinerary with detailed activities. \n",
    "    Designate times for breakfast, lunch, and dinner. \n",
    "\n",
    "    I want to visit the restaurants listed in the restaurant dictionary without repeating any place.\n",
    "    Make sure to mention the specialty that I should try at each of them.\n",
    "\n",
    "    Restaurant dictionary:\n",
    "    {rest_dict}\n",
    "\n",
    "    \"\"\"\n",
    "    # Store the detailed itinerary for the city to the dictionary\n",
    "    detailed_itinerary[city] = get_llm_response(prompt)"
   ]
  },
  {
   "cell_type": "markdown",
   "metadata": {},
   "source": [
    "You can now access the detailed itinerary for any city by passing in the city name as the key to the `detailed_itinerary` dictionary:"
   ]
  },
  {
   "cell_type": "code",
   "execution_count": 13,
   "metadata": {
    "height": 47
   },
   "outputs": [
    {
     "data": {
      "text/markdown": [
       "Here's a detailed daily itinerary for your trip to Tokyo from August 10 to August 17, including meals at the specified restaurants.\n",
       "\n",
       "### Day 1: August 10 (Arrival)\n",
       "- **Breakfast:** N/A (Travel day)\n",
       "- **Lunch:** Tsukiji Outer Market (12:00 PM)  \n",
       "  - **Specialty:** Fresh sashimi and street food\n",
       "- **Dinner:** Sukiyabashi Jiro (7:00 PM)  \n",
       "  - **Specialty:** Omakase sushi\n",
       "\n",
       "### Day 2: August 11\n",
       "- **Breakfast:** Hotel or local café (8:00 AM)\n",
       "- **Morning Activity:** Visit the Senso-ji Temple in Asakusa (9:30 AM)\n",
       "- **Lunch:** Tempura Kondo (12:30 PM)  \n",
       "  - **Specialty:** Seasonal vegetable and seafood tempura\n",
       "- **Afternoon Activity:** Explore Nakamise Street and Ueno Park (2:00 PM)\n",
       "- **Dinner:** Den (7:00 PM)  \n",
       "  - **Specialty:** Creative Japanese cuisine\n",
       "\n",
       "### Day 3: August 12\n",
       "- **Breakfast:** Local café (8:00 AM)\n",
       "- **Morning Activity:** Visit the Meiji Shrine (9:30 AM)\n",
       "- **Lunch:** Ichiran Ramen (12:30 PM)  \n",
       "  - **Specialty:** Tonkotsu ramen\n",
       "- **Afternoon Activity:** Explore Harajuku and Takeshita Street (2:00 PM)\n",
       "- **Dinner:** Kyubey (7:00 PM)  \n",
       "  - **Specialty:** Sushi\n",
       "\n",
       "### Day 4: August 13\n",
       "- **Breakfast:** Hotel or local café (8:00 AM)\n",
       "- **Morning Activity:** Visit the Tokyo Tower (9:30 AM)\n",
       "- **Lunch:** Afuri (12:30 PM)  \n",
       "  - **Specialty:** Yuzu shio ramen\n",
       "- **Afternoon Activity:** Explore Roppongi Hills and Mori Art Museum (2:00 PM)\n",
       "- **Dinner:** Ginza Kojyu (7:00 PM)  \n",
       "  - **Specialty:** Kaiseki (traditional multi-course meal)\n",
       "\n",
       "### Day 5: August 14\n",
       "- **Breakfast:** Local café (8:00 AM)\n",
       "- **Morning Activity:** Day trip to Nikko (leave by 8:30 AM)\n",
       "- **Lunch:** Local restaurant in Nikko (12:00 PM)\n",
       "- **Afternoon Activity:** Explore Nikko National Park (1:00 PM)\n",
       "- **Dinner:** Narisawa (7:00 PM)  \n",
       "  - **Specialty:** Innovative tasting menu\n",
       "\n",
       "### Day 6: August 15\n",
       "- **Breakfast:** Hotel or local café (8:00 AM)\n",
       "- **Morning Activity:** Visit the Imperial Palace (9:30 AM)\n",
       "- **Lunch:** Local café in Marunouchi (12:30 PM)\n",
       "- **Afternoon Activity:** Explore Akihabara (2:00 PM)\n",
       "- **Dinner:** Akasaka Kikunoi (7:00 PM)  \n",
       "  - **Specialty:** Kaiseki\n",
       "\n",
       "### Day 7: August 16\n",
       "- **Breakfast:** Local café (8:00 AM)\n",
       "- **Morning Activity:** Visit the Tokyo Skytree (9:30 AM)\n",
       "- **Lunch:** Local restaurant near Skytree (12:30 PM)\n",
       "- **Afternoon Activity:** Explore Odaiba (2:00 PM)\n",
       "- **Dinner:** Free evening to explore local dining options (7:00 PM)\n",
       "\n",
       "### Day 8: August 17 (Departure)\n",
       "- **Breakfast:** Hotel (8:00 AM)\n",
       "- **Morning Activity:** Last-minute shopping in Shibuya (10:00 AM)\n",
       "- **Lunch:** Local café in Shibuya (12:00 PM)\n",
       "- **Afternoon:** Depart for the airport (2:00 PM)\n",
       "\n",
       "Enjoy your trip to Tokyo!"
      ],
      "text/plain": [
       "<IPython.core.display.Markdown object>"
      ]
     },
     "metadata": {},
     "output_type": "display_data"
    }
   ],
   "source": [
    "# Print in Markdown format\n",
    "display(Markdown(detailed_itinerary[\"Tokyo\"]))"
   ]
  },
  {
   "cell_type": "markdown",
   "metadata": {},
   "source": [
    "## Try it yourself! \n",
    "\n",
    "Update the code below to check out the itinerary for another city. \n",
    "\n",
    "**Options:**\n",
    "- Cape Town\n",
    "- Istanbul\n",
    "- New York\n",
    "- Paris\n",
    "- Rio de Janeiro\n",
    "- Sydney\n",
    "- Tokyo"
   ]
  },
  {
   "cell_type": "code",
   "execution_count": 15,
   "metadata": {
    "height": 47
   },
   "outputs": [
    {
     "data": {
      "text/markdown": [
       "### Daily Itinerary for Paris (August 2 - August 9)\n",
       "\n",
       "#### Day 1: August 2 (Arrival)\n",
       "- **Morning:**\n",
       "  - Arrive in Paris, check into your hotel.\n",
       "  - **Breakfast:** Café nearby (try a croissant).\n",
       "  \n",
       "- **Afternoon:**\n",
       "  - Visit the Eiffel Tower.\n",
       "  - Stroll along the Seine River.\n",
       "\n",
       "- **Lunch:** \n",
       "  - **Restaurant:** L’As du Fallafel\n",
       "  - **Specialty:** Falafel sandwiches\n",
       "\n",
       "- **Evening:**\n",
       "  - Explore the Marais district.\n",
       "  \n",
       "- **Dinner:** \n",
       "  - **Restaurant:** Le Comptoir du Relais\n",
       "  - **Specialty:** Coq au Vin\n",
       "\n",
       "---\n",
       "\n",
       "#### Day 2: August 3\n",
       "- **Morning:**\n",
       "  - **Breakfast:** Local bakery (try pain au chocolat).\n",
       "  \n",
       "- **Afternoon:**\n",
       "  - Visit the Louvre Museum.\n",
       "  \n",
       "- **Lunch:** \n",
       "  - **Restaurant:** Le Jules Verne\n",
       "  - **Specialty:** Filet de Boeuf\n",
       "\n",
       "- **Evening:**\n",
       "  - Walk through the Tuileries Garden.\n",
       "\n",
       "- **Dinner:** \n",
       "  - **Restaurant:** Pierre Hermé\n",
       "  - **Specialty:** Ispahan (dessert)\n",
       "\n",
       "---\n",
       "\n",
       "#### Day 3: August 4\n",
       "- **Morning:**\n",
       "  - **Breakfast:** Café de Flore (try a café crème).\n",
       "  \n",
       "- **Afternoon:**\n",
       "  - Visit Montmartre and the Sacré-Cœur Basilica.\n",
       "\n",
       "- **Lunch:** \n",
       "  - Explore local bistros in Montmartre.\n",
       "\n",
       "- **Evening:**\n",
       "  - Visit the Moulin Rouge for a show.\n",
       "\n",
       "- **Dinner:** \n",
       "  - **Restaurant:** L'Ambroisie\n",
       "  - **Specialty:** Turbot with Artichokes and Truffle\n",
       "\n",
       "---\n",
       "\n",
       "#### Day 4: August 5\n",
       "- **Morning:**\n",
       "  - **Breakfast:** Hotel or nearby café (try a tartine).\n",
       "  \n",
       "- **Afternoon:**\n",
       "  - Visit the Musée d'Orsay.\n",
       "\n",
       "- **Lunch:** \n",
       "  - Local café near the museum.\n",
       "\n",
       "- **Evening:**\n",
       "  - Explore the Latin Quarter.\n",
       "\n",
       "- **Dinner:** \n",
       "  - Choose a local brasserie (try duck confit).\n",
       "\n",
       "---\n",
       "\n",
       "#### Day 5: August 6\n",
       "- **Morning:**\n",
       "  - **Breakfast:** Local patisserie (try a macaron).\n",
       "  \n",
       "- **Afternoon:**\n",
       "  - Visit the Palace of Versailles.\n",
       "\n",
       "- **Lunch:** \n",
       "  - Café in Versailles.\n",
       "\n",
       "- **Evening:**\n",
       "  - Return to Paris, relax at your hotel.\n",
       "\n",
       "- **Dinner:** \n",
       "  - Local restaurant (try boeuf bourguignon).\n",
       "\n",
       "---\n",
       "\n",
       "#### Day 6: August 7\n",
       "- **Morning:**\n",
       "  - **Breakfast:** Local café (try a quiche).\n",
       "  \n",
       "- **Afternoon:**\n",
       "  - Visit the Pompidou Center.\n",
       "\n",
       "- **Lunch:** \n",
       "  - Nearby bistro.\n",
       "\n",
       "- **Evening:**\n",
       "  - Explore the Canal Saint-Martin area.\n",
       "\n",
       "- **Dinner:** \n",
       "  - Local eatery (try ratatouille).\n",
       "\n",
       "---\n",
       "\n",
       "#### Day 7: August 8\n",
       "- **Morning:**\n",
       "  - **Breakfast:** Hotel or nearby café (try a smoothie bowl).\n",
       "  \n",
       "- **Afternoon:**\n",
       "  - Visit the Arc de Triomphe and Champs-Élysées.\n",
       "\n",
       "- **Lunch:** \n",
       "  - Café on the Champs-Élysées.\n",
       "\n",
       "- **Evening:**\n",
       "  - Seine River cruise.\n",
       "\n",
       "- **Dinner:** \n",
       "  - Local restaurant (try seafood platter).\n",
       "\n",
       "---\n",
       "\n",
       "#### Day 8: August 9 (Departure)\n",
       "- **Morning:**\n",
       "  - **Breakfast:** Last breakfast at a favorite café.\n",
       "  \n",
       "- **Afternoon:**\n",
       "  - Last-minute shopping or visit a local market.\n",
       "\n",
       "- **Lunch:** \n",
       "  - Quick bite at a local café.\n",
       "\n",
       "- **Evening:**\n",
       "  - Depart from Paris.\n",
       "\n",
       "---\n",
       "\n",
       "Enjoy your trip!"
      ],
      "text/plain": [
       "<IPython.core.display.Markdown object>"
      ]
     },
     "metadata": {},
     "output_type": "display_data"
    }
   ],
   "source": [
    "# Update the next line of code to view a different city\n",
    "display(Markdown(detailed_itinerary[\"Paris\"]))"
   ]
  },
  {
   "cell_type": "markdown",
   "metadata": {},
   "source": [
    "## Congratulations on completing this course! 🎉🎉🎉\n",
    "\n",
    "Please go onto the fourth and final course of this sequence where you'll learn how to extend the capabilities of Python using code written by other programmers!"
   ]
  }
 ],
 "metadata": {
  "kernelspec": {
   "display_name": "Python 3 (ipykernel)",
   "language": "python",
   "name": "python3"
  },
  "language_info": {
   "codemirror_mode": {
    "name": "ipython",
    "version": 3
   },
   "file_extension": ".py",
   "mimetype": "text/x-python",
   "name": "python",
   "nbconvert_exporter": "python",
   "pygments_lexer": "ipython3",
   "version": "3.9.19"
  }
 },
 "nbformat": 4,
 "nbformat_minor": 2
}
