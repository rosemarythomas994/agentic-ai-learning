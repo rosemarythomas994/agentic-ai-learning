{
 "cells": [
  {
   "cell_type": "code",
   "execution_count": null,
   "metadata": {
    "height": 64
   },
   "outputs": [],
   "source": [
    "import os\n",
    "from dotenv import load_dotenv\n",
    "from openai import OpenAI"
   ]
  },
  {
   "cell_type": "code",
   "execution_count": null,
   "metadata": {
    "height": 81
   },
   "outputs": [],
   "source": [
    "# Get the OpenAI API key from the .env file\n",
    "load_dotenv('.env', override=True)\n",
    "openai_api_key = os.getenv('OPENAI_API_KEY')\n",
    "client = OpenAI(api_key = openai_api_key)"
   ]
  },
  {
   "cell_type": "code",
   "execution_count": 1,
   "metadata": {
    "height": 251
   },
   "outputs": [],
   "source": [
    "def get_llm_response(prompt):\n",
    "    completion = client.chat.completions.create(\n",
    "        model=\"gpt-4o-mini\",\n",
    "        messages=[\n",
    "            {\n",
    "                \"role\": \"system\",\n",
    "                \"content\": \"You are an AI assistant.\",\n",
    "            },\n",
    "            {\"role\": \"user\", \"content\": prompt},\n",
    "        ],\n",
    "        temperature=0.0,\n",
    "    )\n",
    "    response = completion.choices[0].message.content\n",
    "    return response"
   ]
  },
  {
   "cell_type": "code",
   "execution_count": null,
   "metadata": {
    "height": 30
   },
   "outputs": [],
   "source": [
    "pip install pypdf"
   ]
  },
  {
   "cell_type": "code",
   "execution_count": null,
   "metadata": {
    "height": 47
   },
   "outputs": [],
   "source": [
    "pip install pymupdf\n"
   ]
  },
  {
   "cell_type": "code",
   "execution_count": null,
   "metadata": {
    "height": 47
   },
   "outputs": [],
   "source": [
    "%pip install pytesseract pillow\n"
   ]
  },
  {
   "cell_type": "code",
   "execution_count": null,
   "metadata": {
    "height": 30
   },
   "outputs": [],
   "source": [
    "!pip install pdfplumber openai python-dotenv ipywidgets"
   ]
  },
  {
   "cell_type": "code",
   "execution_count": null,
   "metadata": {
    "height": 64
   },
   "outputs": [],
   "source": [
    "import pdfplumber\n",
    "import ipywidgets as widgets\n",
    "from IPython.display import display"
   ]
  },
  {
   "cell_type": "code",
   "execution_count": null,
   "metadata": {
    "height": 64
   },
   "outputs": [],
   "source": [
    "# Step 2: File upload widget for Jupyter\n",
    "upload_widget = widgets.FileUpload(accept='.pdf', multiple=False)\n",
    "display(upload_widget)"
   ]
  },
  {
   "cell_type": "code",
   "execution_count": null,
   "metadata": {
    "height": 183
   },
   "outputs": [],
   "source": [
    "# Step 3: Save uploaded PDF file locally\n",
    "def save_uploaded_file(upload_widget):\n",
    "    if upload_widget.value and len(upload_widget.value) > 0:\n",
    "        file_info = upload_widget.value[0]\n",
    "        file_name = file_info['name']\n",
    "        content = file_info['content']\n",
    "        with open(file_name, \"wb\") as f:\n",
    "            f.write(content)\n",
    "        return file_name\n",
    "    return None"
   ]
  },
  {
   "cell_type": "code",
   "execution_count": null,
   "metadata": {
    "height": 64
   },
   "outputs": [],
   "source": [
    "# After uploading, run this cell manually\n",
    "file_path = save_uploaded_file(upload_widget)\n",
    "print(\"Saved file:\", file_path)"
   ]
  },
  {
   "cell_type": "code",
   "execution_count": null,
   "metadata": {
    "height": 166
   },
   "outputs": [],
   "source": [
    "# Step 4: Extract raw text from PDF using pdfplumber\n",
    "def extract_text_from_pdf(file_path):\n",
    "    text = \"\"\n",
    "    with pdfplumber.open(file_path) as pdf:\n",
    "        for page in pdf.pages:\n",
    "            page_text = page.extract_text()\n",
    "            if page_text:\n",
    "                text += page_text + \"\\n\"\n",
    "    return text"
   ]
  },
  {
   "cell_type": "code",
   "execution_count": null,
   "metadata": {
    "height": 368
   },
   "outputs": [],
   "source": [
    "# Step 5: Extract form fields (includes radio buttons / checkboxes) using PyPDF2\n",
    "def extract_pdf_form_fields(file_path):\n",
    "    reader = PdfReader(file_path)\n",
    "    fields = reader.get_fields()\n",
    "    if fields:\n",
    "        result = {}\n",
    "        for key, val in fields.items():\n",
    "            # val can be a dictionary or direct value\n",
    "            if isinstance(val, dict):\n",
    "                value = val.get('/V') or val.get('/AS') or None\n",
    "                # Some values are NameObjects, convert to str ignoring '/'\n",
    "                if value and hasattr(value, 'original_bytes'):\n",
    "                    value = value.original_bytes.decode('utf-8')\n",
    "                if isinstance(value, str) and value.startswith('/'):\n",
    "                    value = value[1:]\n",
    "                result[key] = value\n",
    "            else:\n",
    "                result[key] = val\n",
    "        return result\n",
    "    return {}"
   ]
  },
  {
   "cell_type": "code",
   "execution_count": null,
   "metadata": {
    "height": 215
   },
   "outputs": [],
   "source": [
    "# Step 6: OpenAI LLM call for JSON extraction from raw text\n",
    "def get_llm_response(prompt):\n",
    "    completion = client.chat.completions.create(\n",
    "        model=\"gpt-4o-mini\",\n",
    "        messages=[\n",
    "            {\"role\": \"system\", \"content\": \"You are an AI document parser. Output valid JSON only.\"},\n",
    "            {\"role\": \"user\", \"content\": prompt},\n",
    "        ],\n",
    "        temperature=0.0,\n",
    "    )\n",
    "    return completion.choices[0].message.content"
   ]
  },
  {
   "cell_type": "code",
   "execution_count": null,
   "metadata": {
    "height": 317
   },
   "outputs": [],
   "source": [
    "# Step 7: Convert PDF text to JSON using LLM with given fields\n",
    "def pdf_text_to_json(raw_text):\n",
    "     # Step 2: Define prompt\n",
    "    prompt = f\"\"\"\n",
    "You are a document parser. Convert the following PDF text and form data into valid JSON.\n",
    "\n",
    "Rules:\n",
    "1. Include all fields, even if null/empty.\n",
    "2. Checkboxes/radios: only include selected items. If none, set field to null.\n",
    "3. Split full names into FirstName and LastName if possible.\n",
    "4. Group logically related fields together.\n",
    "5. Output valid JSON only, no explanations.\n",
    "6. Handle data even if split across columns.\n",
    "\n",
    "Form Fields:\n",
    "{form_fields_str}\n",
    "\n",
    "Extracted Text:\n",
    "{raw_text}\n",
    "\"\"\"\n",
    "    return get_llm_response(prompt)"
   ]
  },
  {
   "cell_type": "code",
   "execution_count": null,
   "metadata": {
    "height": 319
   },
   "outputs": [],
   "source": [
    "# Step 8: Run everything and show combined result\n",
    "if file_path:\n",
    "    # Extract raw text\n",
    "    raw_text = extract_text_from_pdf(file_path)\n",
    "    print(\"----- Raw Extracted Text -----\")\n",
    "    print(raw_text)\n",
    "    \n",
    "    # Extract PDF interactive form fields\n",
    "    form_fields = extract_pdf_form_fields(file_path)\n",
    "    print(\"----- PDF Form Fields -----\")\n",
    "    print(form_fields)\n",
    "\n",
    "    # Convert raw text to JSON with LLM\n",
    "    extracted_json = pdf_text_to_json(raw_text)\n",
    "    print(\"----- Extracted JSON from Text -----\")\n",
    "    print(extracted_json)\n",
    "else:\n",
    "    print(\"Please upload a PDF file above and rerun this cell.\")"
   ]
  }
 ],
 "metadata": {
  "kernelspec": {
   "display_name": "Python 3 (ipykernel)",
   "language": "python",
   "name": "python3"
  },
  "language_info": {
   "codemirror_mode": {
    "name": "ipython",
    "version": 3
   },
   "file_extension": ".py",
   "mimetype": "text/x-python",
   "name": "python",
   "nbconvert_exporter": "python",
   "pygments_lexer": "ipython3",
   "version": "3.9.19"
  }
 },
 "nbformat": 4,
 "nbformat_minor": 2
}
