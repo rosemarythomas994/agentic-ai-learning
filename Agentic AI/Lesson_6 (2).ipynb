{
 "cells": [
  {
   "cell_type": "markdown",
   "metadata": {},
   "source": [
    "# Lesson 6: APIs to use AI models"
   ]
  },
  {
   "cell_type": "markdown",
   "metadata": {},
   "source": [
    "\n",
    "In this lesson, you will learn how to use the OpenAI API. You'll also see how the `print_llm_response` and `get_llm_response` functions you have been using work to pass your prompt to the OpenAI API and retrieve the response.\n",
    "\n",
    "As always, you'll start by loading some functions you need:"
   ]
  },
  {
   "cell_type": "code",
   "execution_count": null,
   "metadata": {
    "height": 64
   },
   "outputs": [],
   "source": [
    "import os\n",
    "from dotenv import load_dotenv\n",
    "from openai import OpenAI"
   ]
  },
  {
   "cell_type": "code",
   "execution_count": 35,
   "metadata": {
    "height": 81
   },
   "outputs": [],
   "source": [
    "# Get the OpenAI API key from the .env file\n",
    "load_dotenv('.env', override=True)\n",
    "openai_api_key = os.getenv('OPENAI_API_KEY')\n",
    "client = OpenAI(api_key = openai_api_key)"
   ]
  },
  {
   "cell_type": "code",
   "execution_count": null,
   "metadata": {
    "height": 251
   },
   "outputs": [],
   "source": [
    "def get_llm_response(prompt):\n",
    "    completion = client.chat.completions.create(\n",
    "        model=\"gpt-4o-mini\",\n",
    "        messages=[\n",
    "            {\n",
    "                \"role\": \"system\",\n",
    "                \"content\": \"You are an AI assistant.\",\n",
    "            },\n",
    "            {\"role\": \"user\", \"content\": prompt},\n",
    "        ],\n",
    "        temperature=0.0,\n",
    "    )\n",
    "    response = completion.choices[0].message.content\n",
    "    return response"
   ]
  },
  {
   "cell_type": "code",
   "execution_count": 39,
   "metadata": {
    "height": 47
   },
   "outputs": [
    {
     "name": "stdout",
     "output_type": "stream",
     "text": [
      "Requirement already satisfied: pypdf in /usr/local/lib/python3.9/site-packages (6.0.0)\n",
      "Requirement already satisfied: typing_extensions>=4.0 in /usr/local/lib/python3.9/site-packages (from pypdf) (4.11.0)\n",
      "\n",
      "\u001b[1m[\u001b[0m\u001b[34;49mnotice\u001b[0m\u001b[1;39;49m]\u001b[0m\u001b[39;49m A new release of pip is available: \u001b[0m\u001b[31;49m24.0\u001b[0m\u001b[39;49m -> \u001b[0m\u001b[32;49m25.2\u001b[0m\n",
      "\u001b[1m[\u001b[0m\u001b[34;49mnotice\u001b[0m\u001b[1;39;49m]\u001b[0m\u001b[39;49m To update, run: \u001b[0m\u001b[32;49mpip install --upgrade pip\u001b[0m\n",
      "Note: you may need to restart the kernel to use updated packages.\n"
     ]
    }
   ],
   "source": [
    "pip install pypdf\n"
   ]
  },
  {
   "cell_type": "code",
   "execution_count": 40,
   "metadata": {
    "height": 47
   },
   "outputs": [
    {
     "name": "stdout",
     "output_type": "stream",
     "text": [
      "Requirement already satisfied: pymupdf in /usr/local/lib/python3.9/site-packages (1.26.4)\n",
      "\n",
      "\u001b[1m[\u001b[0m\u001b[34;49mnotice\u001b[0m\u001b[1;39;49m]\u001b[0m\u001b[39;49m A new release of pip is available: \u001b[0m\u001b[31;49m24.0\u001b[0m\u001b[39;49m -> \u001b[0m\u001b[32;49m25.2\u001b[0m\n",
      "\u001b[1m[\u001b[0m\u001b[34;49mnotice\u001b[0m\u001b[1;39;49m]\u001b[0m\u001b[39;49m To update, run: \u001b[0m\u001b[32;49mpip install --upgrade pip\u001b[0m\n",
      "Note: you may need to restart the kernel to use updated packages.\n"
     ]
    }
   ],
   "source": [
    "pip install pymupdf\n"
   ]
  },
  {
   "cell_type": "code",
   "execution_count": 77,
   "metadata": {
    "height": 47
   },
   "outputs": [
    {
     "name": "stdout",
     "output_type": "stream",
     "text": [
      "Collecting pytesseract\n",
      "  Downloading pytesseract-0.3.13-py3-none-any.whl.metadata (11 kB)\n",
      "Requirement already satisfied: pillow in /usr/local/lib/python3.9/site-packages (11.3.0)\n",
      "Requirement already satisfied: packaging>=21.3 in /usr/local/lib/python3.9/site-packages (from pytesseract) (23.2)\n",
      "Downloading pytesseract-0.3.13-py3-none-any.whl (14 kB)\n",
      "Installing collected packages: pytesseract\n",
      "Successfully installed pytesseract-0.3.13\n",
      "\n",
      "\u001b[1m[\u001b[0m\u001b[34;49mnotice\u001b[0m\u001b[1;39;49m]\u001b[0m\u001b[39;49m A new release of pip is available: \u001b[0m\u001b[31;49m24.0\u001b[0m\u001b[39;49m -> \u001b[0m\u001b[32;49m25.2\u001b[0m\n",
      "\u001b[1m[\u001b[0m\u001b[34;49mnotice\u001b[0m\u001b[1;39;49m]\u001b[0m\u001b[39;49m To update, run: \u001b[0m\u001b[32;49mpip install --upgrade pip\u001b[0m\n",
      "Note: you may need to restart the kernel to use updated packages.\n"
     ]
    }
   ],
   "source": [
    "%pip install pytesseract pillow\n"
   ]
  },
  {
   "cell_type": "code",
   "execution_count": 80,
   "metadata": {
    "height": 47
   },
   "outputs": [
    {
     "name": "stdout",
     "output_type": "stream",
     "text": [
      "Requirement already satisfied: pdfplumber in /usr/local/lib/python3.9/site-packages (0.11.7)\n",
      "Requirement already satisfied: openai in /usr/local/lib/python3.9/site-packages (1.93.0)\n",
      "Requirement already satisfied: python-dotenv in /usr/local/lib/python3.9/site-packages (1.0.1)\n",
      "Requirement already satisfied: ipywidgets in /usr/local/lib/python3.9/site-packages (8.1.5)\n",
      "Requirement already satisfied: pdfminer.six==20250506 in /usr/local/lib/python3.9/site-packages (from pdfplumber) (20250506)\n",
      "Requirement already satisfied: Pillow>=9.1 in /usr/local/lib/python3.9/site-packages (from pdfplumber) (11.3.0)\n",
      "Requirement already satisfied: pypdfium2>=4.18.0 in /usr/local/lib/python3.9/site-packages (from pdfplumber) (4.30.0)\n",
      "Requirement already satisfied: charset-normalizer>=2.0.0 in /usr/local/lib/python3.9/site-packages (from pdfminer.six==20250506->pdfplumber) (3.3.2)\n",
      "Requirement already satisfied: cryptography>=36.0.0 in /usr/local/lib/python3.9/site-packages (from pdfminer.six==20250506->pdfplumber) (45.0.7)\n",
      "Requirement already satisfied: anyio<5,>=3.5.0 in /usr/local/lib/python3.9/site-packages (from openai) (3.7.1)\n",
      "Requirement already satisfied: distro<2,>=1.7.0 in /usr/local/lib/python3.9/site-packages (from openai) (1.9.0)\n",
      "Requirement already satisfied: httpx<1,>=0.23.0 in /usr/local/lib/python3.9/site-packages (from openai) (0.27.0)\n",
      "Requirement already satisfied: jiter<1,>=0.4.0 in /usr/local/lib/python3.9/site-packages (from openai) (0.10.0)\n",
      "Requirement already satisfied: pydantic<3,>=1.9.0 in /usr/local/lib/python3.9/site-packages (from openai) (2.8.2)\n",
      "Requirement already satisfied: sniffio in /usr/local/lib/python3.9/site-packages (from openai) (1.3.1)\n",
      "Requirement already satisfied: tqdm>4 in /usr/local/lib/python3.9/site-packages (from openai) (4.66.1)\n",
      "Requirement already satisfied: typing-extensions<5,>=4.11 in /usr/local/lib/python3.9/site-packages (from openai) (4.11.0)\n",
      "Requirement already satisfied: comm>=0.1.3 in /usr/local/lib/python3.9/site-packages (from ipywidgets) (0.2.2)\n",
      "Requirement already satisfied: ipython>=6.1.0 in /usr/local/lib/python3.9/site-packages (from ipywidgets) (8.18.1)\n",
      "Requirement already satisfied: traitlets>=4.3.1 in /usr/local/lib/python3.9/site-packages (from ipywidgets) (5.9.0)\n",
      "Requirement already satisfied: widgetsnbextension~=4.0.12 in /usr/local/lib/python3.9/site-packages (from ipywidgets) (4.0.13)\n",
      "Requirement already satisfied: jupyterlab-widgets~=3.0.12 in /usr/local/lib/python3.9/site-packages (from ipywidgets) (3.0.13)\n",
      "Requirement already satisfied: idna>=2.8 in /usr/local/lib/python3.9/site-packages (from anyio<5,>=3.5.0->openai) (3.7)\n",
      "Requirement already satisfied: exceptiongroup in /usr/local/lib/python3.9/site-packages (from anyio<5,>=3.5.0->openai) (1.2.2)\n",
      "Requirement already satisfied: certifi in /usr/local/lib/python3.9/site-packages (from httpx<1,>=0.23.0->openai) (2024.2.2)\n",
      "Requirement already satisfied: httpcore==1.* in /usr/local/lib/python3.9/site-packages (from httpx<1,>=0.23.0->openai) (1.0.5)\n",
      "Requirement already satisfied: h11<0.15,>=0.13 in /usr/local/lib/python3.9/site-packages (from httpcore==1.*->httpx<1,>=0.23.0->openai) (0.14.0)\n",
      "Requirement already satisfied: decorator in /usr/local/lib/python3.9/site-packages (from ipython>=6.1.0->ipywidgets) (5.1.1)\n",
      "Requirement already satisfied: jedi>=0.16 in /usr/local/lib/python3.9/site-packages (from ipython>=6.1.0->ipywidgets) (0.19.1)\n",
      "Requirement already satisfied: matplotlib-inline in /usr/local/lib/python3.9/site-packages (from ipython>=6.1.0->ipywidgets) (0.1.7)\n",
      "Requirement already satisfied: prompt-toolkit<3.1.0,>=3.0.41 in /usr/local/lib/python3.9/site-packages (from ipython>=6.1.0->ipywidgets) (3.0.43)\n",
      "Requirement already satisfied: pygments>=2.4.0 in /usr/local/lib/python3.9/site-packages (from ipython>=6.1.0->ipywidgets) (2.17.2)\n",
      "Requirement already satisfied: stack-data in /usr/local/lib/python3.9/site-packages (from ipython>=6.1.0->ipywidgets) (0.6.3)\n",
      "Requirement already satisfied: pexpect>4.3 in /usr/local/lib/python3.9/site-packages (from ipython>=6.1.0->ipywidgets) (4.9.0)\n",
      "Requirement already satisfied: annotated-types>=0.4.0 in /usr/local/lib/python3.9/site-packages (from pydantic<3,>=1.9.0->openai) (0.7.0)\n",
      "Requirement already satisfied: pydantic-core==2.20.1 in /usr/local/lib/python3.9/site-packages (from pydantic<3,>=1.9.0->openai) (2.20.1)\n",
      "Requirement already satisfied: cffi>=1.14 in /usr/local/lib/python3.9/site-packages (from cryptography>=36.0.0->pdfminer.six==20250506->pdfplumber) (1.16.0)\n",
      "Requirement already satisfied: parso<0.9.0,>=0.8.3 in /usr/local/lib/python3.9/site-packages (from jedi>=0.16->ipython>=6.1.0->ipywidgets) (0.8.4)\n",
      "Requirement already satisfied: ptyprocess>=0.5 in /usr/local/lib/python3.9/site-packages (from pexpect>4.3->ipython>=6.1.0->ipywidgets) (0.7.0)\n",
      "Requirement already satisfied: wcwidth in /usr/local/lib/python3.9/site-packages (from prompt-toolkit<3.1.0,>=3.0.41->ipython>=6.1.0->ipywidgets) (0.2.13)\n",
      "Requirement already satisfied: executing>=1.2.0 in /usr/local/lib/python3.9/site-packages (from stack-data->ipython>=6.1.0->ipywidgets) (2.0.1)\n",
      "Requirement already satisfied: asttokens>=2.1.0 in /usr/local/lib/python3.9/site-packages (from stack-data->ipython>=6.1.0->ipywidgets) (2.4.1)\n",
      "Requirement already satisfied: pure-eval in /usr/local/lib/python3.9/site-packages (from stack-data->ipython>=6.1.0->ipywidgets) (0.2.2)\n",
      "Requirement already satisfied: six>=1.12.0 in /usr/local/lib/python3.9/site-packages (from asttokens>=2.1.0->stack-data->ipython>=6.1.0->ipywidgets) (1.16.0)\n",
      "Requirement already satisfied: pycparser in /usr/local/lib/python3.9/site-packages (from cffi>=1.14->cryptography>=36.0.0->pdfminer.six==20250506->pdfplumber) (2.22)\n",
      "\n",
      "\u001b[1m[\u001b[0m\u001b[34;49mnotice\u001b[0m\u001b[1;39;49m]\u001b[0m\u001b[39;49m A new release of pip is available: \u001b[0m\u001b[31;49m24.0\u001b[0m\u001b[39;49m -> \u001b[0m\u001b[32;49m25.2\u001b[0m\n",
      "\u001b[1m[\u001b[0m\u001b[34;49mnotice\u001b[0m\u001b[1;39;49m]\u001b[0m\u001b[39;49m To update, run: \u001b[0m\u001b[32;49mpip install --upgrade pip\u001b[0m\n"
     ]
    }
   ],
   "source": [
    "!pip install pdfplumber openai python-dotenv ipywidgets\n"
   ]
  },
  {
   "cell_type": "code",
   "execution_count": 109,
   "metadata": {
    "height": 149
   },
   "outputs": [],
   "source": [
    "import pdfplumber\n",
    "import ipywidgets as widgets\n",
    "from IPython.display import display"
   ]
  },
  {
   "cell_type": "code",
   "execution_count": 118,
   "metadata": {
    "height": 67
   },
   "outputs": [
    {
     "data": {
      "application/vnd.jupyter.widget-view+json": {
       "model_id": "be201af87f3a44ccbb6726bb318fbcdc",
       "version_major": 2,
       "version_minor": 0
      },
      "text/plain": [
       "FileUpload(value=(), accept='.pdf', description='Upload')"
      ]
     },
     "metadata": {},
     "output_type": "display_data"
    }
   ],
   "source": [
    "# Step 2: File upload widget for Jupyter\n",
    "upload_widget = widgets.FileUpload(accept='.pdf', multiple=False)\n",
    "display(upload_widget)\n"
   ]
  },
  {
   "cell_type": "code",
   "execution_count": null,
   "metadata": {
    "height": 200
   },
   "outputs": [],
   "source": [
    "# Step 3: Save uploaded PDF file locally\n",
    "def save_uploaded_file(upload_widget):\n",
    "    if upload_widget.value and len(upload_widget.value) > 0:\n",
    "        file_info = upload_widget.value[0]\n",
    "        file_name = file_info['name']\n",
    "        content = file_info['content']\n",
    "        with open(file_name, \"wb\") as f:\n",
    "            f.write(content)\n",
    "        return file_name\n",
    "    return None\n"
   ]
  },
  {
   "cell_type": "code",
   "execution_count": null,
   "metadata": {
    "height": 85
   },
   "outputs": [
    {
     "name": "stdout",
     "output_type": "stream",
     "text": [
      "Saved file: SLV053.pdf\n"
     ]
    }
   ],
   "source": [
    "# After uploading, run this cell manually\n",
    "file_path = save_uploaded_file(upload_widget)\n",
    "print(\"Saved file:\", file_path)"
   ]
  },
  {
   "cell_type": "code",
   "execution_count": null,
   "metadata": {
    "height": 171
   },
   "outputs": [],
   "source": [
    "# Step 4: Extract raw text from PDF using pdfplumber\n",
    "def extract_text_from_pdf(file_path):\n",
    "    text = \"\"\n",
    "    with pdfplumber.open(file_path) as pdf:\n",
    "        for page in pdf.pages:\n",
    "            page_text = page.extract_text()\n",
    "            if page_text:\n",
    "                text += page_text + \"\\n\"\n",
    "    return text\n"
   ]
  },
  {
   "cell_type": "code",
   "execution_count": 122,
   "metadata": {
    "height": 360
   },
   "outputs": [],
   "source": [
    "# Step 5: Extract form fields (includes radio buttons / checkboxes) using PyPDF2\n",
    "def extract_pdf_form_fields(file_path):\n",
    "    reader = PdfReader(file_path)\n",
    "    fields = reader.get_fields()\n",
    "    if fields:\n",
    "        result = {}\n",
    "        for key, val in fields.items():\n",
    "            # val can be a dictionary or direct value\n",
    "            if isinstance(val, dict):\n",
    "                value = val.get('/V') or val.get('/AS') or None\n",
    "                # Some values are NameObjects, convert to str ignoring '/'\n",
    "                if value and hasattr(value, 'original_bytes'):\n",
    "                    value = value.original_bytes.decode('utf-8')\n",
    "                if isinstance(value, str) and value.startswith('/'):\n",
    "                    value = value[1:]\n",
    "                result[key] = value\n",
    "            else:\n",
    "                result[key] = val\n",
    "        return result\n",
    "    return {}\n",
    "\n",
    "\n"
   ]
  },
  {
   "cell_type": "code",
   "execution_count": 123,
   "metadata": {
    "height": 217
   },
   "outputs": [],
   "source": [
    "# Step 6: OpenAI LLM call for JSON extraction from raw text\n",
    "def get_llm_response(prompt):\n",
    "    completion = client.chat.completions.create(\n",
    "        model=\"gpt-4o-mini\",\n",
    "        messages=[\n",
    "            {\"role\": \"system\", \"content\": \"You are an AI document parser. Output valid JSON only.\"},\n",
    "            {\"role\": \"user\", \"content\": prompt},\n",
    "        ],\n",
    "        temperature=0.0,\n",
    "    )\n",
    "    return completion.choices[0].message.content\n"
   ]
  },
  {
   "cell_type": "markdown",
   "metadata": {},
   "source": [
    "You can now use this function to ask a question to an LLM:"
   ]
  },
  {
   "cell_type": "code",
   "execution_count": null,
   "metadata": {
    "height": 321
   },
   "outputs": [],
   "source": [
    "# Step 7: Convert PDF text to JSON using LLM with given fields\n",
    "def pdf_text_to_json(raw_text):\n",
    "    form_fields = extract_pdf_form_fields(file_path)\n",
    "    raw_text = extract_text_from_pdf(file_path)\n",
    "\n",
    "    # Convert form fields dictionary into a string representation for the prompt\n",
    "    form_fields_str = \"\\n\".join([f\"{k}: {v}\" for k,v in form_fields.items()])\n",
    "\n",
    "    prompt = f\"\"\"\n",
    "You are a document parser. Your task is to convert the provided PDF text and form data\n",
    "into structured JSON.\n",
    "\n",
    "Rules:\n",
    "\n",
    "1. Include all fields in the output JSON, even if their value is empty or null.\n",
    "2. For checkboxes or radio buttons:\n",
    "   -Include only the items that are selected (marked with '✔' or similar).\n",
    "   - If no items in a checkbox/radio group are selected, set the field to null.\n",
    "   - Do NOT output boolean true/false for unselected items.\n",
    "   - Extract only the items that are marked as selected, indicated by a leading '✔' or similar mark.\n",
    "    - Ignore items without any selection mark.\n",
    "    - If no items are selected in a checklist, set it to null.\n",
    "\n",
    "3. Split full names into 'FirstName' and 'LastName' if possible.\n",
    "4. Group logically related fields together.\n",
    "5. Output valid JSON only. No explanation, no extra text.\n",
    "6.Extract data if it is split into two coloumns and/or numbered columns data\n",
    "\n",
    "Here are the filled form fields (checkboxes, radios, etc.):\n",
    "\n",
    "{form_fields_str}\n",
    "\n",
    "Here is the extracted text from the PDF:\n",
    "\n",
    "{raw_text}\n",
    "\"\"\"\n",
    "    return get_llm_response(prompt)\n"
   ]
  },
  {
   "cell_type": "code",
   "execution_count": 125,
   "metadata": {
    "height": 317
   },
   "outputs": [
    {
     "name": "stdout",
     "output_type": "stream",
     "text": [
      "----- Raw Extracted Text -----\n",
      "An official website of the United States government Here's how you know\n",
      "MENU\n",
      "Export License Application\n",
      "Status COMPLETED - APPROVED W/CONDITIONS\n",
      "Contact Information\n",
      "Reference Number\n",
      "SLV0530\n",
      "1. Contact Person (First Name, Last Name)\n",
      "Shelley Vybiral\n",
      "2. Telephone Number 3. Fax Number\n",
      "6302003543 -\n",
      "Email\n",
      "shelley.vybiral@cmcelectronics.us\n",
      "4. Creation Date\n",
      "05/30/2025\n",
      "5. Type of Application\n",
      "Export License Application\n",
      "Document Checklist\n",
      "6. Documents submitted with application\n",
      "✔ Export Items (BIS-748P-A)\n",
      "End Users (BIS-748P-B)\n",
      "BIS-711\n",
      "✔ Import/End-User Certificate\n",
      "Technical Specification\n",
      "Letter of Explanation\n",
      "Foreign Availability\n",
      "Other Tell us what to improve\n",
      "purchase order\n",
      "7. Documents on file with applicant\n",
      "BIS-711\n",
      "Letter of Assurance\n",
      "Import/End-User Certificate\n",
      "Nuclear Certification\n",
      "Other\n",
      "-\n",
      "License Information\n",
      "9. Special Purpose\n",
      "-\n",
      "10. Resubmission ACN 11. Replacement License Number\n",
      "- -\n",
      "13. Import Certificate Country Import Certificate Number\n",
      "- -\n",
      "Applicant Information\n",
      "14. CIN (Applicant ID) Applicant\n",
      "C702375 CMC Electronics Aurora, LLC\n",
      "Address 1 Address 2\n",
      "84 N. Dugan Road -\n",
      "City Country\n",
      "Sugar Grove UNITED STATES\n",
      "State/Province Postal Code\n",
      "Illinois 60554\n",
      "EIN\n",
      "363503592\n",
      "Other Party Information\n",
      "15. Other Party ID Other Party\n",
      "- -\n",
      "Address 1 Address 2\n",
      "- -\n",
      "City Country\n",
      "- -\n",
      "State/Province Postal Code\n",
      "- -\n",
      "Telephone or Fax\n",
      "-\n",
      "a) If you are a First Party submitter and will be the Principal Party in Interest using this\n",
      "license, note that, in the electronic environment, this block does not function to send a license\n",
      "to any other interested party, and no other interested party will appear on the license.\n",
      "If you wish another party to be authorized to discuss this license, please enter the information\n",
      "in Block 24 (Additional Information) and name specific individuals.\n",
      "b) If you need to add any party to be authorized under the license, but for whom there is no\n",
      "available field (such as a second Intermediate Consignee), list that party in Block 19 (End User\n",
      "Information), even if they are not an End User, and explain their role in the transaction in Block\n",
      "24 (Additional Information), or in an attached Letter of Explanation.\n",
      "Purchaser Information\n",
      "16. Purchaser\n",
      "PILATUS AIRCRAFT LIMITED\n",
      "Address 1 Address 2\n",
      "Pilatusstrasse 1 -\n",
      "City Country\n",
      "STANS SWITZERLAND\n",
      "State/Province Postal Code\n",
      "- 6370\n",
      "Telephone or Fax\n",
      "-\n",
      "Intermediate Consignee Information\n",
      "17. Intermediate Consignee\n",
      "Hellmann Worldwide Logistics AG\n",
      "Address 1 Address 2\n",
      "Steinackerstrasse 28 -\n",
      "City Country\n",
      "Kloten SWITZERLAND\n",
      "State/Province Postal Code\n",
      "ZH 8302\n",
      "Telephone or Fax\n",
      "-\n",
      "Ultimate Consignee Information\n",
      "18. Ultimate Consignee\n",
      "PILATUS AIRCRAFT LIMITED\n",
      "Address 1 Address 2\n",
      "Pilatusstrasse 1 -\n",
      "City Country\n",
      "STANS SWITZERLAND\n",
      "State/Province Postal Code\n",
      "- 6370\n",
      "Telephone or Fax\n",
      "-\n",
      "End User Information\n",
      "19.\n",
      "Address Address Postal Teleph\n",
      "End City Country\n",
      "Line 1 Line 2 Code or Fax\n",
      "User\n",
      "No items found\n",
      "Specific End Use\n",
      "21. Specific End Use\n",
      "The avionics equipment subject to this license will be delivered to Pilatus Aircraft\n",
      "Limited for use in testing on its PC-21 trainer aircraft.\n",
      "Export Item Information\n",
      "22. Export Item #1\n",
      "(a) ECCN (b) APP (c) Product/Model Number (d) CCATS Number\n",
      "9A610 - - -\n",
      "(e) Quantity (f) Units (g) Unit Price (h) Total Price (i) Manufacturer\n",
      "1 each $4017 $4017 CMC Electronics\n",
      "Aurora\n",
      "(j) Technical Description\n",
      "(digital HUD) boresight module\n",
      "22. Export Item #2\n",
      "(a) ECCN (b) APP (c) Product/Model Number (d) CCATS Number\n",
      "9A610 - - -\n",
      "(e) Quantity (f) Units (g) Unit Price (h) Total Price (i) Manufacturer\n",
      "1 each $54080 $54080 CMC ELECTRONICS\n",
      "AURORA\n",
      "(j) Technical Description\n",
      "(digital HUD) boresight tool\n",
      "Total Application Dollar Value\n",
      "23. Total Application Dollar Value\n",
      "$58,097.00\n",
      "Additional Information\n",
      "24. Additional Information\n",
      "-\n",
      "Documents attached to application\n",
      "Title Author Document Type View\n",
      "end use Paolo Soldo, Pilatus Import/End-User\n",
      "statement Aircraft Certificate\n",
      "po pilatus Other\n",
      "First Previous 1 of 1 Next Last\n",
      "Signer Information\n",
      "Name\n",
      "\n",
      "----- PDF Form Fields -----\n",
      "{}\n",
      "----- Extracted JSON from Text -----\n",
      "{\n",
      "  \"website\": \"An official website of the United States government\",\n",
      "  \"status\": \"COMPLETED - APPROVED W/CONDITIONS\",\n",
      "  \"contact_information\": {\n",
      "    \"reference_number\": \"SLV0530\",\n",
      "    \"contact_person\": {\n",
      "      \"first_name\": \"Shelley\",\n",
      "      \"last_name\": \"Vybiral\"\n",
      "    },\n",
      "    \"telephone_number\": \"6302003543\",\n",
      "    \"fax_number\": null,\n",
      "    \"email\": \"shelley.vybiral@cmcelectronics.us\",\n",
      "    \"creation_date\": \"05/30/2025\",\n",
      "    \"type_of_application\": \"Export License Application\"\n",
      "  },\n",
      "  \"document_checklist\": {\n",
      "    \"documents_submitted\": [\n",
      "      \"Export Items (BIS-748P-A)\",\n",
      "      \"End Users (BIS-748P-B)\",\n",
      "      \"BIS-711\",\n",
      "      \"Import/End-User Certificate\"\n",
      "    ],\n",
      "    \"documents_on_file\": [\n",
      "      \"BIS-711\",\n",
      "      \"Letter of Assurance\",\n",
      "      \"Import/End-User Certificate\",\n",
      "      \"Nuclear Certification\"\n",
      "    ]\n",
      "  },\n",
      "  \"license_information\": {\n",
      "    \"special_purpose\": null,\n",
      "    \"resubmission_acn\": null,\n",
      "    \"replacement_license_number\": null,\n",
      "    \"import_certificate_country\": null,\n",
      "    \"import_certificate_number\": null\n",
      "  },\n",
      "  \"applicant_information\": {\n",
      "    \"cin\": \"C702375\",\n",
      "    \"applicant\": \"CMC Electronics Aurora, LLC\",\n",
      "    \"address\": {\n",
      "      \"address_1\": \"84 N. Dugan Road\",\n",
      "      \"address_2\": null,\n",
      "      \"city\": \"Sugar Grove\",\n",
      "      \"country\": \"UNITED STATES\",\n",
      "      \"state_province\": \"Illinois\",\n",
      "      \"postal_code\": \"60554\"\n",
      "    },\n",
      "    \"ein\": \"363503592\"\n",
      "  },\n",
      "  \"other_party_information\": {\n",
      "    \"other_party_id\": null,\n",
      "    \"other_party\": null,\n",
      "    \"address\": {\n",
      "      \"address_1\": null,\n",
      "      \"address_2\": null,\n",
      "      \"city\": null,\n",
      "      \"country\": null,\n",
      "      \"state_province\": null,\n",
      "      \"postal_code\": null\n",
      "    },\n",
      "    \"telephone_or_fax\": null\n",
      "  },\n",
      "  \"purchaser_information\": {\n",
      "    \"purchaser\": \"PILATUS AIRCRAFT LIMITED\",\n",
      "    \"address\": {\n",
      "      \"address_1\": \"Pilatusstrasse 1\",\n",
      "      \"address_2\": null,\n",
      "      \"city\": \"STANS\",\n",
      "      \"country\": \"SWITZERLAND\",\n",
      "      \"state_province\": null,\n",
      "      \"postal_code\": \"6370\"\n",
      "    },\n",
      "    \"telephone_or_fax\": null\n",
      "  },\n",
      "  \"intermediate_consignee_information\": {\n",
      "    \"intermediate_consignee\": \"Hellmann Worldwide Logistics AG\",\n",
      "    \"address\": {\n",
      "      \"address_1\": \"Steinackerstrasse 28\",\n",
      "      \"address_2\": null,\n",
      "      \"city\": \"Kloten\",\n",
      "      \"country\": \"SWITZERLAND\",\n",
      "      \"state_province\": \"ZH\",\n",
      "      \"postal_code\": \"8302\"\n",
      "    },\n",
      "    \"telephone_or_fax\": null\n",
      "  },\n",
      "  \"ultimate_consignee_information\": {\n",
      "    \"ultimate_consignee\": \"PILATUS AIRCRAFT LIMITED\",\n",
      "    \"address\": {\n",
      "      \"address_1\": \"Pilatusstrasse 1\",\n",
      "      \"address_2\": null,\n",
      "      \"city\": \"STANS\",\n",
      "      \"country\": \"SWITZERLAND\",\n",
      "      \"state_province\": null,\n",
      "      \"postal_code\": \"6370\"\n",
      "    },\n",
      "    \"telephone_or_fax\": null\n",
      "  },\n",
      "  \"end_user_information\": {\n",
      "    \"address\": {\n",
      "      \"line_1\": null,\n",
      "      \"line_2\": null,\n",
      "      \"city\": null,\n",
      "      \"country\": null,\n",
      "      \"postal_code\": null,\n",
      "      \"telephone_or_fax\": null\n",
      "    }\n",
      "  },\n",
      "  \"specific_end_use\": \"The avionics equipment subject to this license will be delivered to Pilatus Aircraft Limited for use in testing on its PC-21 trainer aircraft.\",\n",
      "  \"export_item_information\": [\n",
      "    {\n",
      "      \"item_number\": 1,\n",
      "      \"eccn\": \"9A610\",\n",
      "      \"app\": null,\n",
      "      \"product_model_number\": null,\n",
      "      \"ccats_number\": null,\n",
      "      \"quantity\": \"1\",\n",
      "      \"units\": \"each\",\n",
      "      \"unit_price\": \"$4017\",\n",
      "      \"total_price\": \"$4017\",\n",
      "      \"manufacturer\": \"CMC Electronics Aurora\",\n",
      "      \"technical_description\": \"(digital HUD) boresight module\"\n",
      "    },\n",
      "    {\n",
      "      \"item_number\": 2,\n",
      "      \"eccn\": \"9A610\",\n",
      "      \"app\": null,\n",
      "      \"product_model_number\": null,\n",
      "      \"ccats_number\": null,\n",
      "      \"quantity\": \"1\",\n",
      "      \"units\": \"each\",\n",
      "      \"unit_price\": \"$54080\",\n",
      "      \"total_price\": \"$54080\",\n",
      "      \"manufacturer\": \"CMC ELECTRONICS AURORA\",\n",
      "      \"technical_description\": \"(digital HUD) boresight tool\"\n",
      "    }\n",
      "  ],\n",
      "  \"total_application_dollar_value\": \"$58,097.00\",\n",
      "  \"additional_information\": null,\n",
      "  \"documents_attached\": [\n",
      "    {\n",
      "      \"title\": \"end use\",\n",
      "      \"author\": \"Paolo Soldo, Pilatus\",\n",
      "      \"document_type\": \"Import/End-User Certificate\",\n",
      "      \"view\": null\n",
      "    },\n",
      "    {\n",
      "      \"title\": \"po\",\n",
      "      \"author\": \"pilatus\",\n",
      "      \"document_type\": \"Other\",\n",
      "      \"view\": null\n",
      "    }\n",
      "  ],\n",
      "  \"signer_information\": {\n",
      "    \"name\": null\n",
      "  }\n",
      "}\n"
     ]
    }
   ],
   "source": [
    "# Step 8: Run everything and show combined result\n",
    "if file_path:\n",
    "    # Extract raw text\n",
    "    raw_text = extract_text_from_pdf(file_path)\n",
    "    print(\"----- Raw Extracted Text -----\")\n",
    "    print(raw_text)\n",
    "    \n",
    "    # Extract PDF interactive form fields\n",
    "    form_fields = extract_pdf_form_fields(file_path)\n",
    "    print(\"----- PDF Form Fields -----\")\n",
    "    print(form_fields)\n",
    "\n",
    "    # Convert raw text to JSON with LLM\n",
    "    extracted_json = pdf_text_to_json(raw_text)\n",
    "    print(\"----- Extracted JSON from Text -----\")\n",
    "    print(extracted_json)\n",
    "else:\n",
    "    print(\"Please upload a PDF file above and rerun this cell.\")"
   ]
  },
  {
   "cell_type": "code",
   "execution_count": null,
   "metadata": {
    "height": 30
   },
   "outputs": [],
   "source": []
  },
  {
   "cell_type": "markdown",
   "metadata": {},
   "source": [
    "## Modifying the system message to change the LLM behavior \n",
    "\n",
    "Try changing/adding details in the \"content\" of the system message to change the LLM response\n",
    "* For example, \"You are a sarcastic AI assistant.\"\n",
    "* Be sure to run the function cell each time you change the system message before you prompt the LLM."
   ]
  },
  {
   "cell_type": "code",
   "execution_count": null,
   "metadata": {
    "height": 30
   },
   "outputs": [],
   "source": []
  },
  {
   "cell_type": "code",
   "execution_count": null,
   "metadata": {
    "height": 30
   },
   "outputs": [],
   "source": []
  },
  {
   "cell_type": "code",
   "execution_count": null,
   "metadata": {
    "height": 251
   },
   "outputs": [],
   "source": []
  },
  {
   "cell_type": "markdown",
   "metadata": {},
   "source": [
    "Now give your prompt to the LLM:"
   ]
  },
  {
   "cell_type": "code",
   "execution_count": null,
   "metadata": {
    "height": 64
   },
   "outputs": [],
   "source": [
    "prompt = \"What is the capital of France?\"\n",
    "response = get_llm_response(prompt)\n",
    "print(response)"
   ]
  },
  {
   "cell_type": "markdown",
   "metadata": {},
   "source": [
    "Vary the system prompt a few times to see the behavior change!"
   ]
  },
  {
   "cell_type": "markdown",
   "metadata": {},
   "source": [
    "## Modify the temperature to change the randomness of the output\n",
    "\n",
    "Try changing the temperature value to make the response of the model more random and different each time\n",
    "* For example, set the temperature to 1.0 or 0.7 and see what happens\n",
    "* Be sure to run the function cell each time you change the temperature before you prompt the LLM."
   ]
  },
  {
   "cell_type": "code",
   "execution_count": null,
   "metadata": {
    "height": 251
   },
   "outputs": [],
   "source": [
    "def get_llm_response(prompt):\n",
    "    completion = client.chat.completions.create(\n",
    "        model=\"gpt-4o-mini\",\n",
    "        messages=[\n",
    "            {\n",
    "                \"role\": \"system\",\n",
    "                \"content\": \"You are an AI assistant.\", \n",
    "            },\n",
    "            {\"role\": \"user\", \"content\": prompt},\n",
    "        ],\n",
    "        temperature=0.0, # change this to a value between 0 and 2\n",
    "    )\n",
    "    response = completion.choices[0].message.content\n",
    "    return response"
   ]
  },
  {
   "cell_type": "markdown",
   "metadata": {},
   "source": [
    "Now give your prompt to the LLM"
   ]
  },
  {
   "cell_type": "code",
   "execution_count": null,
   "metadata": {
    "height": 64
   },
   "outputs": [],
   "source": [
    "prompt = \"What is the capital of France?\"\n",
    "response = get_llm_response(prompt)\n",
    "print(response)"
   ]
  },
  {
   "cell_type": "markdown",
   "metadata": {},
   "source": [
    "Change the temperature to a value greater than 0 and run the prompt cell a few times to see the response change!"
   ]
  },
  {
   "cell_type": "markdown",
   "metadata": {},
   "source": [
    "## Using LLMs through the `aisetup` package\n",
    "\n",
    "If you have installed aisetup on your own computer, you'll need to run an extra line of code to get your own API key into the notebook and accessible to the `print_llm_response` and `get_llm_response` functions:"
   ]
  },
  {
   "cell_type": "code",
   "execution_count": null,
   "metadata": {
    "height": 183
   },
   "outputs": [],
   "source": [
    "from aisetup import authenticate, print_llm_response, get_llm_response\n",
    "\n",
    "authenticate(\"YOUR API KEY HERE\")\n",
    "\n",
    "# Print the LLM response\n",
    "print_llm_response(\"What is the capital of France\")\n",
    "\n",
    "# Store the LLM response as a variable and then print\n",
    "response = get_llm_response(\"What is the capital of France\")\n",
    "print(response)"
   ]
  },
  {
   "cell_type": "markdown",
   "metadata": {},
   "source": [
    "**Note:** Please follow best practices and **don't** expose your API KEY in any code you write! \n",
    "\n",
    "You can try this method instead:"
   ]
  },
  {
   "cell_type": "code",
   "execution_count": null,
   "metadata": {
    "height": 251
   },
   "outputs": [],
   "source": [
    "from aisetup import authenticate, print_llm_response, get_llm_response\n",
    "from dotenv import load_dotenv\n",
    "import os\n",
    "\n",
    "load_dotenv('.env', override=True)\n",
    "openai_api_key = os.getenv('OPENAI_API_KEY')\n",
    "authenticate(openai_api_key)\n",
    "\n",
    "# Print the LLM response\n",
    "print_llm_response(\"What is the capital of France\")\n",
    "\n",
    "# Store the LLM response as a variable and then print\n",
    "response = print_llm_response(\"What is the capital of France\")\n",
    "print(response)"
   ]
  },
  {
   "cell_type": "markdown",
   "metadata": {},
   "source": [
    "## Extra practice \n",
    "\n",
    "Ask the chatbot for help understanding how the `load_dotenv` code works. Ask for step-by-step instructions on how you can create and setup a `.env` file on your own computer."
   ]
  }
 ],
 "metadata": {
  "kernelspec": {
   "display_name": "Python 3 (ipykernel)",
   "language": "python",
   "name": "python3"
  },
  "language_info": {
   "codemirror_mode": {
    "name": "ipython",
    "version": 3
   },
   "file_extension": ".py",
   "mimetype": "text/x-python",
   "name": "python",
   "nbconvert_exporter": "python",
   "pygments_lexer": "ipython3",
   "version": "3.9.19"
  }
 },
 "nbformat": 4,
 "nbformat_minor": 2
}
