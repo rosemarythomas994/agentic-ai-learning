{
 "cells": [
  {
   "cell_type": "markdown",
   "metadata": {},
   "source": [
    "# Lesson 4: Installing packages"
   ]
  },
  {
   "cell_type": "markdown",
   "metadata": {},
   "source": [
    "In this lesson, you will learn how to install third-party packages using a command called `pip`.\n",
    "\n",
    "Once you have installed a package, you can use functions from the package by importing them using the `import` command."
   ]
  },
  {
   "cell_type": "markdown",
   "metadata": {},
   "source": [
    "## Installing packages using `pip`"
   ]
  },
  {
   "cell_type": "markdown",
   "metadata": {},
   "source": [
    "Run the cell below to install the `bs4` package:"
   ]
  },
  {
   "cell_type": "code",
   "execution_count": 1,
   "metadata": {
    "height": 30
   },
   "outputs": [
    {
     "name": "stdout",
     "output_type": "stream",
     "text": [
      "Collecting bs4\n",
      "  Downloading bs4-0.0.2-py2.py3-none-any.whl.metadata (411 bytes)\n",
      "Requirement already satisfied: beautifulsoup4 in /usr/local/lib/python3.9/site-packages (from bs4) (4.12.3)\n",
      "Requirement already satisfied: soupsieve>1.2 in /usr/local/lib/python3.9/site-packages (from beautifulsoup4->bs4) (2.5)\n",
      "Downloading bs4-0.0.2-py2.py3-none-any.whl (1.2 kB)\n",
      "Installing collected packages: bs4\n",
      "Successfully installed bs4-0.0.2\n",
      "\n",
      "\u001b[1m[\u001b[0m\u001b[34;49mnotice\u001b[0m\u001b[1;39;49m]\u001b[0m\u001b[39;49m A new release of pip is available: \u001b[0m\u001b[31;49m24.0\u001b[0m\u001b[39;49m -> \u001b[0m\u001b[32;49m25.2\u001b[0m\n",
      "\u001b[1m[\u001b[0m\u001b[34;49mnotice\u001b[0m\u001b[1;39;49m]\u001b[0m\u001b[39;49m To update, run: \u001b[0m\u001b[32;49mpip install --upgrade pip\u001b[0m\n"
     ]
    }
   ],
   "source": [
    "!pip install bs4"
   ]
  },
  {
   "cell_type": "markdown",
   "metadata": {},
   "source": [
    "**Note:** You can safely ignore any warnings you see about upgrading pip."
   ]
  },
  {
   "cell_type": "markdown",
   "metadata": {},
   "source": [
    "bs4 is short for **Beautiful Soup 4**. You can check out the [Beautiful Soup documentation](https://pypi.org/project/beautifulsoup4/) if you want to learn more about the package, but it gives you tools to interpret HTML webpages inside Python programs.\n",
    "\n",
    "Now that you have installed the bs4 package, you can use it in your programs!\n",
    "\n",
    "First, you need to import the `BeautifulSoup` function you'll use from the `bs4` package, as well as some other packages:"
   ]
  },
  {
   "cell_type": "code",
   "execution_count": 2,
   "metadata": {
    "height": 98
   },
   "outputs": [],
   "source": [
    "from bs4 import BeautifulSoup\n",
    "\n",
    "import requests # let's you download webpages into python\n",
    "from helper_functions import * \n",
    "from IPython.display import HTML, display"
   ]
  },
  {
   "cell_type": "markdown",
   "metadata": {},
   "source": [
    "## Get data from the web\n",
    "\n",
    "In this section, you'll \"scrape\", or download HTML data from a website, in this case from a [Batch newsletter](https://www.deeplearning.ai/the-batch/) published by DeepLearning.AI.\n",
    "\n",
    "You'll use the `requests` Python package to download the data from the webpage and make it available in your program:"
   ]
  },
  {
   "cell_type": "code",
   "execution_count": 12,
   "metadata": {
    "height": 149
   },
   "outputs": [
    {
     "name": "stdout",
     "output_type": "stream",
     "text": [
      "<Response [200]>\n"
     ]
    }
   ],
   "source": [
    "# The url from one of the Batch's newsletter\n",
    "url = 'https://www.yathrikanonroad.com/2022/07/'\n",
    "\n",
    "# Getting the content from the webpage's contents\n",
    "response = requests.get(url)\n",
    "\n",
    "# Print the response from the requests\n",
    "print(response)"
   ]
  },
  {
   "cell_type": "markdown",
   "metadata": {},
   "source": [
    "**Note:** The `<Response [200]>` you see is an indication from the requests library that your HTTP request was successful. You can ask the chatbot for details about other codes you might see."
   ]
  },
  {
   "cell_type": "markdown",
   "metadata": {},
   "source": [
    "Now that you have downloaded the content from the website, you can display it in the notebook using the following code:"
   ]
  },
  {
   "cell_type": "code",
   "execution_count": 17,
   "metadata": {
    "height": 30
   },
   "outputs": [
    {
     "data": {
      "text/html": [
       "<iframe src=https://www.yathrikanonroad.com/2022/07/ width=\"100%\" height=\"400\"></iframe>"
      ],
      "text/plain": [
       "<IPython.core.display.HTML object>"
      ]
     },
     "execution_count": 17,
     "metadata": {},
     "output_type": "execute_result"
    }
   ],
   "source": [
    "HTML(f'<iframe src={url} width=\"100%\" height=\"400\"></iframe>')"
   ]
  },
  {
   "cell_type": "markdown",
   "metadata": {},
   "source": [
    "Next, you'll use Beautiful Soup to extract all the text paragraphs from the HTML structure that you retrieved, and save it as a single string. Here is the code to do this:"
   ]
  },
  {
   "cell_type": "code",
   "execution_count": 16,
   "metadata": {
    "height": 251
   },
   "outputs": [
    {
     "name": "stdout",
     "output_type": "stream",
     "text": [
      "\n",
      "കുമരകത്തിന്റെ കായൽ ഭംഗിയോടൊപ്പം ആസ്വദിക്കുവാൻ സ്വദേശികളും വിദേശികളുമായി ഏറ്റവും കൂടുതൽ ആൾക്കാർ എത്തുന്ന സ്ഥലമാണ് Kumarakam Bird …\n",
      "Aruvikkuzhi Waterfalls | അരുവിക്കുഴി വെള്ളച്ചാട്ടം. കേരളത്തിലെ കോട്ടയം  ജില്ലയിൽ(kottayam) പള്ളിക്കൽതോട്ടിൽ നിന്നും 2 കിലോമീറ്റ…\n",
      "മധ്യകേരളത്തിലെ ജില്ലയായ കോട്ടയ ത്തെ ഒരു പ്രധാന വിനോദസഞ്ചാര കേന്ദ്രമാണ് ഇലവീഴാപൂഞ്ചിറ (ilaveezhapoonchira ). കേരളത്തിലെ ഓഫ് റോഡ് …\n",
      "യാത്രകളെ എന്നുമുതലാണ് പ്രണയിച്ചു തുടങ്ങിയതെന്നറിയില്ല... പക്ഷേ ജീവിതയാത്രയില്‍ എവിടെയോ വച്ച് കൂടെക്കൂടിയതാണ് ഇപ്പോള്‍ പിരിയാനാവാത്തവണ്ണം യാത്രകളെ ഞാന്‍ പ്രണയിക്കുന്നു. \n",
      "Our website uses cookies to improve your experience. Learn more\n"
     ]
    }
   ],
   "source": [
    "# Using beautifulsoup to extract the text\n",
    "soup = BeautifulSoup(response.text, 'html.parser')\n",
    "# Find all the text in paragraph elements on the webpage\n",
    "all_text = soup.find_all('p')\n",
    "\n",
    "# Create an empty string to store the extracted text\n",
    "combined_text = \"\"\n",
    "\n",
    "# Iterate over 'all_text' and add to the combined_text string\n",
    "for text in all_text:\n",
    "    combined_text = combined_text + \"\\n\" + text.get_text()\n",
    "\n",
    "# Print the final combined text\n",
    "print(combined_text)"
   ]
  },
  {
   "cell_type": "code",
   "execution_count": 20,
   "metadata": {
    "height": 132
   },
   "outputs": [
    {
     "name": "stdout",
     "output_type": "stream",
     "text": [
      "\n",
      "\n",
      "\n",
      "\n",
      "\n",
      "\n",
      "\n",
      "\n",
      "\n",
      "\n",
      "\n",
      "\n",
      "\n",
      "\n",
      "\n",
      "\n",
      "\n",
      "\n",
      "\n",
      "\n",
      "\n",
      "\n",
      "Yathrikan On Road | Malayalam Travel Blog | മലയാളം യാത്രാവിവരണം | \n",
      "\n",
      "\n",
      "\n",
      "\n",
      "\n",
      "\n",
      "\n",
      "\n",
      "\n",
      "\n",
      "\n",
      "\n",
      "\n",
      "\n",
      "\n",
      "\n",
      "\n",
      "\n",
      "\n",
      "\n",
      "\n",
      "\n",
      "\n",
      "\n",
      "\n",
      "\n",
      "\n",
      "\n",
      "\n",
      "\n",
      "\n",
      "\n",
      "\n",
      "\n",
      "\n",
      "\n",
      "\n",
      "\n",
      "\n",
      "\n",
      "\n",
      "\n",
      "\n",
      "\n",
      "\n",
      "\n",
      "\n",
      "\n",
      "\n",
      "\n",
      "\n",
      "\n",
      "\n",
      "\n",
      "\n",
      "\n",
      "Disclaimer\n",
      "Privacy Policy\n",
      "\n",
      "\n",
      "\n",
      "\n",
      "\n",
      "\n",
      "\n",
      "\n",
      "\n",
      "\n",
      "\n",
      "\n",
      "\n",
      "\n",
      "\n",
      "\n",
      "\n",
      "\n",
      "\n",
      "\n",
      "\n",
      "\n",
      "Yathrikan On Road | Malayalam Travel Blog | മലയാളം യാത്രാവിവരണം | \n",
      "\n",
      "\n",
      "\n",
      "\n",
      "Home\n",
      "About us\n",
      "KERALA\n",
      "_KOTTAYAM\n",
      "Travel Enquiry\n",
      "Gallery\n",
      "Sitemap\n",
      "Contact us\n",
      "\n",
      "\n",
      "\n",
      "\n",
      "\n",
      "\n",
      "\n",
      "\n",
      "\n",
      "\n",
      "\n",
      "\n",
      "\n",
      "\n",
      "\n",
      "\n",
      "\n",
      "\n",
      "\n",
      "\n",
      "\n",
      "\n",
      "\n",
      "\n",
      "\n",
      "\n",
      "\n",
      "\n",
      "\n",
      "\n",
      "Showing posts from July, 2022\n",
      "\n",
      "\n",
      "\n",
      "\n",
      "\n",
      "\n",
      "Kottayam\n",
      "Kumarakom Bird Sanctuary | കുമരകം പക്ഷിസങ്കേതം | kavanattinkara kumarakom kerala | Kottayam \n",
      "കുമരകത്തിന്റെ കായൽ ഭംഗിയോടൊപ്പം ആസ്വദിക്കുവാൻ സ്വദേശികളും വിദേശികളുമായി ഏറ്റവും കൂടുതൽ ആൾക്കാർ എത്തുന്ന സ്ഥലമാണ് Kumarakam Bird …\n",
      "\n",
      "\n",
      "\n",
      "\n",
      "\n",
      "\n",
      "\n",
      "\n",
      "Kottayam\n",
      "ARUVIKKUZHI WATERFALLS | അരുവിക്കുഴി വെള്ളച്ചാട്ടം | PHOTOS | ARUVIKKUZHY FALLS | KOTTAYAM |\n",
      "Aruvikkuzhi Waterfalls | അരുവിക്കുഴി വെള്ളച്ചാട്ടം. കേരളത്തിലെ കോട്ടയം  ജില്ലയിൽ(kottayam) പള്ളിക്കൽതോട്ടിൽ നിന്നും 2 കിലോമീറ്റ…\n",
      "\n",
      "\n",
      "\n",
      "\n",
      "\n",
      "\n",
      "\n",
      "\n",
      "Information\n",
      "Ilaveezhapoonchira | ഇലവീഴാപൂഞ്ചിറ | Stay | Resorts | Weather | District | Images\n",
      "മധ്യകേരളത്തിലെ ജില്ലയായ കോട്ടയ ത്തെ ഒരു പ്രധാന വിനോദസഞ്ചാര കേന്ദ്രമാണ് ഇലവീഴാപൂഞ്ചിറ (ilaveezhapoonchira ). കേരളത്തിലെ ഓഫ് റോഡ് …\n",
      "\n",
      "\n",
      "\n",
      "\n",
      "\n",
      "\n",
      "\n",
      "Load More\n",
      "\n",
      "\n",
      "\n",
      "That is All\n",
      "\n",
      "\n",
      "\n",
      "\n",
      "\n",
      "\n",
      "\n",
      "\n",
      "\n",
      "RECOMMENDED POST\n",
      "\n",
      "\n",
      "\n",
      "\n",
      "\n",
      "Tips\n",
      "ബൈക്കില്‍ ദൂരയാത്രയും അറിയേണ്ട ചില കാര്യങ്ങളും. | 15 Tips for bike riders. |\n",
      "\n",
      "\n",
      "\n",
      "\n",
      "\n",
      "\n",
      "\n",
      "\n",
      "\n",
      "\n",
      "\n",
      "\n",
      "Facebook\n",
      "\n",
      "\n",
      "\n",
      "\n",
      "\n",
      "\n",
      "\n",
      "\n",
      "\n",
      "\n",
      "\n",
      "\n",
      "\n",
      "\n",
      "\n",
      "\n",
      "\n",
      "About Us\n",
      "യാത്രകളെ എന്നുമുതലാണ് പ്രണയിച്ചു തുടങ്ങിയതെന്നറിയില്ല... പക്ഷേ ജീവിതയാത്രയില്‍ എവിടെയോ വച്ച് കൂടെക്കൂടിയതാണ് ഇപ്പോള്‍ പിരിയാനാവാത്തവണ്ണം യാത്രകളെ ഞാന്‍ പ്രണയിക്കുന്നു. \n",
      "\n",
      "\n",
      "\n",
      "\n",
      "\n",
      "\n",
      "\n",
      "\n",
      "\n",
      "\n",
      "\n",
      "\n",
      "\n",
      "\n",
      "Copyright © 2022 Malayalam Travel Blog | Yathrikan on Road\n",
      "\n",
      "\n",
      "\n",
      "Home\n",
      "About\n",
      "Contact Us\n",
      "\n",
      "\n",
      "\n",
      "\n",
      "\n",
      "\n",
      "\n",
      "\n",
      "Our website uses cookies to improve your experience. Learn more\n",
      "Ok\n",
      "\n",
      "\n",
      "\n",
      "\n",
      "\n",
      "\n",
      "\n",
      "\n",
      "\n",
      "\n",
      "\n",
      "\n",
      "\n",
      "\n",
      "\n",
      "\n",
      "\n",
      "\n",
      "\n",
      "\n",
      "\n",
      "\n",
      "\n",
      "\n",
      "\n",
      "\n",
      "\n",
      "\n",
      "\n",
      "\n",
      "\n",
      "\n",
      "\n",
      "\n",
      "\n",
      "\n",
      "\n"
     ]
    }
   ],
   "source": [
    "# Parse the HTML with BeautifulSoup\n",
    "soup = BeautifulSoup(response.text, 'html.parser')\n",
    "\n",
    "# Extract all text from the page\n",
    "all_text = soup.get_text()\n",
    "print(all_text)\n"
   ]
  },
  {
   "cell_type": "code",
   "execution_count": 21,
   "metadata": {
    "height": 98
   },
   "outputs": [
    {
     "name": "stdout",
     "output_type": "stream",
     "text": [
      "Yathrikan On Road | Malayalam Travel Blog | മലയാളം യാത്രാവിവരണം | Disclaimer Privacy Policy Yathrikan On Road | Malayalam Travel Blog | മലയാളം യാത്രാവിവരണം | Home About us KERALA _KOTTAYAM Travel Enquiry Gallery Sitemap Contact us Showing posts from July, 2022 Kottayam Kumarakom Bird Sanctuary | കുമരകം പക്ഷിസങ്കേതം | kavanattinkara kumarakom kerala | Kottayam കുമരകത്തിന്റെ കായൽ ഭംഗിയോടൊപ്പം ആസ്വദിക്കുവാൻ സ്വദേശികളും വിദേശികളുമായി ഏറ്റവും കൂടുതൽ ആൾക്കാർ എത്തുന്ന സ്ഥലമാണ് Kumarakam Bird … Kottayam ARUVIKKUZHI WATERFALLS | അരുവിക്കുഴി വെള്ളച്ചാട്ടം | PHOTOS | ARUVIKKUZHY FALLS | KOTTAYAM | Aruvikkuzhi Waterfalls | അരുവിക്കുഴി വെള്ളച്ചാട്ടം. കേരളത്തിലെ കോട്ടയം ജില്ലയിൽ(kottayam) പള്ളിക്കൽതോട്ടിൽ നിന്നും 2 കിലോമീറ്റ… Information Ilaveezhapoonchira | ഇലവീഴാപൂഞ്ചിറ | Stay | Resorts | Weather | District | Images മധ്യകേരളത്തിലെ ജില്ലയായ കോട്ടയ ത്തെ ഒരു പ്രധാന വിനോദസഞ്ചാര കേന്ദ്രമാണ് ഇലവീഴാപൂഞ്ചിറ (ilaveezhapoonchira ). കേരളത്തിലെ ഓഫ് റോഡ് … Load More That is All RECOMMENDED POST Tips ബൈക്കില്‍ ദൂരയാത്രയും അറിയേണ്ട ചില കാര്യങ്ങളും. | 15 Tips for bike riders. | Facebook About Us യാത്രകളെ എന്നുമുതലാണ് പ്രണയിച്ചു തുടങ്ങിയതെന്നറിയില്ല... പക്ഷേ ജീവിതയാത്രയില്‍ എവിടെയോ വച്ച് കൂടെക്കൂടിയതാണ് ഇപ്പോള്‍ പിരിയാനാവാത്തവണ്ണം യാത്രകളെ ഞാന്‍ പ്രണയിക്കുന്നു. Copyright © 2022 Malayalam Travel Blog | Yathrikan on Road Home About Contact Us Our website uses cookies to improve your experience. Learn more Ok\n"
     ]
    }
   ],
   "source": [
    "soup = BeautifulSoup(response.text, 'html.parser')\n",
    "\n",
    "# Extract text and remove extra spaces/newlines\n",
    "all_text = ' '.join(soup.get_text().split())\n",
    "print(all_text)"
   ]
  },
  {
   "cell_type": "markdown",
   "metadata": {},
   "source": [
    "For more details about how this code works, you can ask the chatbot:"
   ]
  },
  {
   "cell_type": "markdown",
   "metadata": {},
   "source": [
    "<p style=\"background-color:#F5C780; padding:15px\"> 🤖 <b>Use the Chatbot</b>:\n",
    "<br><br>\n",
    "What is the following code doing?\n",
    "<br><br>\n",
    "soup = BeautifulSoup(response.text, 'html.parser')<br>\n",
    "all_text = soup.find_all('p')\n",
    "</p>"
   ]
  },
  {
   "cell_type": "markdown",
   "metadata": {},
   "source": [
    "## Extracting information from scraped website data using LLMs"
   ]
  },
  {
   "cell_type": "markdown",
   "metadata": {},
   "source": [
    "You can pass the text you just extracted from the Batch newsletter website to an LLM and ask it to extract the most relevant information for you.\n",
    "\n",
    "Start by writing the prompt and passing in the text you extracted:"
   ]
  },
  {
   "cell_type": "code",
   "execution_count": 22,
   "metadata": {
    "height": 98
   },
   "outputs": [],
   "source": [
    "prompt = f\"\"\"Extract the key bullet points from the following text.\n",
    "\n",
    "Text:\n",
    "{combined_text}\n",
    "\"\"\""
   ]
  },
  {
   "cell_type": "markdown",
   "metadata": {},
   "source": [
    "Then pass the prompt to the LLM:"
   ]
  },
  {
   "cell_type": "code",
   "execution_count": 23,
   "metadata": {
    "height": 47
   },
   "outputs": [
    {
     "name": "stdout",
     "output_type": "stream",
     "text": [
      "- Kumarakam Bird Sanctuary is a popular destination for both locals and tourists.\n",
      "- Aruvikkuzhi Waterfalls is located 2 kilometers from Pallikkal Thott in Kottayam district, Kerala.\n",
      "- Ilaveezhapoonchira is a major tourist spot in Kottayam district, Central Kerala, known for off-road adventures.\n",
      "- The author expresses a deep love for travel, feeling a strong connection to it throughout life.\n"
     ]
    }
   ],
   "source": [
    "\n",
    "print_llm_response(prompt)"
   ]
  },
  {
   "cell_type": "markdown",
   "metadata": {},
   "source": [
    "## One more example of installing packages\n",
    "\n",
    "Throughout the courses so far, you've imported helper functions from a file called `helper_functions.py` using commands like `from helper_functions import get_llm_response`.\n",
    "\n",
    "The DeepLearning.AI team has created a third-party package called `aisetup` that you can use to access the helper functions from the course in your own code outside of this learning platform.\n",
    "\n",
    "To install it, run the following command:"
   ]
  },
  {
   "cell_type": "code",
   "execution_count": 24,
   "metadata": {
    "height": 30
   },
   "outputs": [
    {
     "name": "stdout",
     "output_type": "stream",
     "text": [
      "Requirement already satisfied: aisetup in /usr/local/lib/python3.9/site-packages (0.1.4)\n",
      "Requirement already satisfied: folium<0.18.0,>=0.17.0 in /usr/local/lib/python3.9/site-packages (from aisetup) (0.17.0)\n",
      "Requirement already satisfied: ipython==8.18.1 in /usr/local/lib/python3.9/site-packages (from aisetup) (8.18.1)\n",
      "Requirement already satisfied: ipywidgets<9.0.0,>=8.1.3 in /usr/local/lib/python3.9/site-packages (from aisetup) (8.1.5)\n",
      "Requirement already satisfied: matplotlib<4.0.0,>=3.9.2 in /usr/local/lib/python3.9/site-packages (from aisetup) (3.9.2)\n",
      "Requirement already satisfied: numpy==2.0.1 in /usr/local/lib/python3.9/site-packages (from aisetup) (2.0.1)\n",
      "Requirement already satisfied: openai<2.0.0,>=1.42.0 in /usr/local/lib/python3.9/site-packages (from aisetup) (1.93.0)\n",
      "Requirement already satisfied: python-dotenv<2.0.0,>=1.0.1 in /usr/local/lib/python3.9/site-packages (from aisetup) (1.0.1)\n",
      "Requirement already satisfied: requests<3.0.0,>=2.32.3 in /usr/local/lib/python3.9/site-packages (from aisetup) (2.32.4)\n",
      "Requirement already satisfied: decorator in /usr/local/lib/python3.9/site-packages (from ipython==8.18.1->aisetup) (5.1.1)\n",
      "Requirement already satisfied: jedi>=0.16 in /usr/local/lib/python3.9/site-packages (from ipython==8.18.1->aisetup) (0.19.1)\n",
      "Requirement already satisfied: matplotlib-inline in /usr/local/lib/python3.9/site-packages (from ipython==8.18.1->aisetup) (0.1.7)\n",
      "Requirement already satisfied: prompt-toolkit<3.1.0,>=3.0.41 in /usr/local/lib/python3.9/site-packages (from ipython==8.18.1->aisetup) (3.0.43)\n",
      "Requirement already satisfied: pygments>=2.4.0 in /usr/local/lib/python3.9/site-packages (from ipython==8.18.1->aisetup) (2.17.2)\n",
      "Requirement already satisfied: stack-data in /usr/local/lib/python3.9/site-packages (from ipython==8.18.1->aisetup) (0.6.3)\n",
      "Requirement already satisfied: traitlets>=5 in /usr/local/lib/python3.9/site-packages (from ipython==8.18.1->aisetup) (5.9.0)\n",
      "Requirement already satisfied: typing-extensions in /usr/local/lib/python3.9/site-packages (from ipython==8.18.1->aisetup) (4.11.0)\n",
      "Requirement already satisfied: exceptiongroup in /usr/local/lib/python3.9/site-packages (from ipython==8.18.1->aisetup) (1.2.2)\n",
      "Requirement already satisfied: pexpect>4.3 in /usr/local/lib/python3.9/site-packages (from ipython==8.18.1->aisetup) (4.9.0)\n",
      "Requirement already satisfied: branca>=0.6.0 in /usr/local/lib/python3.9/site-packages (from folium<0.18.0,>=0.17.0->aisetup) (0.8.1)\n",
      "Requirement already satisfied: jinja2>=2.9 in /usr/local/lib/python3.9/site-packages (from folium<0.18.0,>=0.17.0->aisetup) (3.1.4)\n",
      "Requirement already satisfied: xyzservices in /usr/local/lib/python3.9/site-packages (from folium<0.18.0,>=0.17.0->aisetup) (2025.4.0)\n",
      "Requirement already satisfied: comm>=0.1.3 in /usr/local/lib/python3.9/site-packages (from ipywidgets<9.0.0,>=8.1.3->aisetup) (0.2.2)\n",
      "Requirement already satisfied: widgetsnbextension~=4.0.12 in /usr/local/lib/python3.9/site-packages (from ipywidgets<9.0.0,>=8.1.3->aisetup) (4.0.13)\n",
      "Requirement already satisfied: jupyterlab-widgets~=3.0.12 in /usr/local/lib/python3.9/site-packages (from ipywidgets<9.0.0,>=8.1.3->aisetup) (3.0.13)\n",
      "Requirement already satisfied: contourpy>=1.0.1 in /usr/local/lib/python3.9/site-packages (from matplotlib<4.0.0,>=3.9.2->aisetup) (1.3.0)\n",
      "Requirement already satisfied: cycler>=0.10 in /usr/local/lib/python3.9/site-packages (from matplotlib<4.0.0,>=3.9.2->aisetup) (0.12.1)\n",
      "Requirement already satisfied: fonttools>=4.22.0 in /usr/local/lib/python3.9/site-packages (from matplotlib<4.0.0,>=3.9.2->aisetup) (4.58.4)\n",
      "Requirement already satisfied: kiwisolver>=1.3.1 in /usr/local/lib/python3.9/site-packages (from matplotlib<4.0.0,>=3.9.2->aisetup) (1.4.7)\n",
      "Requirement already satisfied: packaging>=20.0 in /usr/local/lib/python3.9/site-packages (from matplotlib<4.0.0,>=3.9.2->aisetup) (23.2)\n",
      "Requirement already satisfied: pillow>=8 in /usr/local/lib/python3.9/site-packages (from matplotlib<4.0.0,>=3.9.2->aisetup) (11.3.0)\n",
      "Requirement already satisfied: pyparsing>=2.3.1 in /usr/local/lib/python3.9/site-packages (from matplotlib<4.0.0,>=3.9.2->aisetup) (3.2.3)\n",
      "Requirement already satisfied: python-dateutil>=2.7 in /usr/local/lib/python3.9/site-packages (from matplotlib<4.0.0,>=3.9.2->aisetup) (2.9.0.post0)\n",
      "Requirement already satisfied: importlib-resources>=3.2.0 in /usr/local/lib/python3.9/site-packages (from matplotlib<4.0.0,>=3.9.2->aisetup) (6.5.2)\n",
      "Requirement already satisfied: anyio<5,>=3.5.0 in /usr/local/lib/python3.9/site-packages (from openai<2.0.0,>=1.42.0->aisetup) (3.7.1)\n",
      "Requirement already satisfied: distro<2,>=1.7.0 in /usr/local/lib/python3.9/site-packages (from openai<2.0.0,>=1.42.0->aisetup) (1.9.0)\n",
      "Requirement already satisfied: httpx<1,>=0.23.0 in /usr/local/lib/python3.9/site-packages (from openai<2.0.0,>=1.42.0->aisetup) (0.27.0)\n",
      "Requirement already satisfied: jiter<1,>=0.4.0 in /usr/local/lib/python3.9/site-packages (from openai<2.0.0,>=1.42.0->aisetup) (0.10.0)\n",
      "Requirement already satisfied: pydantic<3,>=1.9.0 in /usr/local/lib/python3.9/site-packages (from openai<2.0.0,>=1.42.0->aisetup) (2.8.2)\n",
      "Requirement already satisfied: sniffio in /usr/local/lib/python3.9/site-packages (from openai<2.0.0,>=1.42.0->aisetup) (1.3.1)\n",
      "Requirement already satisfied: tqdm>4 in /usr/local/lib/python3.9/site-packages (from openai<2.0.0,>=1.42.0->aisetup) (4.66.1)\n",
      "Requirement already satisfied: charset_normalizer<4,>=2 in /usr/local/lib/python3.9/site-packages (from requests<3.0.0,>=2.32.3->aisetup) (3.3.2)\n",
      "Requirement already satisfied: idna<4,>=2.5 in /usr/local/lib/python3.9/site-packages (from requests<3.0.0,>=2.32.3->aisetup) (3.7)\n",
      "Requirement already satisfied: urllib3<3,>=1.21.1 in /usr/local/lib/python3.9/site-packages (from requests<3.0.0,>=2.32.3->aisetup) (1.26.18)\n",
      "Requirement already satisfied: certifi>=2017.4.17 in /usr/local/lib/python3.9/site-packages (from requests<3.0.0,>=2.32.3->aisetup) (2024.2.2)\n",
      "Requirement already satisfied: httpcore==1.* in /usr/local/lib/python3.9/site-packages (from httpx<1,>=0.23.0->openai<2.0.0,>=1.42.0->aisetup) (1.0.5)\n",
      "Requirement already satisfied: h11<0.15,>=0.13 in /usr/local/lib/python3.9/site-packages (from httpcore==1.*->httpx<1,>=0.23.0->openai<2.0.0,>=1.42.0->aisetup) (0.14.0)\n",
      "Requirement already satisfied: zipp>=3.1.0 in /usr/local/lib/python3.9/site-packages (from importlib-resources>=3.2.0->matplotlib<4.0.0,>=3.9.2->aisetup) (3.19.2)\n",
      "Requirement already satisfied: parso<0.9.0,>=0.8.3 in /usr/local/lib/python3.9/site-packages (from jedi>=0.16->ipython==8.18.1->aisetup) (0.8.4)\n",
      "Requirement already satisfied: MarkupSafe>=2.0 in /usr/local/lib/python3.9/site-packages (from jinja2>=2.9->folium<0.18.0,>=0.17.0->aisetup) (2.1.5)\n",
      "Requirement already satisfied: ptyprocess>=0.5 in /usr/local/lib/python3.9/site-packages (from pexpect>4.3->ipython==8.18.1->aisetup) (0.7.0)\n",
      "Requirement already satisfied: wcwidth in /usr/local/lib/python3.9/site-packages (from prompt-toolkit<3.1.0,>=3.0.41->ipython==8.18.1->aisetup) (0.2.13)\n",
      "Requirement already satisfied: annotated-types>=0.4.0 in /usr/local/lib/python3.9/site-packages (from pydantic<3,>=1.9.0->openai<2.0.0,>=1.42.0->aisetup) (0.7.0)\n",
      "Requirement already satisfied: pydantic-core==2.20.1 in /usr/local/lib/python3.9/site-packages (from pydantic<3,>=1.9.0->openai<2.0.0,>=1.42.0->aisetup) (2.20.1)\n",
      "Requirement already satisfied: six>=1.5 in /usr/local/lib/python3.9/site-packages (from python-dateutil>=2.7->matplotlib<4.0.0,>=3.9.2->aisetup) (1.16.0)\n",
      "Requirement already satisfied: executing>=1.2.0 in /usr/local/lib/python3.9/site-packages (from stack-data->ipython==8.18.1->aisetup) (2.0.1)\n",
      "Requirement already satisfied: asttokens>=2.1.0 in /usr/local/lib/python3.9/site-packages (from stack-data->ipython==8.18.1->aisetup) (2.4.1)\n",
      "Requirement already satisfied: pure-eval in /usr/local/lib/python3.9/site-packages (from stack-data->ipython==8.18.1->aisetup) (0.2.2)\n",
      "\n",
      "\u001b[1m[\u001b[0m\u001b[34;49mnotice\u001b[0m\u001b[1;39;49m]\u001b[0m\u001b[39;49m A new release of pip is available: \u001b[0m\u001b[31;49m24.0\u001b[0m\u001b[39;49m -> \u001b[0m\u001b[32;49m25.2\u001b[0m\n",
      "\u001b[1m[\u001b[0m\u001b[34;49mnotice\u001b[0m\u001b[1;39;49m]\u001b[0m\u001b[39;49m To update, run: \u001b[0m\u001b[32;49mpip install --upgrade pip\u001b[0m\n"
     ]
    }
   ],
   "source": [
    "!pip install aisetup"
   ]
  },
  {
   "cell_type": "markdown",
   "metadata": {},
   "source": [
    "Now the package is installed, you can import helper functions from it using the `import` command. For example, if you want to import `get_llm_response`, you now run this code:"
   ]
  },
  {
   "cell_type": "code",
   "execution_count": 25,
   "metadata": {
    "height": 30
   },
   "outputs": [],
   "source": [
    "from aisetup import get_llm_response"
   ]
  },
  {
   "cell_type": "code",
   "execution_count": 26,
   "metadata": {
    "height": 96
   },
   "outputs": [
    {
     "name": "stdout",
     "output_type": "stream",
     "text": [
      "Python is named after the British comedy television show \"Monty Python's Flying Circus,\" which creator Guido van Rossum enjoyed. The name reflects the language's emphasis on fun and readability.\n"
     ]
    }
   ],
   "source": [
    "response = get_llm_response(\"Why is the programming language called Python?\")\n",
    "\n",
    "# Print LLMs response\n",
    "print(response)"
   ]
  },
  {
   "cell_type": "markdown",
   "metadata": {},
   "source": [
    "## Extra practice\n",
    "\n",
    "Try the following exercises to test what you have learned. If you get stuck, as the chatbot for help!\n",
    "\n",
    "### Exercise 1\n",
    "\n",
    "Modify the following code to answer the following question:\n",
    "- Who built the new short course mentioned in the letter?"
   ]
  },
  {
   "cell_type": "code",
   "execution_count": 33,
   "metadata": {
    "height": 198
   },
   "outputs": [
    {
     "name": "stdout",
     "output_type": "stream",
     "text": [
      "- Kumarakam Bird Sanctuary attracts many visitors, both local and foreign.\n",
      "- Aruvikkuzhi Waterfalls is located 2 kilometers from Pallikkal Thott in Kottayam district, Kerala.\n",
      "- Ilaveezhapoonchira is a major tourist destination in Kottayam district, Central Kerala, known for off-road adventures.\n",
      "- The author expresses a deep love for travel, feeling a strong connection to it throughout life.\n"
     ]
    }
   ],
   "source": [
    "# Modify the prompt\n",
    "prompt = f\"\"\"\n",
    "Read the text below and extract only the key points as concise bullet points.\n",
    "Ignore navigation menus, headers, footers, advertisements, and repetitive content.\n",
    "\n",
    "Text:\n",
    "{combined_text}\n",
    "\"\"\"\n",
    "print_llm_response(prompt)\n"
   ]
  },
  {
   "cell_type": "markdown",
   "metadata": {},
   "source": [
    "### Exercise 2\n",
    "\n",
    "Use the `celsius_to_fahrenheit` function in the `aisetup` package to calculate the Fahrenheit equivalent of 0 degrees Celsius.\n",
    "\n",
    "You'll need to complete the import statement and the calculation."
   ]
  },
  {
   "cell_type": "code",
   "execution_count": 34,
   "metadata": {
    "height": 132
   },
   "outputs": [
    {
     "name": "stdout",
     "output_type": "stream",
     "text": [
      "0°C is equivalent to 32.00°F\n",
      "None\n"
     ]
    }
   ],
   "source": [
    "\n",
    "# Complete the import statement\n",
    "from aisetup import celsius_to_fahrenheit\n",
    "\n",
    "# Complete the calculation\n",
    "zero_celsius_in_fahrenheit = celsius_to_fahrenheit(0)\n",
    "print (zero_celsius_in_fahrenheit)"
   ]
  },
  {
   "cell_type": "markdown",
   "metadata": {},
   "source": [
    "### Challenge exercise!\n",
    "\n",
    "Write code that uses the `bs4` package to create a string that contains the **title element from the Batch newsletter**. This is the text that starts \"The World Needs More Intelligence\".\n",
    "\n",
    "**Hint 1:** Titles on webpages are often header elements, with tags like `<h1>` or `<h2>`.\n",
    "**Hint 2:** Ask the chatbot for help, using the code you have already written as a starting point."
   ]
  },
  {
   "cell_type": "code",
   "execution_count": 37,
   "metadata": {
    "height": 368
   },
   "outputs": [
    {
     "name": "stdout",
     "output_type": "stream",
     "text": [
      "Yathrikan On Road | Malayalam Travel Blog | മലയാളം യാത്രാവിവരണം |\n"
     ]
    }
   ],
   "source": [
    "from bs4 import BeautifulSoup\n",
    "import requests\n",
    "\n",
    "# URL of the newsletter\n",
    "url = 'https://www.yathrikanonroad.com/2022/07/'\n",
    "\n",
    "# Get the webpage content\n",
    "response = requests.get(url)\n",
    "\n",
    "# Parse HTML with BeautifulSoup\n",
    "soup = BeautifulSoup(response.text, 'html.parser')\n",
    "\n",
    "# Find the title element (assume it's in an <h1> tag)\n",
    "title_element = soup.find('h1')\n",
    "\n",
    "# Extract the text\n",
    "title = title_element.get_text(strip=True) if title_element else \"Title not found\"\n",
    "\n",
    "print(title)\n"
   ]
  },
  {
   "cell_type": "code",
   "execution_count": null,
   "metadata": {
    "height": 30
   },
   "outputs": [],
   "source": []
  }
 ],
 "metadata": {
  "kernelspec": {
   "display_name": "Python 3 (ipykernel)",
   "language": "python",
   "name": "python3"
  },
  "language_info": {
   "codemirror_mode": {
    "name": "ipython",
    "version": 3
   },
   "file_extension": ".py",
   "mimetype": "text/x-python",
   "name": "python",
   "nbconvert_exporter": "python",
   "pygments_lexer": "ipython3",
   "version": "3.9.19"
  }
 },
 "nbformat": 4,
 "nbformat_minor": 2
}
