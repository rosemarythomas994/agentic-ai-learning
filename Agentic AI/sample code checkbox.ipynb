{
 "cells": [
  {
   "cell_type": "code",
   "execution_count": 1,
   "metadata": {
    "height": 64
   },
   "outputs": [],
   "source": [
    "import os\n",
    "from dotenv import load_dotenv\n",
    "from openai import OpenAI"
   ]
  },
  {
   "cell_type": "code",
   "execution_count": 2,
   "metadata": {
    "height": 81
   },
   "outputs": [],
   "source": [
    "# Get the OpenAI API key from the .env file\n",
    "load_dotenv('.env', override=True)\n",
    "openai_api_key = os.getenv('OPENAI_API_KEY')\n",
    "client = OpenAI(api_key = openai_api_key)"
   ]
  },
  {
   "cell_type": "code",
   "execution_count": 3,
   "metadata": {
    "height": 251
   },
   "outputs": [],
   "source": [
    "def get_llm_response(prompt):\n",
    "    completion = client.chat.completions.create(\n",
    "        model=\"gpt-4o-mini\",\n",
    "        messages=[\n",
    "            {\n",
    "                \"role\": \"system\",\n",
    "                \"content\": \"You are an AI assistant.\",\n",
    "            },\n",
    "            {\"role\": \"user\", \"content\": prompt},\n",
    "        ],\n",
    "        temperature=0.0,\n",
    "    )\n",
    "    response = completion.choices[0].message.content\n",
    "    return response"
   ]
  },
  {
   "cell_type": "code",
   "execution_count": 4,
   "metadata": {
    "height": 30
   },
   "outputs": [
    {
     "name": "stdout",
     "output_type": "stream",
     "text": [
      "Collecting pypdf\n",
      "  Downloading pypdf-6.0.0-py3-none-any.whl.metadata (7.1 kB)\n",
      "Requirement already satisfied: typing_extensions>=4.0 in /usr/local/lib/python3.9/site-packages (from pypdf) (4.11.0)\n",
      "Downloading pypdf-6.0.0-py3-none-any.whl (310 kB)\n",
      "\u001b[2K   \u001b[90m━━━━━━━━━━━━━━━━━━━━━━━━━━━━━━━━━━━━━━━━\u001b[0m \u001b[32m310.5/310.5 kB\u001b[0m \u001b[31m14.5 MB/s\u001b[0m eta \u001b[36m0:00:00\u001b[0m\n",
      "\u001b[?25hInstalling collected packages: pypdf\n",
      "Successfully installed pypdf-6.0.0\n",
      "\n",
      "\u001b[1m[\u001b[0m\u001b[34;49mnotice\u001b[0m\u001b[1;39;49m]\u001b[0m\u001b[39;49m A new release of pip is available: \u001b[0m\u001b[31;49m24.0\u001b[0m\u001b[39;49m -> \u001b[0m\u001b[32;49m25.2\u001b[0m\n",
      "\u001b[1m[\u001b[0m\u001b[34;49mnotice\u001b[0m\u001b[1;39;49m]\u001b[0m\u001b[39;49m To update, run: \u001b[0m\u001b[32;49mpip install --upgrade pip\u001b[0m\n",
      "Note: you may need to restart the kernel to use updated packages.\n"
     ]
    }
   ],
   "source": [
    "pip install pypdf"
   ]
  },
  {
   "cell_type": "code",
   "execution_count": 6,
   "metadata": {
    "height": 47
   },
   "outputs": [
    {
     "name": "stdout",
     "output_type": "stream",
     "text": [
      "Collecting pymupdf\n",
      "  Downloading pymupdf-1.26.4-cp39-abi3-manylinux_2_28_x86_64.whl.metadata (3.4 kB)\n",
      "Downloading pymupdf-1.26.4-cp39-abi3-manylinux_2_28_x86_64.whl (24.1 MB)\n",
      "\u001b[2K   \u001b[90m━━━━━━━━━━━━━━━━━━━━━━━━━━━━━━━━━━━━━━━━\u001b[0m \u001b[32m24.1/24.1 MB\u001b[0m \u001b[31m121.2 MB/s\u001b[0m eta \u001b[36m0:00:00\u001b[0m00:01\u001b[0m00:01\u001b[0m\n",
      "\u001b[?25hInstalling collected packages: pymupdf\n",
      "Successfully installed pymupdf-1.26.4\n",
      "\n",
      "\u001b[1m[\u001b[0m\u001b[34;49mnotice\u001b[0m\u001b[1;39;49m]\u001b[0m\u001b[39;49m A new release of pip is available: \u001b[0m\u001b[31;49m24.0\u001b[0m\u001b[39;49m -> \u001b[0m\u001b[32;49m25.2\u001b[0m\n",
      "\u001b[1m[\u001b[0m\u001b[34;49mnotice\u001b[0m\u001b[1;39;49m]\u001b[0m\u001b[39;49m To update, run: \u001b[0m\u001b[32;49mpip install --upgrade pip\u001b[0m\n",
      "Note: you may need to restart the kernel to use updated packages.\n"
     ]
    }
   ],
   "source": [
    "pip install pymupdf\n"
   ]
  },
  {
   "cell_type": "code",
   "execution_count": 7,
   "metadata": {
    "height": 30
   },
   "outputs": [
    {
     "name": "stdout",
     "output_type": "stream",
     "text": [
      "Requirement already satisfied: pymupdf in /usr/local/lib/python3.9/site-packages (1.26.4)\n",
      "\n",
      "\u001b[1m[\u001b[0m\u001b[34;49mnotice\u001b[0m\u001b[1;39;49m]\u001b[0m\u001b[39;49m A new release of pip is available: \u001b[0m\u001b[31;49m24.0\u001b[0m\u001b[39;49m -> \u001b[0m\u001b[32;49m25.2\u001b[0m\n",
      "\u001b[1m[\u001b[0m\u001b[34;49mnotice\u001b[0m\u001b[1;39;49m]\u001b[0m\u001b[39;49m To update, run: \u001b[0m\u001b[32;49mpip install --upgrade pip\u001b[0m\n",
      "Note: you may need to restart the kernel to use updated packages.\n"
     ]
    }
   ],
   "source": [
    "pip install pymupdf"
   ]
  },
  {
   "cell_type": "code",
   "execution_count": 8,
   "metadata": {
    "height": 30
   },
   "outputs": [
    {
     "name": "stdout",
     "output_type": "stream",
     "text": [
      "Collecting PyPDF2\n",
      "  Downloading pypdf2-3.0.1-py3-none-any.whl.metadata (6.8 kB)\n",
      "Requirement already satisfied: typing_extensions>=3.10.0.0 in /usr/local/lib/python3.9/site-packages (from PyPDF2) (4.11.0)\n",
      "Downloading pypdf2-3.0.1-py3-none-any.whl (232 kB)\n",
      "\u001b[2K   \u001b[90m━━━━━━━━━━━━━━━━━━━━━━━━━━━━━━━━━━━━━━━━\u001b[0m \u001b[32m232.6/232.6 kB\u001b[0m \u001b[31m14.6 MB/s\u001b[0m eta \u001b[36m0:00:00\u001b[0m\n",
      "\u001b[?25hInstalling collected packages: PyPDF2\n",
      "Successfully installed PyPDF2-3.0.1\n",
      "\n",
      "\u001b[1m[\u001b[0m\u001b[34;49mnotice\u001b[0m\u001b[1;39;49m]\u001b[0m\u001b[39;49m A new release of pip is available: \u001b[0m\u001b[31;49m24.0\u001b[0m\u001b[39;49m -> \u001b[0m\u001b[32;49m25.2\u001b[0m\n",
      "\u001b[1m[\u001b[0m\u001b[34;49mnotice\u001b[0m\u001b[1;39;49m]\u001b[0m\u001b[39;49m To update, run: \u001b[0m\u001b[32;49mpip install --upgrade pip\u001b[0m\n"
     ]
    }
   ],
   "source": [
    "!pip install PyPDF2"
   ]
  },
  {
   "cell_type": "code",
   "execution_count": 9,
   "metadata": {
    "height": 30
   },
   "outputs": [
    {
     "name": "stdout",
     "output_type": "stream",
     "text": [
      "Collecting pytesseract\n",
      "  Downloading pytesseract-0.3.13-py3-none-any.whl.metadata (11 kB)\n",
      "Requirement already satisfied: pillow in /usr/local/lib/python3.9/site-packages (11.3.0)\n",
      "Requirement already satisfied: packaging>=21.3 in /usr/local/lib/python3.9/site-packages (from pytesseract) (23.2)\n",
      "Downloading pytesseract-0.3.13-py3-none-any.whl (14 kB)\n",
      "Installing collected packages: pytesseract\n",
      "Successfully installed pytesseract-0.3.13\n",
      "\n",
      "\u001b[1m[\u001b[0m\u001b[34;49mnotice\u001b[0m\u001b[1;39;49m]\u001b[0m\u001b[39;49m A new release of pip is available: \u001b[0m\u001b[31;49m24.0\u001b[0m\u001b[39;49m -> \u001b[0m\u001b[32;49m25.2\u001b[0m\n",
      "\u001b[1m[\u001b[0m\u001b[34;49mnotice\u001b[0m\u001b[1;39;49m]\u001b[0m\u001b[39;49m To update, run: \u001b[0m\u001b[32;49mpip install --upgrade pip\u001b[0m\n",
      "Note: you may need to restart the kernel to use updated packages.\n"
     ]
    }
   ],
   "source": [
    "%pip install pytesseract pillow"
   ]
  },
  {
   "cell_type": "code",
   "execution_count": 10,
   "metadata": {
    "height": 30
   },
   "outputs": [
    {
     "name": "stdout",
     "output_type": "stream",
     "text": [
      "Collecting pdfplumber\n",
      "  Downloading pdfplumber-0.11.7-py3-none-any.whl.metadata (42 kB)\n",
      "\u001b[2K     \u001b[90m━━━━━━━━━━━━━━━━━━━━━━━━━━━━━━━━━━━━━━━━\u001b[0m \u001b[32m42.8/42.8 kB\u001b[0m \u001b[31m4.6 MB/s\u001b[0m eta \u001b[36m0:00:00\u001b[0m\n",
      "\u001b[?25hRequirement already satisfied: openai in /usr/local/lib/python3.9/site-packages (1.93.0)\n",
      "Requirement already satisfied: python-dotenv in /usr/local/lib/python3.9/site-packages (1.0.1)\n",
      "Requirement already satisfied: ipywidgets in /usr/local/lib/python3.9/site-packages (8.1.5)\n",
      "Collecting pdfminer.six==20250506 (from pdfplumber)\n",
      "  Downloading pdfminer_six-20250506-py3-none-any.whl.metadata (4.2 kB)\n",
      "Requirement already satisfied: Pillow>=9.1 in /usr/local/lib/python3.9/site-packages (from pdfplumber) (11.3.0)\n",
      "Collecting pypdfium2>=4.18.0 (from pdfplumber)\n",
      "  Downloading pypdfium2-4.30.0-py3-none-manylinux_2_17_x86_64.manylinux2014_x86_64.whl.metadata (48 kB)\n",
      "\u001b[2K     \u001b[90m━━━━━━━━━━━━━━━━━━━━━━━━━━━━━━━━━━━━━━━━\u001b[0m \u001b[32m48.5/48.5 kB\u001b[0m \u001b[31m8.1 MB/s\u001b[0m eta \u001b[36m0:00:00\u001b[0m\n",
      "\u001b[?25hRequirement already satisfied: charset-normalizer>=2.0.0 in /usr/local/lib/python3.9/site-packages (from pdfminer.six==20250506->pdfplumber) (3.3.2)\n",
      "Collecting cryptography>=36.0.0 (from pdfminer.six==20250506->pdfplumber)\n",
      "  Downloading cryptography-45.0.7-cp37-abi3-manylinux_2_34_x86_64.whl.metadata (5.7 kB)\n",
      "Requirement already satisfied: anyio<5,>=3.5.0 in /usr/local/lib/python3.9/site-packages (from openai) (3.7.1)\n",
      "Requirement already satisfied: distro<2,>=1.7.0 in /usr/local/lib/python3.9/site-packages (from openai) (1.9.0)\n",
      "Requirement already satisfied: httpx<1,>=0.23.0 in /usr/local/lib/python3.9/site-packages (from openai) (0.27.0)\n",
      "Requirement already satisfied: jiter<1,>=0.4.0 in /usr/local/lib/python3.9/site-packages (from openai) (0.10.0)\n",
      "Requirement already satisfied: pydantic<3,>=1.9.0 in /usr/local/lib/python3.9/site-packages (from openai) (2.8.2)\n",
      "Requirement already satisfied: sniffio in /usr/local/lib/python3.9/site-packages (from openai) (1.3.1)\n",
      "Requirement already satisfied: tqdm>4 in /usr/local/lib/python3.9/site-packages (from openai) (4.66.1)\n",
      "Requirement already satisfied: typing-extensions<5,>=4.11 in /usr/local/lib/python3.9/site-packages (from openai) (4.11.0)\n",
      "Requirement already satisfied: comm>=0.1.3 in /usr/local/lib/python3.9/site-packages (from ipywidgets) (0.2.2)\n",
      "Requirement already satisfied: ipython>=6.1.0 in /usr/local/lib/python3.9/site-packages (from ipywidgets) (8.18.1)\n",
      "Requirement already satisfied: traitlets>=4.3.1 in /usr/local/lib/python3.9/site-packages (from ipywidgets) (5.9.0)\n",
      "Requirement already satisfied: widgetsnbextension~=4.0.12 in /usr/local/lib/python3.9/site-packages (from ipywidgets) (4.0.13)\n",
      "Requirement already satisfied: jupyterlab-widgets~=3.0.12 in /usr/local/lib/python3.9/site-packages (from ipywidgets) (3.0.13)\n",
      "Requirement already satisfied: idna>=2.8 in /usr/local/lib/python3.9/site-packages (from anyio<5,>=3.5.0->openai) (3.7)\n",
      "Requirement already satisfied: exceptiongroup in /usr/local/lib/python3.9/site-packages (from anyio<5,>=3.5.0->openai) (1.2.2)\n",
      "Requirement already satisfied: certifi in /usr/local/lib/python3.9/site-packages (from httpx<1,>=0.23.0->openai) (2024.2.2)\n",
      "Requirement already satisfied: httpcore==1.* in /usr/local/lib/python3.9/site-packages (from httpx<1,>=0.23.0->openai) (1.0.5)\n",
      "Requirement already satisfied: h11<0.15,>=0.13 in /usr/local/lib/python3.9/site-packages (from httpcore==1.*->httpx<1,>=0.23.0->openai) (0.14.0)\n",
      "Requirement already satisfied: decorator in /usr/local/lib/python3.9/site-packages (from ipython>=6.1.0->ipywidgets) (5.1.1)\n",
      "Requirement already satisfied: jedi>=0.16 in /usr/local/lib/python3.9/site-packages (from ipython>=6.1.0->ipywidgets) (0.19.1)\n",
      "Requirement already satisfied: matplotlib-inline in /usr/local/lib/python3.9/site-packages (from ipython>=6.1.0->ipywidgets) (0.1.7)\n",
      "Requirement already satisfied: prompt-toolkit<3.1.0,>=3.0.41 in /usr/local/lib/python3.9/site-packages (from ipython>=6.1.0->ipywidgets) (3.0.43)\n",
      "Requirement already satisfied: pygments>=2.4.0 in /usr/local/lib/python3.9/site-packages (from ipython>=6.1.0->ipywidgets) (2.17.2)\n",
      "Requirement already satisfied: stack-data in /usr/local/lib/python3.9/site-packages (from ipython>=6.1.0->ipywidgets) (0.6.3)\n",
      "Requirement already satisfied: pexpect>4.3 in /usr/local/lib/python3.9/site-packages (from ipython>=6.1.0->ipywidgets) (4.9.0)\n",
      "Requirement already satisfied: annotated-types>=0.4.0 in /usr/local/lib/python3.9/site-packages (from pydantic<3,>=1.9.0->openai) (0.7.0)\n",
      "Requirement already satisfied: pydantic-core==2.20.1 in /usr/local/lib/python3.9/site-packages (from pydantic<3,>=1.9.0->openai) (2.20.1)\n",
      "Requirement already satisfied: cffi>=1.14 in /usr/local/lib/python3.9/site-packages (from cryptography>=36.0.0->pdfminer.six==20250506->pdfplumber) (1.16.0)\n",
      "Requirement already satisfied: parso<0.9.0,>=0.8.3 in /usr/local/lib/python3.9/site-packages (from jedi>=0.16->ipython>=6.1.0->ipywidgets) (0.8.4)\n",
      "Requirement already satisfied: ptyprocess>=0.5 in /usr/local/lib/python3.9/site-packages (from pexpect>4.3->ipython>=6.1.0->ipywidgets) (0.7.0)\n",
      "Requirement already satisfied: wcwidth in /usr/local/lib/python3.9/site-packages (from prompt-toolkit<3.1.0,>=3.0.41->ipython>=6.1.0->ipywidgets) (0.2.13)\n",
      "Requirement already satisfied: executing>=1.2.0 in /usr/local/lib/python3.9/site-packages (from stack-data->ipython>=6.1.0->ipywidgets) (2.0.1)\n",
      "Requirement already satisfied: asttokens>=2.1.0 in /usr/local/lib/python3.9/site-packages (from stack-data->ipython>=6.1.0->ipywidgets) (2.4.1)\n",
      "Requirement already satisfied: pure-eval in /usr/local/lib/python3.9/site-packages (from stack-data->ipython>=6.1.0->ipywidgets) (0.2.2)\n",
      "Requirement already satisfied: six>=1.12.0 in /usr/local/lib/python3.9/site-packages (from asttokens>=2.1.0->stack-data->ipython>=6.1.0->ipywidgets) (1.16.0)\n",
      "Requirement already satisfied: pycparser in /usr/local/lib/python3.9/site-packages (from cffi>=1.14->cryptography>=36.0.0->pdfminer.six==20250506->pdfplumber) (2.22)\n",
      "Downloading pdfplumber-0.11.7-py3-none-any.whl (60 kB)\n",
      "\u001b[2K   \u001b[90m━━━━━━━━━━━━━━━━━━━━━━━━━━━━━━━━━━━━━━━━\u001b[0m \u001b[32m60.0/60.0 kB\u001b[0m \u001b[31m13.9 MB/s\u001b[0m eta \u001b[36m0:00:00\u001b[0m\n",
      "\u001b[?25hDownloading pdfminer_six-20250506-py3-none-any.whl (5.6 MB)\n",
      "\u001b[2K   \u001b[90m━━━━━━━━━━━━━━━━━━━━━━━━━━━━━━━━━━━━━━━━\u001b[0m \u001b[32m5.6/5.6 MB\u001b[0m \u001b[31m61.7 MB/s\u001b[0m eta \u001b[36m0:00:00\u001b[0ma \u001b[36m0:00:01\u001b[0m\n",
      "\u001b[?25hDownloading pypdfium2-4.30.0-py3-none-manylinux_2_17_x86_64.manylinux2014_x86_64.whl (2.8 MB)\n",
      "\u001b[2K   \u001b[90m━━━━━━━━━━━━━━━━━━━━━━━━━━━━━━━━━━━━━━━━\u001b[0m \u001b[32m2.8/2.8 MB\u001b[0m \u001b[31m122.1 MB/s\u001b[0m eta \u001b[36m0:00:00\u001b[0m\n",
      "\u001b[?25hDownloading cryptography-45.0.7-cp37-abi3-manylinux_2_34_x86_64.whl (4.4 MB)\n",
      "\u001b[2K   \u001b[90m━━━━━━━━━━━━━━━━━━━━━━━━━━━━━━━━━━━━━━━━\u001b[0m \u001b[32m4.4/4.4 MB\u001b[0m \u001b[31m125.9 MB/s\u001b[0m eta \u001b[36m0:00:00\u001b[0m00:01\u001b[0m\n",
      "\u001b[?25hInstalling collected packages: pypdfium2, cryptography, pdfminer.six, pdfplumber\n",
      "Successfully installed cryptography-45.0.7 pdfminer.six-20250506 pdfplumber-0.11.7 pypdfium2-4.30.0\n",
      "\n",
      "\u001b[1m[\u001b[0m\u001b[34;49mnotice\u001b[0m\u001b[1;39;49m]\u001b[0m\u001b[39;49m A new release of pip is available: \u001b[0m\u001b[31;49m24.0\u001b[0m\u001b[39;49m -> \u001b[0m\u001b[32;49m25.2\u001b[0m\n",
      "\u001b[1m[\u001b[0m\u001b[34;49mnotice\u001b[0m\u001b[1;39;49m]\u001b[0m\u001b[39;49m To update, run: \u001b[0m\u001b[32;49mpip install --upgrade pip\u001b[0m\n"
     ]
    }
   ],
   "source": [
    "!pip install pdfplumber openai python-dotenv ipywidgets"
   ]
  },
  {
   "cell_type": "code",
   "execution_count": 11,
   "metadata": {
    "height": 98
   },
   "outputs": [],
   "source": [
    "import pdfplumber\n",
    "from PyPDF2 import PdfReader\n",
    "\n",
    "import ipywidgets as widgets\n",
    "from IPython.display import display"
   ]
  },
  {
   "cell_type": "code",
   "execution_count": 12,
   "metadata": {
    "height": 81
   },
   "outputs": [
    {
     "data": {
      "application/vnd.jupyter.widget-view+json": {
       "model_id": "cc2ea9f8bdc244a58d59f4e2b38ce548",
       "version_major": 2,
       "version_minor": 0
      },
      "text/plain": [
       "FileUpload(value=(), accept='.pdf', description='Upload')"
      ]
     },
     "metadata": {},
     "output_type": "display_data"
    }
   ],
   "source": [
    "# Step 2: File upload widget for Jupyter\n",
    "upload_widget = widgets.FileUpload(accept='.pdf', multiple=False)\n",
    "display(upload_widget)\n"
   ]
  },
  {
   "cell_type": "code",
   "execution_count": 13,
   "metadata": {
    "height": 183
   },
   "outputs": [],
   "source": [
    "# Step 3: Save uploaded PDF file locally\n",
    "def save_uploaded_file(upload_widget):\n",
    "    if upload_widget.value and len(upload_widget.value) > 0:\n",
    "        file_info = upload_widget.value[0]\n",
    "        file_name = file_info['name']\n",
    "        content = file_info['content']\n",
    "        with open(file_name, \"wb\") as f:\n",
    "            f.write(content)\n",
    "        return file_name\n",
    "    return None"
   ]
  },
  {
   "cell_type": "code",
   "execution_count": 14,
   "metadata": {
    "height": 81
   },
   "outputs": [
    {
     "name": "stdout",
     "output_type": "stream",
     "text": [
      "Saved file: ocr test 2.pdf\n"
     ]
    }
   ],
   "source": [
    "# After uploading, run this cell manually\n",
    "file_path = save_uploaded_file(upload_widget)\n",
    "print(\"Saved file:\", file_path)\n"
   ]
  },
  {
   "cell_type": "code",
   "execution_count": 15,
   "metadata": {
    "height": 166
   },
   "outputs": [],
   "source": [
    "# Step 4: Extract raw text from PDF using pdfplumber\n",
    "def extract_text_from_pdf(file_path):\n",
    "    text = \"\"\n",
    "    with pdfplumber.open(file_path) as pdf:\n",
    "        for page in pdf.pages:\n",
    "            page_text = page.extract_text()\n",
    "            if page_text:\n",
    "                text += page_text + \"\\n\"\n",
    "    return text"
   ]
  },
  {
   "cell_type": "code",
   "execution_count": 17,
   "metadata": {
    "height": 317
   },
   "outputs": [],
   "source": [
    "# Step 5: Extract form fields (includes radio buttons / checkboxes) using PyPDF2\n",
    "def extract_pdf_form_fields(file_path):\n",
    "    reader = PdfReader(file_path)\n",
    "    fields = reader.get_fields()\n",
    "    result = {}\n",
    "    if fields:\n",
    "        for key, val in fields.items():\n",
    "            if isinstance(val, dict):\n",
    "                value = val.get('/V') or val.get('/AS')\n",
    "                if value and hasattr(value, 'original_bytes'):\n",
    "                    value = value.original_bytes.decode('utf-8')\n",
    "                if isinstance(value, str) and value.startswith('/'):\n",
    "                    value = value[1:]\n",
    "                result[key] = value\n",
    "            else:\n",
    "                result[key] = val\n",
    "    return result"
   ]
  },
  {
   "cell_type": "code",
   "execution_count": 18,
   "metadata": {
    "height": 268
   },
   "outputs": [],
   "source": [
    "# Step 6: OpenAI LLM call for JSON extraction from raw text\n",
    "def get_llm_response(prompt):\n",
    "    completion = client.chat.completions.create(\n",
    "        model=\"gpt-4o-mini\",\n",
    "        messages=[\n",
    "            {\n",
    "                \"role\": \"system\",\n",
    "                \"content\": \"You are an AI assistant.\", \n",
    "            },\n",
    "            {\"role\": \"user\", \"content\": prompt},\n",
    "        ],\n",
    "        temperature=0.0, # change this to a value between 0 and 2\n",
    "    )\n",
    "    response = completion.choices[0].message.content\n",
    "    return response"
   ]
  },
  {
   "cell_type": "code",
   "execution_count": 19,
   "metadata": {
    "height": 708
   },
   "outputs": [],
   "source": [
    "# Step 7: Convert PDF text to JSON using LLM with given fields\n",
    "def parse_pdf_to_json(file_path):\n",
    "    form_fields = extract_pdf_form_fields(file_path)\n",
    "    raw_text = extract_text_from_pdf(file_path)\n",
    "\n",
    "    # Convert form fields dictionary into a string representation for the prompt\n",
    "    form_fields_str = \"\\n\".join([f\"{k}: {v}\" for k,v in form_fields.items()])\n",
    "\n",
    "    prompt = f\"\"\"\n",
    "You are a document parser. Your task is to convert the provided PDF text and form data\n",
    "into structured JSON.\n",
    "\n",
    "Rules:\n",
    "\n",
    "1. Include all fields in the output JSON, even if their value is empty or null.\n",
    "2. For checkboxes or radio buttons:\n",
    "   -Include only the items that are selected (marked with '✔' or similar).\n",
    "   - If no items in a checkbox/radio group are selected, set the field to null.\n",
    "   - Do NOT output boolean true/false for unselected items.\n",
    "   - Extract only the items that are marked as selected, indicated by a leading '✔' or similar mark.\n",
    "    - Ignore items without any selection mark.\n",
    "    - If no items are selected in a checklist, set it to null.\n",
    "\n",
    "3. Split full names into 'FirstName' and 'LastName' if possible.\n",
    "4. Group logically related fields together.\n",
    "5. Output valid JSON only. No explanation, no extra text.\n",
    "6.Extract data if it is split into two coloumns and/or numbered columns data\n",
    "\n",
    "Here are the filled form fields (checkboxes, radios, etc.):\n",
    "\n",
    "{form_fields_str}\n",
    "\n",
    "Here is the extracted text from the PDF:\n",
    "\n",
    "{raw_text}\n",
    "\"\"\"\n",
    "\n",
    "    json_output = get_llm_response(prompt)\n",
    "    return json_output\n"
   ]
  },
  {
   "cell_type": "code",
   "execution_count": 21,
   "metadata": {
    "height": 285
   },
   "outputs": [
    {
     "name": "stdout",
     "output_type": "stream",
     "text": [
      "(cid:144)(cid:133)(cid:6)(cid:129)(cid:143)(cid:143)(cid:135)(cid:130)(cid:135))(cid:140)(cid:6)(cid:137)(cid:132)(cid:134)+(cid:135)((cid:132)(cid:6)(cid:129)(cid:143)(cid:6)((cid:138)(cid:132)(cid:6)(cid:145)(cid:133)(cid:135)((cid:132)(cid:136)(cid:6)’()((cid:132)+(cid:6)(cid:146)(cid:129)(cid:147)(cid:132)(cid:148)(cid:133)(cid:131)(cid:132)(cid:133)((cid:149)(cid:150)(cid:151)(cid:150)(cid:152)(cid:153)(cid:6)(cid:154)(cid:155)(cid:156)(cid:6)(cid:157)(cid:155)(cid:158)(cid:6)(cid:159)(cid:160)(cid:155)(cid:156)\n",
      "(cid:0)(cid:2)(cid:3)(cid:4)(cid:5)(cid:2)(cid:6)(cid:7)(cid:8)(cid:6)(cid:9)(cid:10)(cid:11)(cid:2)(cid:12)(cid:13)(cid:3)(cid:14)(cid:6)(cid:5)(cid:10)(cid:11)(cid:6)(cid:15)(cid:4)(cid:16)(cid:2)(cid:3)(cid:17)(cid:13)(cid:14)\n",
      "(cid:18)(cid:19)(cid:15)(cid:19)(cid:6)(cid:20)(cid:4)(cid:21)(cid:5)(cid:3)(cid:13)(cid:22)(cid:4)(cid:10)(cid:13)(cid:6)(cid:7)(cid:8)(cid:6)(cid:23)(cid:7)(cid:22)(cid:22)(cid:4)(cid:3)(cid:16)(cid:4)\n",
      ",-./01213(cid:6)4(cid:6)5//6-713(cid:6)89,-:3;2;-:<\n",
      "’()(*+(cid:6)\n",
      "(cid:24)(cid:25),F (cid:26) G=H (cid:27) G>IG?(cid:28) J@(cid:29) KAG (cid:6)?(cid:30) (cid:6)L(cid:6);M (cid:31)>N BO=! GCI \"D#@?!E=(cid:6)$>(cid:26)(cid:26)%(cid:31) &(cid:29)(cid:31)(cid:27)\"\n",
      "<07PQRP\n",
      "ST(cid:6)UVJWXKW(cid:6)YGIZVJ(cid:6)[\\]IZW(cid:6)LXNG^(cid:6)_XZW(cid:6)LXNG‘\n",
      "<abccbd(cid:6)7deEC@c\n",
      "fT(cid:6)gGhGijVJG(cid:6)LMNOGI nT(cid:6)\\Xo(cid:6)LMNOGI\n",
      "kRPlPPRQmR 4\n",
      "pNX]h\n",
      "qabccbdrsdeEC@ctADAbcbA?C=>EAqruq\n",
      "vT(cid:6)UIGXW]VJ(cid:6)wXWG\n",
      "PQ9RP9lPlQ\n",
      "xT(cid:6)gyiG(cid:6)VH(cid:6)ziih]KXW]VJ\n",
      "1{|=C?(cid:6)0EAb>qb(cid:6)5||cEA@?E=>\n",
      "~(cid:127)(cid:6)(cid:128)(cid:129)(cid:130)*(cid:131)(cid:132)(cid:133)(+(cid:6)+*(cid:134)(cid:131)(cid:135)(((cid:132)(cid:136)(cid:6)(cid:137)(cid:135)((cid:138)(cid:6))(cid:139)(cid:139)(cid:140)(cid:135)(cid:130))((cid:135)(cid:129)(cid:133) (cid:142)(cid:127)(cid:6)(cid:128)(cid:129)(cid:130)*(cid:131)(cid:132)(cid:133)(+(cid:6)(cid:129)(cid:133)(cid:6)(cid:143)(cid:135)(cid:140)(cid:132)(cid:6)(cid:137)(cid:135)((cid:138)(cid:6))(cid:139)(cid:139)(cid:140)(cid:135)(cid:130))(cid:133)(\n",
      "3=AuDb>?(cid:6),abA}cEq?\n",
      "(cid:181) ¡¢£⁄¥ƒ(cid:6)§ƒ¤'“(cid:6)«‹§›fifl(cid:176)–†fi‡· ‹§›fifl„„\n",
      "¡¶•(cid:6)‚“¤¥“(cid:6)«‹§›fifl(cid:176)–†fi‹· ˆ¤ƒƒ¤¥(cid:6)⁄‰(cid:6)‡““(cid:201)¥¿¶(cid:190)¤\n",
      "‹§›fifl„„ §'£⁄¥ƒ”¡¶•fi‚“¤¥(cid:6)»¤¥ƒ…‰…(cid:190)¿ƒ¤\n",
      "(cid:181) §'£⁄¥ƒ”¡¶•fi‚“¤¥(cid:6)»¤¥ƒ…‰…(cid:190)¿ƒ¤ ˚(cid:201)(cid:190)´¤¿¥(cid:6)»¤¥ƒ…‰…(cid:190)¿ƒ…⁄¶\n",
      "(cid:192)¤(cid:190)`¶…(cid:190)¿´(cid:6)›£¤(cid:190)…‰…(cid:190)¿ƒ…⁄¶\n",
      "(cid:141)WjGI\n",
      "ˆ¤ƒƒ¤¥(cid:6)⁄‰(cid:6)¡¢£´¿¶¿ƒ…⁄¶ 4\n",
      "˜⁄¥¤…¯¶(cid:6)‡˘¿…´¿˙…´…ƒ¨\n",
      "(cid:141)WjGI\n",
      "(cid:0)(cid:2)(cid:3)(cid:4)(cid:5)(cid:6)(cid:7)(cid:8)(cid:9)(cid:10)(cid:3)(cid:11)(cid:8)(cid:3)\n",
      "(cid:12)(cid:19)(cid:20)(cid:13)(cid:9)(cid:21)(cid:4)(cid:22)(cid:8)(cid:23)(cid:14)(cid:24)(cid:25)(cid:7)(cid:26)(cid:8)(cid:27)(cid:9)(cid:28)(cid:9)(cid:15)(cid:29)(cid:14)(cid:30)(cid:22)(cid:16)(cid:31)(cid:10) (cid:3)(cid:23)(cid:17)(cid:6)(cid:18)(cid:13)(cid:10)(cid:14)\n",
      "!\n",
      "\"#(cid:20)(cid:9)$(cid:23) (cid:29)%&(cid:25) (cid:25)(cid:31)’(cid:9)()* \"\"(cid:20)(cid:9)$(cid:23)(cid:22)(cid:27)(cid:26)(cid:24)(cid:23)&(cid:23)’+(cid:9),(cid:25)(cid:24)(cid:23)’ (cid:23)(cid:9)*(cid:29)&%(cid:23)(cid:30)\n",
      "! !\n",
      "\"-(cid:20)(cid:9).&(cid:22)(cid:31)(cid:30)+(cid:9))(cid:23)(cid:30)+(cid:25)/(cid:25)(cid:24)(cid:26)+(cid:23)(cid:9))(cid:31)(cid:29)’+(cid:30)0 .&(cid:22)(cid:31)(cid:30)+(cid:9))(cid:23)(cid:30)+(cid:25)/(cid:25)(cid:24)(cid:26)+(cid:23)(cid:9)*(cid:29)&%(cid:23)(cid:30)\n",
      "! !\n",
      "\"3(cid:20)(cid:9)).*(cid:9)4((cid:22)(cid:22)(cid:27)(cid:25)(cid:24)(cid:26)’+(cid:9).56 ((cid:22)(cid:22)(cid:27)(cid:25)(cid:24)(cid:26)’+\n",
      "1(cid:0)(cid:0)2(cid:13)(cid:4)(cid:6)(cid:14)(cid:18)(cid:9)(cid:15)(cid:14)(cid:16)(cid:10)(cid:3)(cid:17)(cid:6)(cid:18)(cid:13)(cid:10)(cid:14)\n",
      "789:;8< 7=7(cid:9)>2(cid:8)(cid:4)(cid:18)(cid:3)(cid:10)(cid:14)(cid:13)(cid:4)(cid:7)(cid:9)1(cid:2)(cid:3)(cid:10)(cid:3)(cid:6)?(cid:9)(cid:12)(cid:12)7\n",
      "(@@(cid:30)(cid:23) (cid:9)\" (@@(cid:30)(cid:23) (cid:9)H\n",
      "AB(cid:9)CD(cid:9)E(cid:2)F(cid:6)(cid:14)(cid:9)G(cid:10)(cid:6)(cid:11) !\n",
      ")(cid:25)+0 )(cid:31)(cid:29)’+(cid:30)0\n",
      "I(cid:2)F(cid:6)(cid:3)(cid:9)J(cid:3)(cid:10)K(cid:8) LC(cid:15)M>E(cid:9)IM1M>I\n",
      "(cid:21)+(cid:26)+(cid:23)N(cid:28)(cid:30)(cid:31)O(cid:25)’(cid:24)(cid:23) (cid:28)(cid:31) +(cid:26)(cid:27)(cid:9))(cid:31)@(cid:23)\n",
      "(cid:15)22(cid:13)(cid:14)(cid:10)(cid:13)(cid:7) P9<<B\n",
      "Q.*\n",
      ";P;<9;<R:\n",
      "\"V(cid:20)(cid:9)W+X(cid:23)(cid:30)(cid:9)(cid:28)(cid:26)(cid:30)+0(cid:9).5 W+X(cid:23)(cid:30)(cid:9)(cid:28)(cid:26)(cid:30)+0\n",
      "S(cid:18)(cid:5)(cid:8)(cid:3)(cid:9)T(cid:6)(cid:3)(cid:18)U(cid:9)(cid:15)(cid:14)(cid:16)(cid:10)(cid:3)(cid:17)(cid:6)(cid:18)(cid:13)(cid:10)(cid:14)\n",
      "! !\n",
      "(@@(cid:30)(cid:23) (cid:9)\" (@@(cid:30)(cid:23) (cid:9)H\n",
      "! !\n",
      "(cid:0)(cid:2)(cid:3)(cid:4) (cid:0)(cid:6)(cid:7)(cid:8)(cid:3)(cid:9)(cid:4)\n",
      "(cid:5) (cid:5)\n",
      "(cid:10)(cid:3)(cid:11)(cid:3)(cid:12)(cid:13)(cid:14)(cid:9)(cid:6)(cid:15)(cid:2)(cid:8)(cid:16)(cid:12) (cid:14)(cid:6)(cid:17)(cid:3)(cid:11)(cid:18)(cid:19)(cid:0)(cid:6)(cid:20)(cid:12)\n",
      "(cid:5) (cid:5)\n",
      "(cid:21)(cid:12)(cid:18)(cid:12)(cid:22)(cid:23)(cid:6)(cid:8)(cid:12)(cid:19)(cid:6)(cid:9)(cid:19)(cid:24)(cid:11)(cid:25)\n",
      "(cid:5)\n",
      "(cid:26)(cid:27)(cid:19)(cid:28)(cid:29)(cid:19)(cid:30)(cid:31) (cid:19)(cid:26)!\"(cid:19)(cid:26)(cid:19)#$!%&(cid:19)’(cid:26)!&(cid:30)(cid:19)% ()$&&\"!(cid:19)(cid:26)*+(cid:19),$--(cid:19)(\"(cid:19)&.\"(cid:19)’!$*/$0(cid:26)-(cid:19)’(cid:26)!&(cid:30)(cid:19)$*(cid:19)(cid:28)*&\"!\"%&(cid:19) %$*1(cid:19)&.$%\n",
      "-$/\"*%\"2(cid:19)*(cid:31)&\"(cid:19)&.(cid:26)&2(cid:19)$*(cid:19)&.\"(cid:19)\"-\"/&!(cid:31)*$/(cid:19)\"*3$!(cid:31)*)\"*&2(cid:19)&.$%(cid:19)(-(cid:31)/4(cid:19)+(cid:31)\"%(cid:19)*(cid:31)&(cid:19)(cid:29) */&$(cid:31)*(cid:19)&(cid:31)(cid:19)%\"*+(cid:19)(cid:26)(cid:19)-$/\"*%\"\n",
      "&(cid:31)(cid:19)(cid:26)*(cid:30)(cid:19)(cid:31)&.\"!(cid:19)$*&\"!\"%&\"+(cid:19)0(cid:26)!&(cid:30)2(cid:19)(cid:26)*+(cid:19)*(cid:31)(cid:19)(cid:31)&.\"!(cid:19)$*&\"!\"%&\"+(cid:19)0(cid:26)!&(cid:30)(cid:19),$--(cid:19)(cid:26)00\"(cid:26)!(cid:19)(cid:31)*(cid:19)&.\"(cid:19)-$/\"*%\"5\n",
      "(cid:28)(cid:29)(cid:19)(cid:30)(cid:31) (cid:19),$%.(cid:19)(cid:26)*(cid:31)&.\"!(cid:19)0(cid:26)!&(cid:30)(cid:19)&(cid:31)(cid:19)(\"(cid:19)(cid:26) &.(cid:31)!$6\"+(cid:19)&(cid:31)(cid:19)+$%/ %%(cid:19)&.$%(cid:19)-$/\"*%\"2(cid:19)0-\"(cid:26)%\"(cid:19)\"*&\"!(cid:19)&.\"(cid:19)$*(cid:29)(cid:31)!)(cid:26)&$(cid:31)*\n",
      "$*(cid:19)7-(cid:31)/4(cid:19)89(cid:19):;++$&$(cid:31)*(cid:26)-(cid:19)(cid:28)*(cid:29)(cid:31)!)(cid:26)&$(cid:31)*(cid:27)(cid:19)(cid:26)*+(cid:19)*(cid:26))\"(cid:19)%0\"/$(cid:29)$/(cid:19)$*+$3$+ (cid:26)-%5\n",
      "((cid:27)(cid:19)(cid:28)(cid:29)(cid:19)(cid:30)(cid:31) (cid:19)*\"\"+(cid:19)&(cid:31)(cid:19)(cid:26)++(cid:19)(cid:26)*(cid:30)(cid:19)0(cid:26)!&(cid:30)(cid:19)&(cid:31)(cid:19)(\"(cid:19)(cid:26) &.(cid:31)!$6\"+(cid:19) *+\"!(cid:19)&.\"(cid:19)-$/\"*%\"2(cid:19)( &(cid:19)(cid:29)(cid:31)!(cid:19),.(cid:31))(cid:19)&.\"!\"(cid:19)$%(cid:19)*(cid:31)\n",
      "(cid:26)3(cid:26)$-(cid:26)(-\"(cid:19)(cid:29)$\"-+(cid:19):% /.(cid:19)(cid:26)%(cid:19)(cid:26)(cid:19)%\"/(cid:31)*+(cid:19)(cid:28)*&\"!)\"+$(cid:26)&\"(cid:19)<(cid:31)*%$1*\"\"(cid:27)2(cid:19)-$%&(cid:19)&.(cid:26)&(cid:19)0(cid:26)!&(cid:30)(cid:19)$*(cid:19)7-(cid:31)/4(cid:19)=>(cid:19):?*+(cid:19)@%\"!\n",
      "(cid:28)*(cid:29)(cid:31)!)(cid:26)&$(cid:31)*(cid:27)2(cid:19)\"3\"*(cid:19)$(cid:29)(cid:19)&.\"(cid:30)(cid:19)(cid:26)!\"(cid:19)*(cid:31)&(cid:19)(cid:26)*(cid:19)?*+(cid:19)@%\"!2(cid:19)(cid:26)*+(cid:19)\"A0-(cid:26)$*(cid:19)&.\"$!(cid:19)!(cid:31)-\"(cid:19)$*(cid:19)&.\"(cid:19)&!(cid:26)*%(cid:26)/&$(cid:31)*(cid:19)$*(cid:19)7-(cid:31)/4\n",
      "89(cid:19):;++$&$(cid:31)*(cid:26)-(cid:19)(cid:28)*(cid:29)(cid:31)!)(cid:26)&$(cid:31)*(cid:27)2(cid:19)(cid:31)!(cid:19)$*(cid:19)(cid:26)*(cid:19)(cid:26)&&(cid:26)/.\"+(cid:19)B\"&&\"!(cid:19)(cid:31)(cid:29)(cid:19)?A0-(cid:26)*(cid:26)&$(cid:31)*5\n",
      "RST(cid:19)(cid:14)(cid:7)(cid:9)(cid:16)(cid:23)(cid:11)(cid:17)(cid:12)(cid:9)\n",
      "CDEFGHIJE(cid:19)KLMNEOHPQNL\n",
      "CKUVWXY(cid:19)VKZ[ZV\\W(cid:19)UK]KW^_\n",
      "‘(cid:20)(cid:20)(cid:9)(cid:12)(cid:17)(cid:17)(cid:19)R ‘(cid:20)(cid:20)(cid:9)(cid:12)(cid:17)(cid:17)(cid:19)c\n",
      "CQaHPDIIPEHIIJ(cid:19)b (cid:5)\n",
      "(cid:0)(cid:2)(cid:3)(cid:4) (cid:0)(cid:6)(cid:7)(cid:8)(cid:3)(cid:9)(cid:4)\n",
      "YWVdY YeKWf^ZUVd_\n",
      "(cid:10)(cid:3)(cid:11)(cid:3)(cid:12)(cid:13)(cid:14)(cid:9)(cid:6)(cid:15)(cid:2)(cid:8)(cid:16)(cid:12) (cid:14)(cid:6)(cid:17)(cid:3)(cid:11)(cid:18)(cid:19)(cid:0)(cid:6)(cid:20)(cid:12)\n",
      "(cid:5) ghij\n",
      "(cid:21)(cid:12)(cid:18)(cid:12)(cid:22)(cid:23)(cid:6)(cid:8)(cid:12)(cid:19)(cid:6)(cid:9)(cid:19)(cid:24)(cid:11)(cid:25)\n",
      "(cid:5)\n",
      "RmT(cid:19)n(cid:8)(cid:3)(cid:12)(cid:9)o(cid:12)(cid:20)(cid:2)(cid:11)(cid:3)(cid:12)(cid:19)(cid:0)(cid:6)(cid:8)(cid:17)(cid:2)p(cid:8)(cid:12)(cid:12)\n",
      "KLPJEOJkQHPJ(cid:19)[NLIQlLJJ(cid:19)KLMNEOHPQNL\n",
      "qJaaOHLL(cid:19)eNEakrQkJ(cid:19)UNlQIPQFI(cid:19)Vs\n",
      "(cid:0)(cid:2)(cid:2)(cid:3)(cid:4)(cid:5)(cid:5)(cid:6)(cid:7) (cid:0)(cid:2)(cid:2)(cid:3)(cid:4)(cid:5)(cid:5)(cid:6)(cid:20)\n",
      "(cid:8)(cid:9)(cid:10)(cid:11)(cid:12)(cid:13)(cid:14)(cid:15)(cid:10)(cid:16)(cid:17)(cid:9)(cid:16)(cid:13)(cid:17)(cid:17)(cid:10)(cid:6)(cid:18)(cid:19) (cid:21)\n",
      "(cid:22)(cid:23)(cid:24)(cid:25) (cid:22)(cid:29)(cid:30)(cid:31)(cid:24)(cid:3)(cid:25)\n",
      "(cid:26)(cid:27)(cid:28)(cid:9)(cid:10)(cid:12) (cid:8) !\"#$%&’()\n",
      "*(cid:24)+(cid:24)(cid:4),-(cid:3)(cid:29).(cid:23)(cid:31)/(cid:4) -(cid:29)(cid:5)(cid:24)+1(cid:6)(cid:22)(cid:29)(cid:2)(cid:4)\n",
      "#0 (cid:19)23(cid:18)\n",
      "4(cid:4)1(cid:4)56(cid:29)(cid:31)(cid:4)(cid:6)(cid:29)(cid:3)(cid:6)7+8\n",
      "(cid:21)\n",
      "9(cid:7)>(cid:27)?(cid:9)(cid:6)@(cid:11):1(cid:24)(cid:23)A(cid:13)+(cid:9)(cid:24)(cid:10)(cid:4)(cid:6)(cid:6)(cid:22);(cid:29)(cid:28)(cid:31)(cid:5)(cid:12)(cid:23)B(cid:17)(cid:31)(cid:11)(cid:4)<(cid:4)(cid:12)(cid:10)(cid:10)(cid:6)!(cid:12)=(cid:28)(cid:16):(cid:13)(cid:9)(cid:11)(cid:28)(cid:12)\n",
      "C!&’\"9(cid:8)(cid:6)’!%;%’D\"(cid:6)&!E!\"$)\n",
      "(cid:0)(cid:2)(cid:2)(cid:3)(cid:4)(cid:5)(cid:5)(cid:6)(cid:7) (cid:0)(cid:2)(cid:2)(cid:3)(cid:4)(cid:5)(cid:5)(cid:6)(cid:20)\n",
      "C(cid:11)(cid:27)(cid:13)(cid:9)F(cid:17)(cid:17)(cid:9)(cid:16)(cid:13)(cid:17)(cid:17)(cid:10)(cid:6)G (cid:21)\n",
      "(cid:22)(cid:23)(cid:24)(cid:25) (cid:22)(cid:29)(cid:30)(cid:31)(cid:24)(cid:3)(cid:25)\n",
      "(cid:8)\"’((cid:8) (cid:8) !\"#$%&’()\n",
      "*(cid:24)+(cid:24)(cid:4),-(cid:3)(cid:29).(cid:23)(cid:31)/(cid:4) -(cid:29)(cid:5)(cid:24)+1(cid:6)(cid:22)(cid:29)(cid:2)(cid:4)\n",
      "(cid:21) H2I3\n",
      "4(cid:4)1(cid:4)56(cid:29)(cid:31)(cid:4)(cid:6)(cid:29)(cid:3)(cid:6)7+8\n",
      "(cid:21)\n",
      "$(cid:12)GVJW(cid:6)9(cid:17)(cid:10)(cid:16)(cid:6)!(cid:12)=(cid:28)(cid:16):(cid:13)(cid:9)(cid:11)(cid:28)(cid:12)\n",
      "’JJ(cid:16)(cid:10)(cid:17)(cid:17) ’JJ(cid:16)(cid:10)(cid:17)(cid:17) C(cid:28)(cid:17)(cid:9)(cid:13)(cid:27) \"(cid:10)(cid:27)(cid:10)YZ(cid:28)(cid:12)(cid:10)\n",
      "$(cid:12)J ;(cid:11)(cid:9)X ;(cid:28)F(cid:12)(cid:9)(cid:16)X\n",
      "&(cid:11)(cid:12)(cid:10)(cid:6)G &(cid:11)(cid:12)(cid:10)(cid:6)(cid:18) ;(cid:28)J(cid:10) (cid:28)(cid:16)(cid:6)D(cid:13)[\n",
      "9(cid:17)(cid:10)(cid:16)\n",
      "KL(cid:6)MNOPQ(cid:6)RLSTU\n",
      "(cid:0)(cid:13)(cid:14)(cid:2)(cid:15)(cid:7)(cid:16)(cid:3)(cid:17)(cid:4)(cid:18)(cid:5)(cid:19)(cid:6)(cid:20)(cid:5)(cid:21)(cid:20)(cid:4)(cid:19)(cid:7)(cid:7)(cid:22)(cid:8)(cid:23)(cid:9)(cid:24)(cid:10)(cid:7)(cid:25)(cid:7)(cid:26)(cid:11)(cid:18)(cid:12)(cid:3)\n",
      "(cid:27)(cid:28)(cid:3)(cid:7)(cid:29)(cid:30)(cid:5)(cid:31)(cid:9)(cid:5)(cid:4)(cid:12)(cid:7)(cid:3) !(cid:5)(cid:2)\"(cid:3)(cid:9)#(cid:7)(cid:12)!$%(cid:3)(cid:4)#(cid:7)#(cid:31)(cid:7)#(cid:28)(cid:5)(cid:12)(cid:7)&(cid:5)(cid:4)(cid:3)(cid:9)(cid:12)(cid:3)(cid:7)’(cid:5)&&(cid:7)$(cid:3)(cid:7)(cid:10)(cid:3)&(cid:5)(cid:30)(cid:3)((cid:3)(cid:10)(cid:7)#(cid:31)(cid:7))(cid:5)&(cid:29)#!(cid:12)(cid:7)*(cid:5)((cid:4)((cid:29)(cid:6)#(cid:7)\n",
      "+(cid:5)\"(cid:5)#(cid:3)(cid:10)(cid:7)(cid:6)(cid:31)((cid:7)!(cid:12)(cid:3)(cid:7)(cid:5)(cid:9)(cid:7)#(cid:3)(cid:12)#(cid:5)(cid:9),(cid:7)(cid:31)(cid:9)(cid:7)(cid:5)#(cid:12)(cid:7))-./0(cid:7)#((cid:29)(cid:5)(cid:9)(cid:3)((cid:7)(cid:29)(cid:5)((cid:4)((cid:29)(cid:6)#1(cid:7)\n",
      "(cid:8)2(cid:2)(cid:31)(#(cid:7)3#(cid:3)\"(cid:7)3(cid:9)(cid:6)(cid:31)(\"(cid:29)#(cid:5)(cid:31)(cid:9)\n",
      "445(cid:7)6789:;(cid:7)<;=>(cid:7)?@\n",
      "ABC(cid:7)(cid:22)DDE AIC(cid:7)JKK A(cid:19)C(cid:7)KLM(cid:24)N(cid:19)OPQM(cid:24)(cid:18)R(cid:7)ENSI(cid:18)L A(cid:24)C(cid:7)DDJT(cid:16)(cid:7)ENSI(cid:18)L\n",
      "F*G0H . . .\n",
      "A(cid:18)C(cid:7)UNB(cid:23)O(cid:20)OV A(cid:21)C(cid:7)(cid:25)(cid:23)(cid:20)O(cid:26) AWC(cid:7)(cid:25)(cid:23)(cid:20)O(cid:7)KL(cid:20)(cid:19)(cid:18) A[C(cid:7)TMOBR(cid:7)KL(cid:20)(cid:19)(cid:18) A(cid:20)C(cid:7)QB(cid:23)N(cid:21)B(cid:19)ONL(cid:18)L\n",
      "0 (cid:3)(cid:29)(cid:4)(cid:28) XYH0Z XYH0Z -\\-(cid:7)(cid:8)&(cid:3)(cid:4)#((cid:31)(cid:9)(cid:5)(cid:4)(cid:12)(cid:7)\n",
      "*!((cid:31)((cid:29)\n",
      "A]C(cid:7)T(cid:18)(cid:19)[(cid:23)(cid:20)(cid:19)BR(cid:7)^(cid:18)(cid:26)(cid:19)L(cid:20)(cid:17)O(cid:20)M(cid:23)\n",
      "_(cid:10)(cid:5),(cid:5)#(cid:29)&(cid:7)‘(cid:11)ab(cid:7)$(cid:31)((cid:3)(cid:12)(cid:5),(cid:28)#(cid:7)\"(cid:31)(cid:10)!&(cid:3)\n",
      "445(cid:7)6789:;(cid:7)<;=>(cid:7)?4\n",
      "ABC(cid:7)(cid:22)DDE AIC(cid:7)JKK A(cid:19)C(cid:7)KLM(cid:24)N(cid:19)OPQM(cid:24)(cid:18)R(cid:7)ENSI(cid:18)L A(cid:24)C(cid:7)DDJT(cid:16)(cid:7)ENSI(cid:18)L\n",
      "F*G0H . . .\n",
      "A(cid:18)C(cid:7)UNB(cid:23)O(cid:20)OV A(cid:21)C(cid:7)(cid:25)(cid:23)(cid:20)O(cid:26) AWC(cid:7)(cid:25)(cid:23)(cid:20)O(cid:7)KL(cid:20)(cid:19)(cid:18) A[C(cid:7)TMOBR(cid:7)KL(cid:20)(cid:19)(cid:18) A(cid:20)C(cid:7)QB(cid:23)N(cid:21)B(cid:19)ONL(cid:18)L\n",
      "0 (cid:3)(cid:29)(cid:4)(cid:28) XcYHdH XcYHdH -\\-(cid:7)(cid:8)+(cid:8)-(cid:27)efg3-(cid:0)(cid:7)\n",
      "*(cid:11)efe*\n",
      "A]C(cid:7)T(cid:18)(cid:19)[(cid:23)(cid:20)(cid:19)BR(cid:7)^(cid:18)(cid:26)(cid:19)L(cid:20)(cid:17)O(cid:20)M(cid:23)\n",
      "_(cid:10)(cid:5),(cid:5)#(cid:29)&(cid:7)‘(cid:11)ab(cid:7)$(cid:31)((cid:3)(cid:12)(cid:5),(cid:28)#(cid:7)#(cid:31)(cid:31)&\n",
      "(cid:0)(cid:17)(cid:18)(cid:2)(cid:19)(cid:6)(cid:3)(cid:20)(cid:4)(cid:21)(cid:22)(cid:5)(cid:23)(cid:6)(cid:7)(cid:24)(cid:6)(cid:25)(cid:8)(cid:26)(cid:26)(cid:8)(cid:24)(cid:27)(cid:5)(cid:28)(cid:9)(cid:23)(cid:10)(cid:22)(cid:27)(cid:4)(cid:21)(cid:29)(cid:3)(cid:6)(cid:9)(cid:30)(cid:2)(cid:21)(cid:11)(cid:24)(cid:24)(cid:6)(cid:23)(cid:12)(cid:31)(cid:6)(cid:2) (cid:23)(cid:5)(cid:24)(cid:5)!(cid:4)\"(cid:13)(cid:6)(cid:14)(cid:4)(cid:5)(cid:15)(cid:16)\n",
      "#$%&’()*’’\n",
      "(cid:7)(cid:17)/+(cid:19)(cid:6)(cid:25)+0(cid:9)0(cid:3)(cid:27)(cid:9)(cid:22)(cid:2)(cid:27)(cid:21)(cid:11)(cid:29)(cid:23)(cid:4)(cid:24)(cid:6)(cid:5)1(cid:29)(cid:6),2(cid:11)(cid:21)(cid:31)-3(cid:2)(cid:23)(cid:13)(cid:22).(cid:27)(cid:21)(cid:29)(cid:4)(cid:3)(cid:9)(cid:2)(cid:11)\n",
      "4\n",
      "(cid:12)(cid:2)(cid:10)(cid:15).(cid:16)(cid:11)(cid:3)5(cid:6)(cid:4)(cid:3)(cid:3)(cid:4)(cid:10)6(cid:16)+(cid:6)(cid:3)(cid:2)(cid:6)(cid:4)(cid:8)(cid:8)(cid:5)(cid:9)(cid:10)(cid:4)(cid:3)(cid:9)(cid:2)(cid:11)\n",
      "(cid:0)(cid:9)(cid:3)(cid:5)(cid:16) (cid:7)(cid:15)(cid:3)6(cid:2)(cid:13) (cid:12)(cid:2)(cid:10)(cid:15).(cid:16)(cid:11)(cid:3)(cid:6)(cid:0)[(cid:8)(cid:16) (cid:14)(cid:9)(cid:16)_\n",
      "789(cid:6):;7 ?=@A@(cid:6)B@A9@C(cid:6)?DA=<:; I>J@F<KL89MN;7F\n",
      ";<=<7>78< EDFGF=H< O7F<DHDG=<7\n",
      "J@ JDA=<:; P<Q7F\n",
      "R(cid:6)@H(cid:6)R\n",
      "SU(cid:23)(cid:9)3T\"(cid:11)(cid:16)(cid:13)(cid:6),(cid:11)-(cid:2)(cid:13).(cid:4)(cid:3)(cid:9)(cid:2)(cid:11)\n",
      "S*(cid:14)VW,X(cid:7)Y\n",
      "(cid:20)(cid:27)(cid:22)(cid:24)\"\n",
      "(cid:3)(cid:13)(cid:4)+(cid:16)(cid:6)(cid:10)(cid:2).(cid:8)(cid:5)(cid:9)(cid:4)(cid:11)(cid:10)(cid:16)(cid:6).(cid:4)(cid:11)(cid:4)T(cid:16)(cid:13)\n",
      "Z3(cid:23)(cid:27)(cid:24)\n",
      "56(cid:16)(cid:5)(cid:5)(cid:16)[*\\[](cid:9)(cid:13)(cid:4)(cid:5)^(cid:10).(cid:10)(cid:16)(cid:5)(cid:16)(cid:10)(cid:3)(cid:13)(cid:2)(cid:11)(cid:9)(cid:10)5*(cid:15)5\n",
      "\n",
      "{}\n"
     ]
    },
    {
     "ename": "NameError",
     "evalue": "name 'pdf_text_to_json' is not defined",
     "output_type": "error",
     "traceback": [
      "\u001b[0;31m---------------------------------------------------------------------------\u001b[0m",
      "\u001b[0;31mNameError\u001b[0m                                 Traceback (most recent call last)",
      "Cell \u001b[0;32mIn[21], line 12\u001b[0m\n\u001b[1;32m      9\u001b[0m \u001b[38;5;28mprint\u001b[39m(form_fields)\n\u001b[1;32m     11\u001b[0m \u001b[38;5;66;03m# Convert raw text to JSON with LLM\u001b[39;00m\n\u001b[0;32m---> 12\u001b[0m extracted_json \u001b[38;5;241m=\u001b[39m \u001b[43mpdf_text_to_json\u001b[49m(raw_text)\n\u001b[1;32m     13\u001b[0m \u001b[38;5;28mprint\u001b[39m(\u001b[38;5;124m\"\u001b[39m\u001b[38;5;124m----- Extracted JSON from Text -----\u001b[39m\u001b[38;5;124m\"\u001b[39m)\n\u001b[1;32m     14\u001b[0m \u001b[38;5;28mprint\u001b[39m(extracted_json)\n",
      "\u001b[0;31mNameError\u001b[0m: name 'pdf_text_to_json' is not defined"
     ]
    }
   ],
   "source": [
    "# Step 8: Run everything and show combined result\n",
    "if file_path:\n",
    "    # Extract raw text\n",
    "    raw_text = extract_text_from_pdf(file_path)\n",
    "    print(raw_text)\n",
    "    \n",
    "    # Extract PDF interactive form fields\n",
    "    form_fields = extract_pdf_form_fields(file_path)\n",
    "    print(form_fields)\n",
    "\n",
    "    # Convert raw text to JSON with LLM\n",
    "    extracted_json = pdf_text_to_json(raw_text)\n",
    "    print(\"----- Extracted JSON from Text -----\")\n",
    "    print(extracted_json)\n",
    "else:\n",
    "    print(\"Please upload a PDF file above and rerun this cell.\")"
   ]
  },
  {
   "cell_type": "code",
   "execution_count": null,
   "metadata": {
    "height": 30
   },
   "outputs": [],
   "source": []
  }
 ],
 "metadata": {
  "kernelspec": {
   "display_name": "Python 3 (ipykernel)",
   "language": "python",
   "name": "python3"
  },
  "language_info": {
   "codemirror_mode": {
    "name": "ipython",
    "version": 3
   },
   "file_extension": ".py",
   "mimetype": "text/x-python",
   "name": "python",
   "nbconvert_exporter": "python",
   "pygments_lexer": "ipython3",
   "version": "3.9.19"
  }
 },
 "nbformat": 4,
 "nbformat_minor": 2
}
