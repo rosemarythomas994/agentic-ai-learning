{
 "cells": [
  {
   "cell_type": "code",
   "execution_count": 103,
   "id": "b663f423",
   "metadata": {
    "height": 132
   },
   "outputs": [],
   "source": [
    "# Import necessary packages\n",
    "from pydantic import BaseModel, ValidationError, Field, EmailStr\n",
    "from typing import List, Literal, Optional\n",
    "import json\n",
    "from datetime import date\n",
    "from dotenv import load_dotenv\n",
    "import openai"
   ]
  },
  {
   "cell_type": "code",
   "execution_count": 104,
   "id": "831dfbb9",
   "metadata": {
    "height": 81
   },
   "outputs": [],
   "source": [
    "# Load environment variables for API access\n",
    "load_dotenv()\n",
    "# Initialize OpenAI client for API calls\n",
    "client = openai.OpenAI()"
   ]
  },
  {
   "cell_type": "code",
   "execution_count": 105,
   "id": "d0693378",
   "metadata": {
    "height": 132
   },
   "outputs": [],
   "source": [
    "# Define a function to call the LLM\n",
    "def call_llm(prompt, model=\"gpt-4o\"):\n",
    "    response = client.chat.completions.create(\n",
    "        model=model,\n",
    "        messages=[{\"role\": \"user\", \"content\": prompt}]\n",
    "    )\n",
    "    return response.choices[0].message.content"
   ]
  },
  {
   "cell_type": "code",
   "execution_count": null,
   "id": "073801ed",
   "metadata": {
    "height": 30
   },
   "outputs": [
    {
     "name": "stdout",
     "output_type": "stream",
     "text": [
      "Defaulting to user installation because normal site-packages is not writeable\n",
      "Requirement already satisfied: pdfplumber in /home/jovyan/.local/lib/python3.11/site-packages (0.11.7)\n",
      "Requirement already satisfied: pdfminer.six==20250506 in /home/jovyan/.local/lib/python3.11/site-packages (from pdfplumber) (20250506)\n",
      "Requirement already satisfied: Pillow>=9.1 in /usr/local/lib/python3.11/site-packages (from pdfplumber) (11.3.0)\n",
      "Requirement already satisfied: pypdfium2>=4.18.0 in /home/jovyan/.local/lib/python3.11/site-packages (from pdfplumber) (4.30.0)\n",
      "Requirement already satisfied: charset-normalizer>=2.0.0 in /usr/local/lib/python3.11/site-packages (from pdfminer.six==20250506->pdfplumber) (3.4.2)\n",
      "Requirement already satisfied: cryptography>=36.0.0 in /home/jovyan/.local/lib/python3.11/site-packages (from pdfminer.six==20250506->pdfplumber) (45.0.7)\n",
      "Requirement already satisfied: cffi>=1.14 in /usr/local/lib/python3.11/site-packages (from cryptography>=36.0.0->pdfminer.six==20250506->pdfplumber) (1.17.1)\n",
      "Requirement already satisfied: pycparser in /usr/local/lib/python3.11/site-packages (from cffi>=1.14->cryptography>=36.0.0->pdfminer.six==20250506->pdfplumber) (2.22)\n",
      "\n",
      "\u001b[1m[\u001b[0m\u001b[34;49mnotice\u001b[0m\u001b[1;39;49m]\u001b[0m\u001b[39;49m A new release of pip is available: \u001b[0m\u001b[31;49m25.1\u001b[0m\u001b[39;49m -> \u001b[0m\u001b[32;49m25.2\u001b[0m\n",
      "\u001b[1m[\u001b[0m\u001b[34;49mnotice\u001b[0m\u001b[1;39;49m]\u001b[0m\u001b[39;49m To update, run: \u001b[0m\u001b[32;49mpip3 install --upgrade pip\u001b[0m\n",
      "Note: you may need to restart the kernel to use updated packages.\n"
     ]
    }
   ],
   "source": [
    "pip install pdfplumber"
   ]
  },
  {
   "cell_type": "code",
   "execution_count": 107,
   "id": "fc27a153",
   "metadata": {
    "height": 302
   },
   "outputs": [
    {
     "name": "stdout",
     "output_type": "stream",
     "text": [
      "Sample Application Form (With Subject Selection)\n",
      "<b>Personal Information</b>\n",
      "First Name: rose mary thomas\n",
      "Last Name: thomas\n",
      "Date of Birth: 25/09/2000\n",
      "Gender: Male ☐ Female ■ Other ☐\n",
      "Email: sss@ggh.com\n",
      "Phone: 4566255\n",
      "<b>Educational Background</b>\n",
      "Highest Qualification: nnn\n",
      "University/College: jjjj\n",
      "Year of Passing: 2025\n",
      "<b>Subject Selection</b>\n",
      "Select Your Subjects (■ = selected, ☐= not selected):\n",
      "Select Your Subjects (■ = selected, ☐= not Option2\n",
      "selected):\n",
      "☐Mathematics ☐Physics\n",
      "■ Chemistry ■ Biology\n",
      "☐Computer Science ■ English\n",
      "■ History ☐Economics\n",
      "I hereby declare that the information provided above is true and correct to the best of my\n",
      "knowledge.\n",
      "Date: Signature:\n",
      "\n"
     ]
    }
   ],
   "source": [
    "import pdfplumber\n",
    "\n",
    "def extract_pdf_text_to_variable(pdf_path):\n",
    "    text_data = \"\"\n",
    "    with pdfplumber.open(pdf_path) as pdf:\n",
    "        for page in pdf.pages:\n",
    "            page_text = page.extract_text()\n",
    "            if page_text:\n",
    "                text_data += page_text + \"\\n\"\n",
    "    return text_data\n",
    "\n",
    "# Usage example\n",
    "pdf_file = \"form6.pdf\"   # Replace with your PDF file path\n",
    "md_text = extract_pdf_text_to_variable(pdf_file)\n",
    "\n",
    "print(md_text)  # Now pdf_text variable contains all the PDF text\n"
   ]
  },
  {
   "cell_type": "code",
   "execution_count": 108,
   "id": "6a163b7c",
   "metadata": {
    "height": 472
   },
   "outputs": [],
   "source": [
    "prompt = f\"\"\"You are a document parser extracting structured JSON dynamically.\n",
    "\n",
    "From the following text, extract all fields and values that are present.\n",
    "Instructions :\n",
    "1. Go through text data input shared below, which is textual representation of pdf document.\n",
    "2. Understand the file structure.\n",
    "3. Input may contain checkbox fields, understand how it is represented.\n",
    " For checklist fields:\n",
    "  - Include only the items that are marked as selected, indicated by a leading '✔', or 'n' or similar mark.\n",
    "  - Do NOT output boolean true/false flags for items.\n",
    "  - If no items are selected in a checklist, set that checklist field to null.\n",
    "  - if checkbox is under different column in table, keep it under that column name. You have follow the structure.\n",
    "\n",
    "Group related fields logically.\n",
    "\n",
    "Split full names into 'FirstName' and 'LastName' if possible.\n",
    "Output valid JSON only, with no explanation or extra text.\n",
    "\n",
    "Text to parse is given below inside <doc> tags:\n",
    "<docs>\n",
    " {md_text}\n",
    "</docs>\n",
    "\n",
    "Respond ONLY with valid JSON. Do not include any explanations or \n",
    "other text or formatting before or after the JSON object. \n",
    "Enclose final response inside <text></text> tags\"\"\"\n",
    "prompt_ = prompt.format(md_text=md_text)"
   ]
  },
  {
   "cell_type": "code",
   "execution_count": null,
   "id": "c0c36066",
   "metadata": {
    "height": 30
   },
   "outputs": [],
   "source": []
  },
  {
   "cell_type": "code",
   "execution_count": 109,
   "id": "773283ac",
   "metadata": {
    "height": 234
   },
   "outputs": [
    {
     "name": "stdout",
     "output_type": "stream",
     "text": [
      "{'EducationalBackground': {'HighestQualification': 'nnn',\n",
      "                           'UniversityOrCollege': 'jjjj',\n",
      "                           'YearOfPassing': '2025'},\n",
      " 'PersonalInformation': {'DateOfBirth': '25/09/2000',\n",
      "                         'Email': 'sss@ggh.com',\n",
      "                         'FirstName': 'rose mary',\n",
      "                         'Gender': 'Female',\n",
      "                         'LastName': 'thomas',\n",
      "                         'Phone': '4566255'},\n",
      " 'SubjectSelection': {'Subjects': ['Chemistry',\n",
      "                                   'Biology',\n",
      "                                   'English',\n",
      "                                   'History']}}\n",
      "dict_keys(['PersonalInformation', 'EducationalBackground', 'SubjectSelection'])\n"
     ]
    }
   ],
   "source": [
    "# Get response from LLM\n",
    "# print(prompt_)\n",
    "import re\n",
    "from pprint import pprint\n",
    "response_content = call_llm(prompt_)\n",
    "pattern = r'<text>(.*?)</text>'\n",
    "match = re.search(pattern, response_content, re.DOTALL)\n",
    "if match:\n",
    "    resp = json.loads(match.group(1))\n",
    "    pprint(resp)\n",
    "    print(resp.keys())\n",
    "else:\n",
    "    print(response_content)"
   ]
  }
 ],
 "metadata": {
  "kernelspec": {
   "display_name": "Python 3 (ipykernel)",
   "language": "python",
   "name": "python3"
  },
  "language_info": {
   "codemirror_mode": {
    "name": "ipython",
    "version": 3
   },
   "file_extension": ".py",
   "mimetype": "text/x-python",
   "name": "python",
   "nbconvert_exporter": "python",
   "pygments_lexer": "ipython3",
   "version": "3.11.3"
  }
 },
 "nbformat": 4,
 "nbformat_minor": 5
}
